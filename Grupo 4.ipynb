{
 "cells": [
  {
   "cell_type": "markdown",
   "id": "53007ea1",
   "metadata": {},
   "source": [
    "#### Importando bibliotecas"
   ]
  },
  {
   "cell_type": "code",
   "execution_count": 109,
   "id": "d5d81154",
   "metadata": {},
   "outputs": [],
   "source": [
    "from sklearn.model_selection import train_test_split, cross_val_score, cross_val_predict\n",
    "from sklearn.linear_model import LinearRegression\n",
    "from sklearn.ensemble import RandomForestRegressor\n",
    "\n",
    "import os\n",
    "import pandas as pd\n",
    "import matplotlib.pyplot as plt\n",
    "import datetime as dt\n",
    "import numpy as np\n"
   ]
  },
  {
   "cell_type": "markdown",
   "id": "92d5b3f0",
   "metadata": {},
   "source": [
    "#### Carregando dados"
   ]
  },
  {
   "cell_type": "code",
   "execution_count": 62,
   "id": "15b6d5ff",
   "metadata": {},
   "outputs": [
    {
     "data": {
      "text/html": [
       "<div>\n",
       "<style scoped>\n",
       "    .dataframe tbody tr th:only-of-type {\n",
       "        vertical-align: middle;\n",
       "    }\n",
       "\n",
       "    .dataframe tbody tr th {\n",
       "        vertical-align: top;\n",
       "    }\n",
       "\n",
       "    .dataframe thead th {\n",
       "        text-align: right;\n",
       "    }\n",
       "</style>\n",
       "<table border=\"1\" class=\"dataframe\">\n",
       "  <thead>\n",
       "    <tr style=\"text-align: right;\">\n",
       "      <th></th>\n",
       "      <th>Tipo_Titulo</th>\n",
       "      <th>Vencimento_do_Titulo</th>\n",
       "      <th>Data_Venda</th>\n",
       "      <th>PU</th>\n",
       "      <th>Quantidade</th>\n",
       "      <th>Valor</th>\n",
       "    </tr>\n",
       "  </thead>\n",
       "  <tbody>\n",
       "    <tr>\n",
       "      <th>63712</th>\n",
       "      <td>Tesouro Prefixado</td>\n",
       "      <td>2008-01-10</td>\n",
       "      <td>2008-07-03</td>\n",
       "      <td>939.463089</td>\n",
       "      <td>377.40</td>\n",
       "      <td>354553.36</td>\n",
       "    </tr>\n",
       "    <tr>\n",
       "      <th>37188</th>\n",
       "      <td>Tesouro IGPM+ com Juros Semestrais</td>\n",
       "      <td>2021-01-04</td>\n",
       "      <td>2002-01-15</td>\n",
       "      <td>774.870000</td>\n",
       "      <td>1.00</td>\n",
       "      <td>774.87</td>\n",
       "    </tr>\n",
       "    <tr>\n",
       "      <th>9179</th>\n",
       "      <td>Tesouro Prefixado com Juros Semestrais</td>\n",
       "      <td>2021-01-01</td>\n",
       "      <td>2011-08-02</td>\n",
       "      <td>855.047754</td>\n",
       "      <td>115.80</td>\n",
       "      <td>99014.52</td>\n",
       "    </tr>\n",
       "    <tr>\n",
       "      <th>60104</th>\n",
       "      <td>Tesouro IPCA+ com Juros Semestrais</td>\n",
       "      <td>2035-05-15</td>\n",
       "      <td>2008-01-08</td>\n",
       "      <td>1587.159259</td>\n",
       "      <td>5.40</td>\n",
       "      <td>8570.65</td>\n",
       "    </tr>\n",
       "    <tr>\n",
       "      <th>59901</th>\n",
       "      <td>Tesouro Prefixado com Juros Semestrais</td>\n",
       "      <td>2014-01-01</td>\n",
       "      <td>2008-07-17</td>\n",
       "      <td>838.280000</td>\n",
       "      <td>1.00</td>\n",
       "      <td>838.28</td>\n",
       "    </tr>\n",
       "    <tr>\n",
       "      <th>...</th>\n",
       "      <td>...</td>\n",
       "      <td>...</td>\n",
       "      <td>...</td>\n",
       "      <td>...</td>\n",
       "      <td>...</td>\n",
       "      <td>...</td>\n",
       "    </tr>\n",
       "    <tr>\n",
       "      <th>51478</th>\n",
       "      <td>Tesouro Prefixado</td>\n",
       "      <td>2008-01-01</td>\n",
       "      <td>2006-04-17</td>\n",
       "      <td>792.325000</td>\n",
       "      <td>7.20</td>\n",
       "      <td>5704.74</td>\n",
       "    </tr>\n",
       "    <tr>\n",
       "      <th>14633</th>\n",
       "      <td>Tesouro IPCA+ com Juros Semestrais</td>\n",
       "      <td>2026-08-15</td>\n",
       "      <td>2016-01-11</td>\n",
       "      <td>2999.816175</td>\n",
       "      <td>1085.22</td>\n",
       "      <td>3255460.50</td>\n",
       "    </tr>\n",
       "    <tr>\n",
       "      <th>41683</th>\n",
       "      <td>Tesouro IGPM+ com Juros Semestrais</td>\n",
       "      <td>2031-01-01</td>\n",
       "      <td>2003-10-12</td>\n",
       "      <td>2198.250000</td>\n",
       "      <td>13.00</td>\n",
       "      <td>28577.25</td>\n",
       "    </tr>\n",
       "    <tr>\n",
       "      <th>45469</th>\n",
       "      <td>Tesouro Prefixado</td>\n",
       "      <td>2005-01-07</td>\n",
       "      <td>2004-07-12</td>\n",
       "      <td>909.591309</td>\n",
       "      <td>392.40</td>\n",
       "      <td>356923.62</td>\n",
       "    </tr>\n",
       "    <tr>\n",
       "      <th>9381</th>\n",
       "      <td>Tesouro Prefixado</td>\n",
       "      <td>2012-01-01</td>\n",
       "      <td>2010-04-19</td>\n",
       "      <td>823.610235</td>\n",
       "      <td>576.40</td>\n",
       "      <td>474728.93</td>\n",
       "    </tr>\n",
       "  </tbody>\n",
       "</table>\n",
       "<p>66169 rows × 6 columns</p>\n",
       "</div>"
      ],
      "text/plain": [
       "                                  Tipo_Titulo Vencimento_do_Titulo Data_Venda  \\\n",
       "63712                       Tesouro Prefixado           2008-01-10 2008-07-03   \n",
       "37188      Tesouro IGPM+ com Juros Semestrais           2021-01-04 2002-01-15   \n",
       "9179   Tesouro Prefixado com Juros Semestrais           2021-01-01 2011-08-02   \n",
       "60104      Tesouro IPCA+ com Juros Semestrais           2035-05-15 2008-01-08   \n",
       "59901  Tesouro Prefixado com Juros Semestrais           2014-01-01 2008-07-17   \n",
       "...                                       ...                  ...        ...   \n",
       "51478                       Tesouro Prefixado           2008-01-01 2006-04-17   \n",
       "14633      Tesouro IPCA+ com Juros Semestrais           2026-08-15 2016-01-11   \n",
       "41683      Tesouro IGPM+ com Juros Semestrais           2031-01-01 2003-10-12   \n",
       "45469                       Tesouro Prefixado           2005-01-07 2004-07-12   \n",
       "9381                        Tesouro Prefixado           2012-01-01 2010-04-19   \n",
       "\n",
       "                PU  Quantidade       Valor  \n",
       "63712   939.463089      377.40   354553.36  \n",
       "37188   774.870000        1.00      774.87  \n",
       "9179    855.047754      115.80    99014.52  \n",
       "60104  1587.159259        5.40     8570.65  \n",
       "59901   838.280000        1.00      838.28  \n",
       "...            ...         ...         ...  \n",
       "51478   792.325000        7.20     5704.74  \n",
       "14633  2999.816175     1085.22  3255460.50  \n",
       "41683  2198.250000       13.00    28577.25  \n",
       "45469   909.591309      392.40   356923.62  \n",
       "9381    823.610235      576.40   474728.93  \n",
       "\n",
       "[66169 rows x 6 columns]"
      ]
     },
     "execution_count": 62,
     "metadata": {},
     "output_type": "execute_result"
    }
   ],
   "source": [
    "path = os.path.join('d:' + os.sep, 'Users', 'mateu', 'Downloads', 'VendasTesouroDireto (1).json')\n",
    "values = pd.read_json(path)\n",
    "df_data = pd.DataFrame(values)\n",
    "df_data['PU'] = df_data['PU'].str.replace(',', '.')\n",
    "df_data['Quantidade'] = df_data['Quantidade'].str.replace(',', '.')\n",
    "df_data['Valor'] = df_data['Valor'].str.replace(',', '.')\n",
    "df_data['PU'] = pd.to_numeric(df_data['PU'], errors='coerce')\n",
    "df_data['Quantidade'] = pd.to_numeric(df_data['Quantidade'], errors='coerce')\n",
    "df_data['Valor'] = pd.to_numeric(df_data['Valor'], errors='coerce')\n",
    "df_data['Vencimento_do_Titulo'] = pd.to_datetime(df_data['Vencimento_do_Titulo'])\n",
    "df_data['Data_Venda'] = pd.to_datetime(df_data['Data_Venda'])\n",
    "\n",
    "df_data = df_data.sample(frac=1)\n",
    "\n",
    "df_data"
   ]
  },
  {
   "cell_type": "markdown",
   "id": "fc89b5d4",
   "metadata": {},
   "source": [
    "#### Visualizando dados"
   ]
  },
  {
   "cell_type": "code",
   "execution_count": 63,
   "id": "59f5f944",
   "metadata": {},
   "outputs": [],
   "source": [
    "#plt.scatter(df_data['PU'],df_data['Valor'])\n",
    "\n",
    "#plt.xlabel('PU')\n",
    "#plt.ylabel('Valor')\n",
    "\n",
    "#plt.show()"
   ]
  },
  {
   "cell_type": "code",
   "execution_count": 64,
   "id": "9285a69e",
   "metadata": {},
   "outputs": [
    {
     "data": {
      "text/plain": [
       "Index(['Tipo_Titulo', 'Vencimento_do_Titulo', 'Data_Venda', 'PU', 'Quantidade',\n",
       "       'Valor'],\n",
       "      dtype='object')"
      ]
     },
     "execution_count": 64,
     "metadata": {},
     "output_type": "execute_result"
    }
   ],
   "source": [
    "df_data.columns"
   ]
  },
  {
   "cell_type": "code",
   "execution_count": 65,
   "id": "9c7c3a24",
   "metadata": {},
   "outputs": [
    {
     "name": "stdout",
     "output_type": "stream",
     "text": [
      "<class 'pandas.core.frame.DataFrame'>\n",
      "Int64Index: 66169 entries, 63712 to 9381\n",
      "Data columns (total 6 columns):\n",
      " #   Column                Non-Null Count  Dtype         \n",
      "---  ------                --------------  -----         \n",
      " 0   Tipo_Titulo           66169 non-null  object        \n",
      " 1   Vencimento_do_Titulo  66169 non-null  datetime64[ns]\n",
      " 2   Data_Venda            66169 non-null  datetime64[ns]\n",
      " 3   PU                    66169 non-null  float64       \n",
      " 4   Quantidade            66169 non-null  float64       \n",
      " 5   Valor                 66169 non-null  float64       \n",
      "dtypes: datetime64[ns](2), float64(3), object(1)\n",
      "memory usage: 3.5+ MB\n"
     ]
    }
   ],
   "source": [
    "df_data.info()"
   ]
  },
  {
   "cell_type": "code",
   "execution_count": 66,
   "id": "17c05161",
   "metadata": {},
   "outputs": [
    {
     "data": {
      "text/plain": [
       "2008-03-27    28\n",
       "2008-03-04    28\n",
       "2008-02-04    28\n",
       "2008-01-04    28\n",
       "2008-02-22    28\n",
       "              ..\n",
       "2016-02-09     1\n",
       "2002-04-01     1\n",
       "2002-03-26     1\n",
       "2003-08-02     1\n",
       "2002-06-27     1\n",
       "Name: Data_Venda, Length: 4842, dtype: int64"
      ]
     },
     "execution_count": 66,
     "metadata": {},
     "output_type": "execute_result"
    }
   ],
   "source": [
    "df_data['Data_Venda'].value_counts()"
   ]
  },
  {
   "cell_type": "code",
   "execution_count": 67,
   "id": "1dc5555d",
   "metadata": {},
   "outputs": [
    {
     "data": {
      "text/plain": [
       "Vencimento_do_Titulo\n",
       "2002     214\n",
       "2003     289\n",
       "2004     977\n",
       "2005    1907\n",
       "2006    2014\n",
       "2007    2073\n",
       "2008    3428\n",
       "2009    3026\n",
       "2010    3155\n",
       "2011    2428\n",
       "2012    2791\n",
       "2013    1467\n",
       "2014    1666\n",
       "2015    4738\n",
       "2016     490\n",
       "2017    4410\n",
       "2018     484\n",
       "2019    1257\n",
       "2020    1900\n",
       "2021    2401\n",
       "2022     254\n",
       "2023    1627\n",
       "2024    5723\n",
       "2025    1470\n",
       "2026    1711\n",
       "2027     616\n",
       "2029     481\n",
       "2030     360\n",
       "2031    1349\n",
       "2035    6021\n",
       "2040     359\n",
       "2045    2894\n",
       "2050    1828\n",
       "2055     361\n",
       "Name: Vencimento_do_Titulo, dtype: int64"
      ]
     },
     "execution_count": 67,
     "metadata": {},
     "output_type": "execute_result"
    }
   ],
   "source": [
    "df_data['Vencimento_do_Titulo'] = pd.to_datetime(df_data['Vencimento_do_Titulo'], errors='coerce')\n",
    "df_data['Vencimento_do_Titulo'].groupby(df_data['Vencimento_do_Titulo'].dt.year).count()"
   ]
  },
  {
   "cell_type": "code",
   "execution_count": 68,
   "id": "bd20aaa5",
   "metadata": {},
   "outputs": [
    {
     "data": {
      "text/plain": [
       "Tipo_Titulo        Vencimento_do_Titulo  Data_Venda  PU          Quantidade  Valor    \n",
       "Tesouro Prefixado  2002-02-10            2002-01-07  952.324951  206.0       196178.93    1\n",
       "                   2002-05-06            2002-01-14  934.752631  7.6         7104.11      1\n",
       "                                         2002-01-16  935.372115  41.6        38911.47     1\n",
       "                                         2002-01-17  936.242653  49.0        45875.88     1\n",
       "                                         2002-01-18  937.777226  119.0       111595.48    1\n",
       "                                                                                         ..\n",
       "                   2002-04-12            2002-04-19  896.277336  286.8       257052.33    1\n",
       "                                         2002-04-22  896.925476  73.4        65834.32     1\n",
       "                                         2002-04-23  897.182857  56.0        50242.23     1\n",
       "                                         2002-04-24  896.921527  14.4        12915.66     1\n",
       "                   2002-07-08            2002-11-01  903.692916  24.0        21688.62     1\n",
       "Length: 214, dtype: int64"
      ]
     },
     "execution_count": 68,
     "metadata": {},
     "output_type": "execute_result"
    }
   ],
   "source": [
    "df_data[df_data['Vencimento_do_Titulo'].dt.year == 2002].value_counts()\n",
    "#df_data.loc[df_data['Vencimento_do_Titulo'].dt.year == 2002]\n"
   ]
  },
  {
   "cell_type": "code",
   "execution_count": 69,
   "id": "4c9a72f7",
   "metadata": {},
   "outputs": [
    {
     "data": {
      "text/plain": [
       "<AxesSubplot:xlabel='Tipo_Titulo,Vencimento_do_Titulo,Data_Venda,PU,Quantidade,Valor'>"
      ]
     },
     "execution_count": 69,
     "metadata": {},
     "output_type": "execute_result"
    }
   ],
   "source": [
    "df_data[df_data['Vencimento_do_Titulo'].dt.year == 2002].value_counts().plot(kind='bar')"
   ]
  },
  {
   "cell_type": "code",
   "execution_count": 74,
   "id": "97067415",
   "metadata": {},
   "outputs": [
    {
     "data": {
      "image/png": "[encoded data removed]",
      "text/plain": [
       "<Figure size 640x480 with 1 Axes>"
      ]
     },
     "metadata": {},
     "output_type": "display_data"
    }
   ],
   "source": [
    "plt.scatter(df_data['PU'], df_data['Quantidade'])\n",
    "plt.xlabel('PU')\n",
    "plt.ylabel('Quantidade')\n",
    "# pode-se observar que quanto menor o preço unitário, maior é a quantidade vendida\n",
    "plt.show()"
   ]
  },
  {
   "cell_type": "code",
   "execution_count": 96,
   "id": "03cb50b6",
   "metadata": {},
   "outputs": [
    {
     "data": {
      "text/html": [
       "<div>\n",
       "<style scoped>\n",
       "    .dataframe tbody tr th:only-of-type {\n",
       "        vertical-align: middle;\n",
       "    }\n",
       "\n",
       "    .dataframe tbody tr th {\n",
       "        vertical-align: top;\n",
       "    }\n",
       "\n",
       "    .dataframe thead th {\n",
       "        text-align: right;\n",
       "    }\n",
       "</style>\n",
       "<table border=\"1\" class=\"dataframe\">\n",
       "  <thead>\n",
       "    <tr style=\"text-align: right;\">\n",
       "      <th></th>\n",
       "      <th>PU</th>\n",
       "      <th>Valor</th>\n",
       "    </tr>\n",
       "  </thead>\n",
       "  <tbody>\n",
       "    <tr>\n",
       "      <th>63712</th>\n",
       "      <td>939.463089</td>\n",
       "      <td>354553.36</td>\n",
       "    </tr>\n",
       "    <tr>\n",
       "      <th>37188</th>\n",
       "      <td>774.870000</td>\n",
       "      <td>774.87</td>\n",
       "    </tr>\n",
       "    <tr>\n",
       "      <th>9179</th>\n",
       "      <td>855.047754</td>\n",
       "      <td>99014.52</td>\n",
       "    </tr>\n",
       "    <tr>\n",
       "      <th>60104</th>\n",
       "      <td>1587.159259</td>\n",
       "      <td>8570.65</td>\n",
       "    </tr>\n",
       "    <tr>\n",
       "      <th>59901</th>\n",
       "      <td>838.280000</td>\n",
       "      <td>838.28</td>\n",
       "    </tr>\n",
       "    <tr>\n",
       "      <th>...</th>\n",
       "      <td>...</td>\n",
       "      <td>...</td>\n",
       "    </tr>\n",
       "    <tr>\n",
       "      <th>51478</th>\n",
       "      <td>792.325000</td>\n",
       "      <td>5704.74</td>\n",
       "    </tr>\n",
       "    <tr>\n",
       "      <th>14633</th>\n",
       "      <td>2999.816175</td>\n",
       "      <td>3255460.50</td>\n",
       "    </tr>\n",
       "    <tr>\n",
       "      <th>41683</th>\n",
       "      <td>2198.250000</td>\n",
       "      <td>28577.25</td>\n",
       "    </tr>\n",
       "    <tr>\n",
       "      <th>45469</th>\n",
       "      <td>909.591309</td>\n",
       "      <td>356923.62</td>\n",
       "    </tr>\n",
       "    <tr>\n",
       "      <th>9381</th>\n",
       "      <td>823.610235</td>\n",
       "      <td>474728.93</td>\n",
       "    </tr>\n",
       "  </tbody>\n",
       "</table>\n",
       "<p>66169 rows × 2 columns</p>\n",
       "</div>"
      ],
      "text/plain": [
       "                PU       Valor\n",
       "63712   939.463089   354553.36\n",
       "37188   774.870000      774.87\n",
       "9179    855.047754    99014.52\n",
       "60104  1587.159259     8570.65\n",
       "59901   838.280000      838.28\n",
       "...            ...         ...\n",
       "51478   792.325000     5704.74\n",
       "14633  2999.816175  3255460.50\n",
       "41683  2198.250000    28577.25\n",
       "45469   909.591309   356923.62\n",
       "9381    823.610235   474728.93\n",
       "\n",
       "[66169 rows x 2 columns]"
      ]
     },
     "execution_count": 96,
     "metadata": {},
     "output_type": "execute_result"
    }
   ],
   "source": [
    "pu = df_data['Quantidade']\n",
    "# será se deve ser essas colunas mesmo?\n",
    "df_features = df_data.drop(columns=['Tipo_Titulo', 'Vencimento_do_Titulo', 'Data_Venda', 'Quantidade'])\n",
    "\n",
    "df_features"
   ]
  },
  {
   "cell_type": "markdown",
   "id": "29143829",
   "metadata": {},
   "source": [
    "#### Treinando e validando nosso modelo"
   ]
  },
  {
   "cell_type": "code",
   "execution_count": 110,
   "id": "b2e18c09",
   "metadata": {},
   "outputs": [],
   "source": [
    "def getModel():\n",
    "    #return LinearRegression() # resultados menos efetivos, porém instantaneos e requer pouco processamento\n",
    "    return RandomForestRegressor() # resultados melhores mas requer muito processamento"
   ]
  },
  {
   "cell_type": "code",
   "execution_count": 111,
   "id": "5c2ac83e",
   "metadata": {},
   "outputs": [
    {
     "data": {
      "text/plain": [
       "0.9962972783938"
      ]
     },
     "execution_count": 111,
     "metadata": {},
     "output_type": "execute_result"
    }
   ],
   "source": [
    "X_train, X_test, y_train, y_test = train_test_split(df_features.values, pu, test_size=0.2)\n",
    "# pq está tão baixo?\n",
    "\n",
    "model = getModel().fit(X_train, y_train)\n",
    "\n",
    "score = model.score(X_test,y_test)\n",
    "\n",
    "score"
   ]
  },
  {
   "cell_type": "markdown",
   "id": "f2bce1a9",
   "metadata": {},
   "source": [
    "#### Validando de maneira mais elaborada"
   ]
  },
  {
   "cell_type": "code",
   "execution_count": 114,
   "id": "865f8587",
   "metadata": {},
   "outputs": [
    {
     "name": "stdout",
     "output_type": "stream",
     "text": [
      "R2= 0.9597769228266209\n"
     ]
    }
   ],
   "source": [
    "scores = cross_val_score(getModel(), df_features.values, pu, cv = 10)\n",
    "# pq está tão baixo?\n",
    "print('R2=',np.mean(scores))"
   ]
  },
  {
   "cell_type": "markdown",
   "id": "e5ac29e2",
   "metadata": {},
   "source": [
    "#### Fazendo previsões"
   ]
  },
  {
   "cell_type": "code",
   "execution_count": 115,
   "id": "5fb3a95c",
   "metadata": {},
   "outputs": [
    {
     "data": {
      "text/plain": [
       "array([0.764, 0.764])"
      ]
     },
     "execution_count": 115,
     "metadata": {},
     "output_type": "execute_result"
    }
   ],
   "source": [
    "# cada array deve ter um número por coluna, como temos duas colunas então fica 0.9,0.9 por item por exemplo\n",
    "model.predict([[0.9, 0.9], [0.1, 0.1]])"
   ]
  },
  {
   "cell_type": "markdown",
   "id": "e349eb98",
   "metadata": {},
   "source": [
    "#### VERIFICANDO CORRELAÇÃO"
   ]
  },
  {
   "cell_type": "code",
   "execution_count": 116,
   "id": "7aa90656",
   "metadata": {},
   "outputs": [
    {
     "data": {
      "image/png": "[encoded data removed]",
      "text/plain": [
       "<Figure size 640x480 with 1 Axes>"
      ]
     },
     "metadata": {},
     "output_type": "display_data"
    }
   ],
   "source": [
    "pû = cross_val_predict(getModel(), df_features.values, pu, cv = 20)\n",
    "plt.scatter(pu, pû)\n",
    "\n",
    "plt.xlabel('Real')\n",
    "plt.ylabel('Predito')\n",
    "\n",
    "plt.show()"
   ]
  },
  {
   "cell_type": "code",
   "execution_count": null,
   "id": "8daf8c5b",
   "metadata": {},
   "outputs": [],
   "source": []
  }
 ],
 "metadata": {
  "kernelspec": {
   "display_name": "Python 3",
   "language": "python",
   "name": "python3"
  },
  "language_info": {
   "codemirror_mode": {
    "name": "ipython",
    "version": 3
   },
   "file_extension": ".py",
   "mimetype": "text/x-python",
   "name": "python",
   "nbconvert_exporter": "python",
   "pygments_lexer": "ipython3",
   "version": "3.9.6"
  }
 },
 "nbformat": 4,
 "nbformat_minor": 5
}
