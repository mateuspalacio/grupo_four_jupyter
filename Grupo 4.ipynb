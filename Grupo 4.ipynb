{
 "cells": [
  {
   "cell_type": "markdown",
   "id": "53007ea1",
   "metadata": {},
   "source": [
    "#### Importando bibliotecas"
   ]
  },
  {
   "cell_type": "code",
   "execution_count": 1,
   "id": "d5d81154",
   "metadata": {},
   "outputs": [],
   "source": [
    "import os\n",
    "import pandas as pd\n",
    "import matplotlib.pyplot as plt\n",
    "import datetime as dt"
   ]
  },
  {
   "cell_type": "markdown",
   "id": "92d5b3f0",
   "metadata": {},
   "source": [
    "#### Carregando dados"
   ]
  },
  {
   "cell_type": "code",
   "execution_count": 49,
   "id": "15b6d5ff",
   "metadata": {},
   "outputs": [
    {
     "data": {
      "text/html": [
       "<div>\n",
       "<style scoped>\n",
       "    .dataframe tbody tr th:only-of-type {\n",
       "        vertical-align: middle;\n",
       "    }\n",
       "\n",
       "    .dataframe tbody tr th {\n",
       "        vertical-align: top;\n",
       "    }\n",
       "\n",
       "    .dataframe thead th {\n",
       "        text-align: right;\n",
       "    }\n",
       "</style>\n",
       "<table border=\"1\" class=\"dataframe\">\n",
       "  <thead>\n",
       "    <tr style=\"text-align: right;\">\n",
       "      <th></th>\n",
       "      <th>Tipo_Titulo</th>\n",
       "      <th>Vencimento_do_Titulo</th>\n",
       "      <th>Data_Venda</th>\n",
       "      <th>PU</th>\n",
       "      <th>Quantidade</th>\n",
       "      <th>Valor</th>\n",
       "    </tr>\n",
       "  </thead>\n",
       "  <tbody>\n",
       "    <tr>\n",
       "      <th>0</th>\n",
       "      <td>Tesouro IPCA+ com Juros Semestrais</td>\n",
       "      <td>2012-08-15</td>\n",
       "      <td>2008-05-12</td>\n",
       "      <td>1655.206735</td>\n",
       "      <td>38.6</td>\n",
       "      <td>63890.97</td>\n",
       "    </tr>\n",
       "    <tr>\n",
       "      <th>1</th>\n",
       "      <td>Tesouro IPCA+ com Juros Semestrais</td>\n",
       "      <td>2017-05-15</td>\n",
       "      <td>2008-05-12</td>\n",
       "      <td>1480.154343</td>\n",
       "      <td>571.0</td>\n",
       "      <td>845168.12</td>\n",
       "    </tr>\n",
       "    <tr>\n",
       "      <th>2</th>\n",
       "      <td>Tesouro Prefixado com Juros Semestrais</td>\n",
       "      <td>2014-01-01</td>\n",
       "      <td>2008-05-12</td>\n",
       "      <td>870.303177</td>\n",
       "      <td>283.2</td>\n",
       "      <td>246469.85</td>\n",
       "    </tr>\n",
       "    <tr>\n",
       "      <th>3</th>\n",
       "      <td>Tesouro Prefixado com Juros Semestrais</td>\n",
       "      <td>2012-01-01</td>\n",
       "      <td>2008-05-12</td>\n",
       "      <td>936.285273</td>\n",
       "      <td>29.2</td>\n",
       "      <td>27339.52</td>\n",
       "    </tr>\n",
       "    <tr>\n",
       "      <th>4</th>\n",
       "      <td>Tesouro Prefixado com Juros Semestrais</td>\n",
       "      <td>2017-01-01</td>\n",
       "      <td>2008-05-12</td>\n",
       "      <td>808.587250</td>\n",
       "      <td>491.8</td>\n",
       "      <td>397663.20</td>\n",
       "    </tr>\n",
       "    <tr>\n",
       "      <th>...</th>\n",
       "      <td>...</td>\n",
       "      <td>...</td>\n",
       "      <td>...</td>\n",
       "      <td>...</td>\n",
       "      <td>...</td>\n",
       "      <td>...</td>\n",
       "    </tr>\n",
       "    <tr>\n",
       "      <th>66164</th>\n",
       "      <td>Tesouro Prefixado com Juros Semestrais</td>\n",
       "      <td>2010-01-01</td>\n",
       "      <td>2008-08-27</td>\n",
       "      <td>960.339019</td>\n",
       "      <td>110.2</td>\n",
       "      <td>105829.35</td>\n",
       "    </tr>\n",
       "    <tr>\n",
       "      <th>66165</th>\n",
       "      <td>Tesouro IPCA+ com Juros Semestrais</td>\n",
       "      <td>2010-08-15</td>\n",
       "      <td>2008-08-27</td>\n",
       "      <td>1672.613421</td>\n",
       "      <td>271.2</td>\n",
       "      <td>453612.75</td>\n",
       "    </tr>\n",
       "    <tr>\n",
       "      <th>66166</th>\n",
       "      <td>Tesouro IPCA+ com Juros Semestrais</td>\n",
       "      <td>2011-05-15</td>\n",
       "      <td>2008-08-27</td>\n",
       "      <td>1677.517573</td>\n",
       "      <td>88.2</td>\n",
       "      <td>147957.04</td>\n",
       "    </tr>\n",
       "    <tr>\n",
       "      <th>66167</th>\n",
       "      <td>Tesouro Prefixado com Juros Semestrais</td>\n",
       "      <td>2010-01-07</td>\n",
       "      <td>2008-08-27</td>\n",
       "      <td>946.566666</td>\n",
       "      <td>0.6</td>\n",
       "      <td>567.93</td>\n",
       "    </tr>\n",
       "    <tr>\n",
       "      <th>66168</th>\n",
       "      <td>Tesouro Selic</td>\n",
       "      <td>2014-07-03</td>\n",
       "      <td>2008-08-27</td>\n",
       "      <td>3568.930215</td>\n",
       "      <td>93.0</td>\n",
       "      <td>331910.50</td>\n",
       "    </tr>\n",
       "  </tbody>\n",
       "</table>\n",
       "<p>66169 rows × 6 columns</p>\n",
       "</div>"
      ],
      "text/plain": [
       "                                  Tipo_Titulo Vencimento_do_Titulo Data_Venda  \\\n",
       "0          Tesouro IPCA+ com Juros Semestrais           2012-08-15 2008-05-12   \n",
       "1          Tesouro IPCA+ com Juros Semestrais           2017-05-15 2008-05-12   \n",
       "2      Tesouro Prefixado com Juros Semestrais           2014-01-01 2008-05-12   \n",
       "3      Tesouro Prefixado com Juros Semestrais           2012-01-01 2008-05-12   \n",
       "4      Tesouro Prefixado com Juros Semestrais           2017-01-01 2008-05-12   \n",
       "...                                       ...                  ...        ...   \n",
       "66164  Tesouro Prefixado com Juros Semestrais           2010-01-01 2008-08-27   \n",
       "66165      Tesouro IPCA+ com Juros Semestrais           2010-08-15 2008-08-27   \n",
       "66166      Tesouro IPCA+ com Juros Semestrais           2011-05-15 2008-08-27   \n",
       "66167  Tesouro Prefixado com Juros Semestrais           2010-01-07 2008-08-27   \n",
       "66168                           Tesouro Selic           2014-07-03 2008-08-27   \n",
       "\n",
       "                PU  Quantidade      Valor  \n",
       "0      1655.206735        38.6   63890.97  \n",
       "1      1480.154343       571.0  845168.12  \n",
       "2       870.303177       283.2  246469.85  \n",
       "3       936.285273        29.2   27339.52  \n",
       "4       808.587250       491.8  397663.20  \n",
       "...            ...         ...        ...  \n",
       "66164   960.339019       110.2  105829.35  \n",
       "66165  1672.613421       271.2  453612.75  \n",
       "66166  1677.517573        88.2  147957.04  \n",
       "66167   946.566666         0.6     567.93  \n",
       "66168  3568.930215        93.0  331910.50  \n",
       "\n",
       "[66169 rows x 6 columns]"
      ]
     },
     "execution_count": 49,
     "metadata": {},
     "output_type": "execute_result"
    }
   ],
   "source": [
    "path = os.path.join('d:' + os.sep, 'Users', 'mateu', 'Downloads', 'VendasTesouroDireto (1).json')\n",
    "values = pd.read_json(path)\n",
    "df_data = pd.DataFrame(values)\n",
    "df_data['PU'] = df_data['PU'].str.replace(',', '.')\n",
    "df_data['Quantidade'] = df_data['Quantidade'].str.replace(',', '.')\n",
    "df_data['Valor'] = df_data['Valor'].str.replace(',', '.')\n",
    "df_data['PU'] = pd.to_numeric(df_data['PU'], errors='coerce')\n",
    "df_data['Quantidade'] = pd.to_numeric(df_data['Quantidade'], errors='coerce')\n",
    "df_data['Valor'] = pd.to_numeric(df_data['Valor'], errors='coerce')\n",
    "df_data['Vencimento_do_Titulo'] = pd.to_datetime(df_data['Vencimento_do_Titulo'])\n",
    "df_data['Data_Venda'] = pd.to_datetime(df_data['Data_Venda'])\n",
    "df_data"
   ]
  },
  {
   "cell_type": "markdown",
   "id": "fc89b5d4",
   "metadata": {},
   "source": [
    "#### Visualizando dados"
   ]
  },
  {
   "cell_type": "code",
   "execution_count": 50,
   "id": "59f5f944",
   "metadata": {},
   "outputs": [],
   "source": [
    "#plt.scatter(df_data['PU'],df_data['Valor'])\n",
    "\n",
    "#plt.xlabel('PU')\n",
    "#plt.ylabel('Valor')\n",
    "\n",
    "#plt.show()"
   ]
  },
  {
   "cell_type": "code",
   "execution_count": 51,
   "id": "9285a69e",
   "metadata": {},
   "outputs": [
    {
     "data": {
      "text/plain": [
       "Index(['Tipo_Titulo', 'Vencimento_do_Titulo', 'Data_Venda', 'PU', 'Quantidade',\n",
       "       'Valor'],\n",
       "      dtype='object')"
      ]
     },
     "execution_count": 51,
     "metadata": {},
     "output_type": "execute_result"
    }
   ],
   "source": [
    "df_data.columns"
   ]
  },
  {
   "cell_type": "code",
   "execution_count": 53,
   "id": "9c7c3a24",
   "metadata": {},
   "outputs": [
    {
     "name": "stdout",
     "output_type": "stream",
     "text": [
      "<class 'pandas.core.frame.DataFrame'>\n",
      "RangeIndex: 66169 entries, 0 to 66168\n",
      "Data columns (total 6 columns):\n",
      " #   Column                Non-Null Count  Dtype         \n",
      "---  ------                --------------  -----         \n",
      " 0   Tipo_Titulo           66169 non-null  object        \n",
      " 1   Vencimento_do_Titulo  66169 non-null  datetime64[ns]\n",
      " 2   Data_Venda            66169 non-null  datetime64[ns]\n",
      " 3   PU                    66169 non-null  float64       \n",
      " 4   Quantidade            66169 non-null  float64       \n",
      " 5   Valor                 66169 non-null  float64       \n",
      "dtypes: datetime64[ns](2), float64(3), object(1)\n",
      "memory usage: 3.0+ MB\n"
     ]
    }
   ],
   "source": [
    "df_data.info()"
   ]
  },
  {
   "cell_type": "code",
   "execution_count": 54,
   "id": "17c05161",
   "metadata": {},
   "outputs": [
    {
     "data": {
      "text/plain": [
       "2008-02-04    28\n",
       "2008-03-31    28\n",
       "2008-03-24    28\n",
       "2008-03-20    28\n",
       "2008-02-22    28\n",
       "              ..\n",
       "2002-04-01     1\n",
       "2016-02-09     1\n",
       "2002-03-26     1\n",
       "2002-06-27     1\n",
       "2003-08-02     1\n",
       "Name: Data_Venda, Length: 4842, dtype: int64"
      ]
     },
     "execution_count": 54,
     "metadata": {},
     "output_type": "execute_result"
    }
   ],
   "source": [
    "df_data['Data_Venda'].value_counts()"
   ]
  },
  {
   "cell_type": "code",
   "execution_count": 55,
   "id": "1dc5555d",
   "metadata": {},
   "outputs": [
    {
     "data": {
      "text/plain": [
       "Vencimento_do_Titulo\n",
       "2002     214\n",
       "2003     289\n",
       "2004     977\n",
       "2005    1907\n",
       "2006    2014\n",
       "2007    2073\n",
       "2008    3428\n",
       "2009    3026\n",
       "2010    3155\n",
       "2011    2428\n",
       "2012    2791\n",
       "2013    1467\n",
       "2014    1666\n",
       "2015    4738\n",
       "2016     490\n",
       "2017    4410\n",
       "2018     484\n",
       "2019    1257\n",
       "2020    1900\n",
       "2021    2401\n",
       "2022     254\n",
       "2023    1627\n",
       "2024    5723\n",
       "2025    1470\n",
       "2026    1711\n",
       "2027     616\n",
       "2029     481\n",
       "2030     360\n",
       "2031    1349\n",
       "2035    6021\n",
       "2040     359\n",
       "2045    2894\n",
       "2050    1828\n",
       "2055     361\n",
       "Name: Vencimento_do_Titulo, dtype: int64"
      ]
     },
     "execution_count": 55,
     "metadata": {},
     "output_type": "execute_result"
    }
   ],
   "source": [
    "df_data['Vencimento_do_Titulo'] = pd.to_datetime(df_data['Vencimento_do_Titulo'], errors='coerce')\n",
    "df_data['Vencimento_do_Titulo'].groupby(df_data['Vencimento_do_Titulo'].dt.year).count()"
   ]
  },
  {
   "cell_type": "code",
   "execution_count": 58,
   "id": "bd20aaa5",
   "metadata": {},
   "outputs": [
    {
     "data": {
      "text/plain": [
       "Tipo_Titulo        Vencimento_do_Titulo  Data_Venda  PU          Quantidade  Valor    \n",
       "Tesouro Prefixado  2002-02-10            2002-01-07  952.324951  206.0       196178.93    1\n",
       "                   2002-05-06            2002-01-14  934.752631  7.6         7104.11      1\n",
       "                                         2002-01-16  935.372115  41.6        38911.47     1\n",
       "                                         2002-01-17  936.242653  49.0        45875.88     1\n",
       "                                         2002-01-18  937.777226  119.0       111595.48    1\n",
       "                                                                                         ..\n",
       "                   2002-04-12            2002-04-19  896.277336  286.8       257052.33    1\n",
       "                                         2002-04-22  896.925476  73.4        65834.32     1\n",
       "                                         2002-04-23  897.182857  56.0        50242.23     1\n",
       "                                         2002-04-24  896.921527  14.4        12915.66     1\n",
       "                   2002-07-08            2002-11-01  903.692916  24.0        21688.62     1\n",
       "Length: 214, dtype: int64"
      ]
     },
     "execution_count": 58,
     "metadata": {},
     "output_type": "execute_result"
    }
   ],
   "source": [
    "df_data[df_data['Vencimento_do_Titulo'].dt.year == 2002].value_counts()\n",
    "#df_data.loc[df_data['Vencimento_do_Titulo'].dt.year == 2002]\n"
   ]
  },
  {
   "cell_type": "code",
   "execution_count": 60,
   "id": "4c9a72f7",
   "metadata": {},
   "outputs": [
    {
     "data": {
      "text/plain": [
       "<AxesSubplot:xlabel='Tipo_Titulo,Vencimento_do_Titulo,Data_Venda,PU,Quantidade,Valor'>"
      ]
     },
     "execution_count": 60,
     "metadata": {},
     "output_type": "execute_result"
    }
   ],
   "source": [
    "df_data[df_data['Vencimento_do_Titulo'].dt.year == 2002].value_counts().plot(kind='bar')"
   ]
  },
  {
   "cell_type": "code",
   "execution_count": null,
   "id": "97067415",
   "metadata": {},
   "outputs": [],
   "source": []
  },
  {
   "cell_type": "code",
   "execution_count": null,
   "id": "03cb50b6",
   "metadata": {},
   "outputs": [],
   "source": []
  }
 ],
 "metadata": {
  "kernelspec": {
   "display_name": "Python 3",
   "language": "python",
   "name": "python3"
  },
  "language_info": {
   "codemirror_mode": {
    "name": "ipython",
    "version": 3
   },
   "file_extension": ".py",
   "mimetype": "text/x-python",
   "name": "python",
   "nbconvert_exporter": "python",
   "pygments_lexer": "ipython3",
   "version": "3.9.6"
  }
 },
 "nbformat": 4,
 "nbformat_minor": 5
}
