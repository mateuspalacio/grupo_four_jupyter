{
 "cells": [
  {
   "cell_type": "markdown",
   "metadata": {},
   "source": [
    "#### Importando bibliotecas"
   ]
  },
  {
   "cell_type": "code",
   "execution_count": 1,
   "metadata": {},
   "outputs": [],
   "source": [
    "from sklearn.model_selection import train_test_split, cross_val_score, cross_val_predict\n",
    "from sklearn.linear_model import LinearRegression, LogisticRegression\n",
    "from sklearn.ensemble import RandomForestRegressor\n",
    "from sklearn.manifold import TSNE\n",
    "from sklearn.metrics import confusion_matrix\n",
    "\n",
    "\n",
    "import os\n",
    "import pandas as pd\n",
    "import matplotlib.pyplot as plt\n",
    "import matplotlib.dates as mdates\n",
    "import matplotlib.cbook as cbook\n",
    "import datetime as dt\n",
    "import numpy as np\n",
    "from datetime import datetime\n"
   ]
  },
  {
   "cell_type": "markdown",
   "metadata": {},
   "source": [
    "#### Carregando dados"
   ]
  },
  {
   "cell_type": "code",
   "execution_count": 2,
   "metadata": {},
   "outputs": [
    {
     "data": {
      "text/html": [
       "<div>\n",
       "<style scoped>\n",
       "    .dataframe tbody tr th:only-of-type {\n",
       "        vertical-align: middle;\n",
       "    }\n",
       "\n",
       "    .dataframe tbody tr th {\n",
       "        vertical-align: top;\n",
       "    }\n",
       "\n",
       "    .dataframe thead th {\n",
       "        text-align: right;\n",
       "    }\n",
       "</style>\n",
       "<table border=\"1\" class=\"dataframe\">\n",
       "  <thead>\n",
       "    <tr style=\"text-align: right;\">\n",
       "      <th></th>\n",
       "      <th>Tipo_Titulo</th>\n",
       "      <th>Vencimento_do_Titulo</th>\n",
       "      <th>Data_Venda</th>\n",
       "      <th>PU</th>\n",
       "      <th>Quantidade</th>\n",
       "      <th>Valor</th>\n",
       "    </tr>\n",
       "  </thead>\n",
       "  <tbody>\n",
       "    <tr>\n",
       "      <th>0</th>\n",
       "      <td>Tesouro IPCA+ com Juros Semestrais</td>\n",
       "      <td>2012-08-15</td>\n",
       "      <td>2008-05-12</td>\n",
       "      <td>1655.206735</td>\n",
       "      <td>38.6</td>\n",
       "      <td>63890.97</td>\n",
       "    </tr>\n",
       "    <tr>\n",
       "      <th>1</th>\n",
       "      <td>Tesouro IPCA+ com Juros Semestrais</td>\n",
       "      <td>2017-05-15</td>\n",
       "      <td>2008-05-12</td>\n",
       "      <td>1480.154343</td>\n",
       "      <td>571.0</td>\n",
       "      <td>845168.12</td>\n",
       "    </tr>\n",
       "    <tr>\n",
       "      <th>2</th>\n",
       "      <td>Tesouro Prefixado com Juros Semestrais</td>\n",
       "      <td>2014-01-01</td>\n",
       "      <td>2008-05-12</td>\n",
       "      <td>870.303177</td>\n",
       "      <td>283.2</td>\n",
       "      <td>246469.85</td>\n",
       "    </tr>\n",
       "    <tr>\n",
       "      <th>3</th>\n",
       "      <td>Tesouro Prefixado com Juros Semestrais</td>\n",
       "      <td>2012-01-01</td>\n",
       "      <td>2008-05-12</td>\n",
       "      <td>936.285273</td>\n",
       "      <td>29.2</td>\n",
       "      <td>27339.52</td>\n",
       "    </tr>\n",
       "    <tr>\n",
       "      <th>4</th>\n",
       "      <td>Tesouro Prefixado com Juros Semestrais</td>\n",
       "      <td>2017-01-01</td>\n",
       "      <td>2008-05-12</td>\n",
       "      <td>808.587250</td>\n",
       "      <td>491.8</td>\n",
       "      <td>397663.20</td>\n",
       "    </tr>\n",
       "    <tr>\n",
       "      <th>...</th>\n",
       "      <td>...</td>\n",
       "      <td>...</td>\n",
       "      <td>...</td>\n",
       "      <td>...</td>\n",
       "      <td>...</td>\n",
       "      <td>...</td>\n",
       "    </tr>\n",
       "    <tr>\n",
       "      <th>66164</th>\n",
       "      <td>Tesouro Prefixado com Juros Semestrais</td>\n",
       "      <td>2010-01-01</td>\n",
       "      <td>2008-08-27</td>\n",
       "      <td>960.339019</td>\n",
       "      <td>110.2</td>\n",
       "      <td>105829.35</td>\n",
       "    </tr>\n",
       "    <tr>\n",
       "      <th>66165</th>\n",
       "      <td>Tesouro IPCA+ com Juros Semestrais</td>\n",
       "      <td>2010-08-15</td>\n",
       "      <td>2008-08-27</td>\n",
       "      <td>1672.613421</td>\n",
       "      <td>271.2</td>\n",
       "      <td>453612.75</td>\n",
       "    </tr>\n",
       "    <tr>\n",
       "      <th>66166</th>\n",
       "      <td>Tesouro IPCA+ com Juros Semestrais</td>\n",
       "      <td>2011-05-15</td>\n",
       "      <td>2008-08-27</td>\n",
       "      <td>1677.517573</td>\n",
       "      <td>88.2</td>\n",
       "      <td>147957.04</td>\n",
       "    </tr>\n",
       "    <tr>\n",
       "      <th>66167</th>\n",
       "      <td>Tesouro Prefixado com Juros Semestrais</td>\n",
       "      <td>2010-01-07</td>\n",
       "      <td>2008-08-27</td>\n",
       "      <td>946.566666</td>\n",
       "      <td>0.6</td>\n",
       "      <td>567.93</td>\n",
       "    </tr>\n",
       "    <tr>\n",
       "      <th>66168</th>\n",
       "      <td>Tesouro Selic</td>\n",
       "      <td>2014-07-03</td>\n",
       "      <td>2008-08-27</td>\n",
       "      <td>3568.930215</td>\n",
       "      <td>93.0</td>\n",
       "      <td>331910.50</td>\n",
       "    </tr>\n",
       "  </tbody>\n",
       "</table>\n",
       "<p>66169 rows × 6 columns</p>\n",
       "</div>"
      ],
      "text/plain": [
       "                                  Tipo_Titulo Vencimento_do_Titulo Data_Venda  \\\n",
       "0          Tesouro IPCA+ com Juros Semestrais           2012-08-15 2008-05-12   \n",
       "1          Tesouro IPCA+ com Juros Semestrais           2017-05-15 2008-05-12   \n",
       "2      Tesouro Prefixado com Juros Semestrais           2014-01-01 2008-05-12   \n",
       "3      Tesouro Prefixado com Juros Semestrais           2012-01-01 2008-05-12   \n",
       "4      Tesouro Prefixado com Juros Semestrais           2017-01-01 2008-05-12   \n",
       "...                                       ...                  ...        ...   \n",
       "66164  Tesouro Prefixado com Juros Semestrais           2010-01-01 2008-08-27   \n",
       "66165      Tesouro IPCA+ com Juros Semestrais           2010-08-15 2008-08-27   \n",
       "66166      Tesouro IPCA+ com Juros Semestrais           2011-05-15 2008-08-27   \n",
       "66167  Tesouro Prefixado com Juros Semestrais           2010-01-07 2008-08-27   \n",
       "66168                           Tesouro Selic           2014-07-03 2008-08-27   \n",
       "\n",
       "                PU  Quantidade      Valor  \n",
       "0      1655.206735        38.6   63890.97  \n",
       "1      1480.154343       571.0  845168.12  \n",
       "2       870.303177       283.2  246469.85  \n",
       "3       936.285273        29.2   27339.52  \n",
       "4       808.587250       491.8  397663.20  \n",
       "...            ...         ...        ...  \n",
       "66164   960.339019       110.2  105829.35  \n",
       "66165  1672.613421       271.2  453612.75  \n",
       "66166  1677.517573        88.2  147957.04  \n",
       "66167   946.566666         0.6     567.93  \n",
       "66168  3568.930215        93.0  331910.50  \n",
       "\n",
       "[66169 rows x 6 columns]"
      ]
     },
     "execution_count": 2,
     "metadata": {},
     "output_type": "execute_result"
    }
   ],
   "source": [
    "path = os.path.join('VendasTesouroDireto_1.json')\n",
    "values = pd.read_json(path)\n",
    "df_data = pd.DataFrame(values)\n",
    "df_data['Tipo_Titulo'] = df_data['Tipo_Titulo'].astype('str') \n",
    "df_data['PU'] = df_data['PU'].str.replace(',', '.')\n",
    "df_data['Quantidade'] = df_data['Quantidade'].str.replace(',', '.')\n",
    "df_data['Valor'] = df_data['Valor'].str.replace(',', '.')\n",
    "df_data['PU'] = pd.to_numeric(df_data['PU'], errors='coerce')\n",
    "df_data['Quantidade'] = pd.to_numeric(df_data['Quantidade'], errors='coerce')\n",
    "df_data['Valor'] = pd.to_numeric(df_data['Valor'], errors='coerce')\n",
    "df_data['Vencimento_do_Titulo'] = pd.to_datetime(df_data['Vencimento_do_Titulo'])\n",
    "df_data['Data_Venda'] = pd.to_datetime(df_data['Data_Venda'])\n",
    "\n",
    "\n",
    "df_data"
   ]
  },
  {
   "cell_type": "markdown",
   "metadata": {},
   "source": [
    "#### Visualizando dados"
   ]
  },
  {
   "cell_type": "code",
   "execution_count": 3,
   "metadata": {},
   "outputs": [],
   "source": [
    "#plt.scatter(df_data['PU'],df_data['Valor'])\n",
    "\n",
    "#plt.xlabel('PU')\n",
    "#plt.ylabel('Valor')\n",
    "\n",
    "#plt.show()"
   ]
  },
  {
   "cell_type": "code",
   "execution_count": 4,
   "metadata": {},
   "outputs": [
    {
     "data": {
      "text/plain": [
       "Index(['Tipo_Titulo', 'Vencimento_do_Titulo', 'Data_Venda', 'PU', 'Quantidade',\n",
       "       'Valor'],\n",
       "      dtype='object')"
      ]
     },
     "execution_count": 4,
     "metadata": {},
     "output_type": "execute_result"
    }
   ],
   "source": [
    "df_data.columns"
   ]
  },
  {
   "cell_type": "code",
   "execution_count": 5,
   "metadata": {},
   "outputs": [
    {
     "name": "stdout",
     "output_type": "stream",
     "text": [
      "<class 'pandas.core.frame.DataFrame'>\n",
      "RangeIndex: 66169 entries, 0 to 66168\n",
      "Data columns (total 6 columns):\n",
      " #   Column                Non-Null Count  Dtype         \n",
      "---  ------                --------------  -----         \n",
      " 0   Tipo_Titulo           66169 non-null  object        \n",
      " 1   Vencimento_do_Titulo  66169 non-null  datetime64[ns]\n",
      " 2   Data_Venda            66169 non-null  datetime64[ns]\n",
      " 3   PU                    66169 non-null  float64       \n",
      " 4   Quantidade            66169 non-null  float64       \n",
      " 5   Valor                 66169 non-null  float64       \n",
      "dtypes: datetime64[ns](2), float64(3), object(1)\n",
      "memory usage: 3.0+ MB\n"
     ]
    }
   ],
   "source": [
    "df_data.info()"
   ]
  },
  {
   "cell_type": "code",
   "execution_count": 6,
   "metadata": {},
   "outputs": [
    {
     "data": {
      "text/plain": [
       "2008-03-25    28\n",
       "2008-02-22    28\n",
       "2008-03-20    28\n",
       "2008-01-04    28\n",
       "2008-02-04    28\n",
       "              ..\n",
       "2002-04-01     1\n",
       "2002-03-26     1\n",
       "2003-08-02     1\n",
       "2016-02-09     1\n",
       "2002-06-27     1\n",
       "Name: Data_Venda, Length: 4842, dtype: int64"
      ]
     },
     "execution_count": 6,
     "metadata": {},
     "output_type": "execute_result"
    }
   ],
   "source": [
    "df_data['Data_Venda'].value_counts()"
   ]
  },
  {
   "cell_type": "code",
   "execution_count": 7,
   "metadata": {},
   "outputs": [
    {
     "data": {
      "text/plain": [
       "Vencimento_do_Titulo\n",
       "2002     214\n",
       "2003     289\n",
       "2004     977\n",
       "2005    1907\n",
       "2006    2014\n",
       "2007    2073\n",
       "2008    3428\n",
       "2009    3026\n",
       "2010    3155\n",
       "2011    2428\n",
       "2012    2791\n",
       "2013    1467\n",
       "2014    1666\n",
       "2015    4738\n",
       "2016     490\n",
       "2017    4410\n",
       "2018     484\n",
       "2019    1257\n",
       "2020    1900\n",
       "2021    2401\n",
       "2022     254\n",
       "2023    1627\n",
       "2024    5723\n",
       "2025    1470\n",
       "2026    1711\n",
       "2027     616\n",
       "2029     481\n",
       "2030     360\n",
       "2031    1349\n",
       "2035    6021\n",
       "2040     359\n",
       "2045    2894\n",
       "2050    1828\n",
       "2055     361\n",
       "Name: Vencimento_do_Titulo, dtype: int64"
      ]
     },
     "execution_count": 7,
     "metadata": {},
     "output_type": "execute_result"
    }
   ],
   "source": [
    "df_data['Vencimento_do_Titulo'] = pd.to_datetime(df_data['Vencimento_do_Titulo'], errors='coerce')\n",
    "df_data['Vencimento_do_Titulo'].groupby(df_data['Vencimento_do_Titulo'].dt.year).count()"
   ]
  },
  {
   "cell_type": "code",
   "execution_count": 8,
   "metadata": {},
   "outputs": [
    {
     "data": {
      "text/plain": [
       "Tipo_Titulo        Vencimento_do_Titulo  Data_Venda  PU          Quantidade  Valor    \n",
       "Tesouro Prefixado  2002-07-08            2002-11-01  903.692916  24.0        21688.62     1\n",
       "                   2002-04-12            2002-04-26  897.688780  226.4       203236.73    1\n",
       "                                         2002-04-24  896.921527  14.4        12915.66     1\n",
       "                                         2002-04-23  897.182857  56.0        50242.23     1\n",
       "                                         2002-04-22  896.925476  73.4        65834.32     1\n",
       "                                                                                         ..\n",
       "                   2002-05-06            2002-07-01  931.792095  108.8       101378.97    1\n",
       "                                         2002-01-18  937.777226  119.0       111595.48    1\n",
       "                                         2002-01-17  936.242653  49.0        45875.88     1\n",
       "                                         2002-01-16  935.372115  41.6        38911.47     1\n",
       "                   2002-02-10            2002-01-07  952.324951  206.0       196178.93    1\n",
       "Length: 214, dtype: int64"
      ]
     },
     "execution_count": 8,
     "metadata": {},
     "output_type": "execute_result"
    }
   ],
   "source": [
    "df_data[df_data['Vencimento_do_Titulo'].dt.year == 2002].value_counts()\n",
    "#df_data.loc[df_data['Vencimento_do_Titulo'].dt.year == 2002]\n"
   ]
  },
  {
   "cell_type": "code",
   "execution_count": 9,
   "metadata": {},
   "outputs": [
    {
     "data": {
      "image/png": "[encoded data removed]",
      "text/plain": [
       "<Figure size 1080x720 with 1 Axes>"
      ]
     },
     "metadata": {
      "needs_background": "light"
     },
     "output_type": "display_data"
    }
   ],
   "source": [
    "acc = {}\n",
    "for x in df_data['Tipo_Titulo']:\n",
    "    if x in acc:\n",
    "        acc[x] = acc[x] + 1\n",
    "    else:\n",
    "        acc[x] = 1\n",
    "x = acc.keys()\n",
    "y = acc.values()\n",
    "fig=plt.figure(figsize=(15,10))\n",
    "plt.bar(range(len(acc)), list(acc.values()), align='center')\n",
    "plt.xticks(range(len(acc)), list(acc.keys()))\n",
    "plt.xticks(rotation=45)\n",
    "# colocar labels plt.xlabel()\n",
    "plt.show()"
   ]
  },
  {
   "cell_type": "code",
   "execution_count": 10,
   "metadata": {},
   "outputs": [
    {
     "data": {
      "image/png": "[encoded data removed]",
      "text/plain": [
       "<Figure size 432x288 with 1 Axes>"
      ]
     },
     "metadata": {
      "needs_background": "light"
     },
     "output_type": "display_data"
    }
   ],
   "source": [
    "acd = {}\n",
    "for x in df_data['PU']:\n",
    "    if x in acd:\n",
    "        acd[x] = acd[x] + 1\n",
    "    else:\n",
    "        acd[x] = 1\n",
    "        \n",
    "plt.hist(acd)\n",
    "plt.xlabel('Preço unitário')\n",
    "plt.ylabel('Quantidade de ocorrências')\n",
    "plt.show()"
   ]
  },
  {
   "cell_type": "code",
   "execution_count": 11,
   "metadata": {},
   "outputs": [
    {
     "data": {
      "image/png": "[encoded data removed]",
      "text/plain": [
       "<Figure size 432x288 with 1 Axes>"
      ]
     },
     "metadata": {},
     "output_type": "display_data"
    }
   ],
   "source": [
    "plt.pie([x/len(df_data.value_counts()) for x in acc.values()],labels=acc.keys())\n",
    "plt.show()"
   ]
  },
  {
   "cell_type": "code",
   "execution_count": 12,
   "metadata": {},
   "outputs": [
    {
     "data": {
      "text/plain": [
       "[]"
      ]
     },
     "execution_count": 12,
     "metadata": {},
     "output_type": "execute_result"
    },
    {
     "data": {
      "image/png": "[encoded data removed]",
      "text/plain": [
       "<Figure size 432x288 with 1 Axes>"
      ]
     },
     "metadata": {
      "needs_background": "light"
     },
     "output_type": "display_data"
    }
   ],
   "source": [
    "\n",
    "dftwo = df_data['Data_Venda'].value_counts().rename_axis('Data_Venda').reset_index(name='counts')\n",
    "dftwo['Data_Venda'] = dftwo['Data_Venda'].astype(str)\n",
    "\n",
    "\n",
    "x=dftwo['Data_Venda']\n",
    "y=dftwo['counts']\n",
    "plt.plot(x,y)\n",
    "plt.plot()"
   ]
  },
  {
   "cell_type": "code",
   "execution_count": 13,
   "metadata": {},
   "outputs": [
    {
     "data": {
      "image/png": "[encoded data removed]",
      "text/plain": [
       "<Figure size 432x288 with 1 Axes>"
      ]
     },
     "metadata": {
      "needs_background": "light"
     },
     "output_type": "display_data"
    }
   ],
   "source": [
    "#df_datapu = [x for i, x  in enumerate(df_data['PU']) if i < 1000]\n",
    "#df_dataqtd = [x for i, x  in enumerate(df_data['Quantidade']) if i < 1000]\n",
    "\n",
    "#plt.scatter(df_datapu, df_dataqtd)\n",
    "plt.scatter(df_data['PU'], df_data['Quantidade'])\n",
    "plt.xlabel('PU')\n",
    "plt.ylabel('Quantidade')\n",
    "# pode-se observar que quanto menor o preço unitário, maior é a quantidade vendida\n",
    "plt.show()"
   ]
  },
  {
   "cell_type": "code",
   "execution_count": 14,
   "metadata": {},
   "outputs": [
    {
     "data": {
      "image/png": "[encoded data removed]",
      "text/plain": [
       "<Figure size 432x288 with 1 Axes>"
      ]
     },
     "metadata": {
      "needs_background": "light"
     },
     "output_type": "display_data"
    }
   ],
   "source": [
    "#df_datapu = [x for i, x  in enumerate(df_data['PU']) if i < 1000]\n",
    "#df_dataqtd = [x for i, x  in enumerate(df_data['Quantidade']) if i < 1000]\n",
    "\n",
    "#plt.scatter(df_datapu, df_dataqtd)\n",
    "df_dados_c0=df_data[df_data['Tipo_Titulo']=='Tesouro Prefixado com Juros Semestrais']\n",
    "df_dados_c1=df_data[df_data['Tipo_Titulo']=='Tesouro Selic']\n",
    "df_dados_c2=df_data[df_data['Tipo_Titulo']=='Tesouro Prefixado']\n",
    "df_dados_c3=df_data[df_data['Tipo_Titulo']=='Tesouro Prefixado IPCA+']\n",
    "df_dados_c4=df_data[df_data['Tipo_Titulo']=='Tesouro IGPM+ com Juros Semestrais']\n",
    "df_dados_c5=df_data[df_data['Tipo_Titulo']=='Tesouro Prefixado IPCA+ com Juros Semestrais']\n",
    "\n",
    "#plt.scatter(df_dados_c0['PU'], df_dados_c0['Quantidade'],c='blue')\n",
    "plt.scatter(df_dados_c1['PU'], df_dados_c1['Quantidade'],c='red')\n",
    "#plt.scatter(df_dados_c2['PU'], df_dados_c2['Quantidade'],c='green')\n",
    "#plt.scatter(df_dados_c3['PU'], df_dados_c3['Quantidade'],c='purple')\n",
    "#plt.scatter(df_dados_c4['PU'], df_dados_c4['Quantidade'],c='yellow')\n",
    "#plt.scatter(df_dados_c5['PU'], df_dados_c5['Quantidade'],c='red')\n",
    "\n",
    "\n",
    "plt.xlabel('PU')\n",
    "plt.ylabel('Quantidade')\n",
    "# pode-se observar que quanto menor o preço unitário, maior é a quantidade vendida\n",
    "plt.show()"
   ]
  },
  {
   "cell_type": "code",
   "execution_count": 15,
   "metadata": {},
   "outputs": [
    {
     "data": {
      "image/png": "[encoded data removed]",
      "text/plain": [
       "<Figure size 432x288 with 1 Axes>"
      ]
     },
     "metadata": {
      "needs_background": "light"
     },
     "output_type": "display_data"
    }
   ],
   "source": [
    "\n",
    "if 'Valor' in df_data.columns:\n",
    "    ax = plt.axes(projection='3d')\n",
    "    ax.scatter3D(df_data['PU'].array,df_data['Quantidade'].array,df_data['Valor'].array, color='blue');\n",
    "    plt.show()"
   ]
  },
  {
   "cell_type": "code",
   "execution_count": 16,
   "metadata": {},
   "outputs": [
    {
     "data": {
      "text/html": [
       "<div>\n",
       "<style scoped>\n",
       "    .dataframe tbody tr th:only-of-type {\n",
       "        vertical-align: middle;\n",
       "    }\n",
       "\n",
       "    .dataframe tbody tr th {\n",
       "        vertical-align: top;\n",
       "    }\n",
       "\n",
       "    .dataframe thead th {\n",
       "        text-align: right;\n",
       "    }\n",
       "</style>\n",
       "<table border=\"1\" class=\"dataframe\">\n",
       "  <thead>\n",
       "    <tr style=\"text-align: right;\">\n",
       "      <th></th>\n",
       "      <th>PU</th>\n",
       "      <th>Valor</th>\n",
       "    </tr>\n",
       "  </thead>\n",
       "  <tbody>\n",
       "    <tr>\n",
       "      <th>0</th>\n",
       "      <td>1655.206735</td>\n",
       "      <td>63890.97</td>\n",
       "    </tr>\n",
       "    <tr>\n",
       "      <th>1</th>\n",
       "      <td>1480.154343</td>\n",
       "      <td>845168.12</td>\n",
       "    </tr>\n",
       "    <tr>\n",
       "      <th>2</th>\n",
       "      <td>870.303177</td>\n",
       "      <td>246469.85</td>\n",
       "    </tr>\n",
       "    <tr>\n",
       "      <th>3</th>\n",
       "      <td>936.285273</td>\n",
       "      <td>27339.52</td>\n",
       "    </tr>\n",
       "    <tr>\n",
       "      <th>4</th>\n",
       "      <td>808.587250</td>\n",
       "      <td>397663.20</td>\n",
       "    </tr>\n",
       "    <tr>\n",
       "      <th>...</th>\n",
       "      <td>...</td>\n",
       "      <td>...</td>\n",
       "    </tr>\n",
       "    <tr>\n",
       "      <th>66164</th>\n",
       "      <td>960.339019</td>\n",
       "      <td>105829.35</td>\n",
       "    </tr>\n",
       "    <tr>\n",
       "      <th>66165</th>\n",
       "      <td>1672.613421</td>\n",
       "      <td>453612.75</td>\n",
       "    </tr>\n",
       "    <tr>\n",
       "      <th>66166</th>\n",
       "      <td>1677.517573</td>\n",
       "      <td>147957.04</td>\n",
       "    </tr>\n",
       "    <tr>\n",
       "      <th>66167</th>\n",
       "      <td>946.566666</td>\n",
       "      <td>567.93</td>\n",
       "    </tr>\n",
       "    <tr>\n",
       "      <th>66168</th>\n",
       "      <td>3568.930215</td>\n",
       "      <td>331910.50</td>\n",
       "    </tr>\n",
       "  </tbody>\n",
       "</table>\n",
       "<p>66169 rows × 2 columns</p>\n",
       "</div>"
      ],
      "text/plain": [
       "                PU      Valor\n",
       "0      1655.206735   63890.97\n",
       "1      1480.154343  845168.12\n",
       "2       870.303177  246469.85\n",
       "3       936.285273   27339.52\n",
       "4       808.587250  397663.20\n",
       "...            ...        ...\n",
       "66164   960.339019  105829.35\n",
       "66165  1672.613421  453612.75\n",
       "66166  1677.517573  147957.04\n",
       "66167   946.566666     567.93\n",
       "66168  3568.930215  331910.50\n",
       "\n",
       "[66169 rows x 2 columns]"
      ]
     },
     "execution_count": 16,
     "metadata": {},
     "output_type": "execute_result"
    }
   ],
   "source": [
    "pu = df_data['Quantidade']\n",
    "# será se deve ser essas colunas mesmo?\n",
    "df_features = df_data.drop(columns=['Tipo_Titulo', 'Vencimento_do_Titulo', 'Data_Venda', 'Quantidade'])\n",
    "\n",
    "df_features"
   ]
  },
  {
   "cell_type": "code",
   "execution_count": 17,
   "metadata": {},
   "outputs": [
    {
     "data": {
      "text/html": [
       "<div>\n",
       "<style scoped>\n",
       "    .dataframe tbody tr th:only-of-type {\n",
       "        vertical-align: middle;\n",
       "    }\n",
       "\n",
       "    .dataframe tbody tr th {\n",
       "        vertical-align: top;\n",
       "    }\n",
       "\n",
       "    .dataframe thead th {\n",
       "        text-align: right;\n",
       "    }\n",
       "</style>\n",
       "<table border=\"1\" class=\"dataframe\">\n",
       "  <thead>\n",
       "    <tr style=\"text-align: right;\">\n",
       "      <th></th>\n",
       "      <th>f1</th>\n",
       "      <th>f2</th>\n",
       "      <th>Tipo_Titulo</th>\n",
       "    </tr>\n",
       "  </thead>\n",
       "  <tbody>\n",
       "    <tr>\n",
       "      <th>6</th>\n",
       "      <td>-19.464632</td>\n",
       "      <td>-43.953983</td>\n",
       "      <td>Tesouro Selic</td>\n",
       "    </tr>\n",
       "    <tr>\n",
       "      <th>9</th>\n",
       "      <td>30.376177</td>\n",
       "      <td>35.146317</td>\n",
       "      <td>Tesouro Selic</td>\n",
       "    </tr>\n",
       "    <tr>\n",
       "      <th>27</th>\n",
       "      <td>-25.585278</td>\n",
       "      <td>40.681293</td>\n",
       "      <td>Tesouro Selic</td>\n",
       "    </tr>\n",
       "    <tr>\n",
       "      <th>32</th>\n",
       "      <td>-45.420422</td>\n",
       "      <td>41.181538</td>\n",
       "      <td>Tesouro Selic</td>\n",
       "    </tr>\n",
       "    <tr>\n",
       "      <th>47</th>\n",
       "      <td>55.260723</td>\n",
       "      <td>-12.181973</td>\n",
       "      <td>Tesouro Selic</td>\n",
       "    </tr>\n",
       "    <tr>\n",
       "      <th>...</th>\n",
       "      <td>...</td>\n",
       "      <td>...</td>\n",
       "      <td>...</td>\n",
       "    </tr>\n",
       "    <tr>\n",
       "      <th>66128</th>\n",
       "      <td>42.413807</td>\n",
       "      <td>-31.696903</td>\n",
       "      <td>Tesouro Selic</td>\n",
       "    </tr>\n",
       "    <tr>\n",
       "      <th>66138</th>\n",
       "      <td>19.978010</td>\n",
       "      <td>-44.126183</td>\n",
       "      <td>Tesouro Selic</td>\n",
       "    </tr>\n",
       "    <tr>\n",
       "      <th>66144</th>\n",
       "      <td>20.041159</td>\n",
       "      <td>-46.291908</td>\n",
       "      <td>Tesouro Selic</td>\n",
       "    </tr>\n",
       "    <tr>\n",
       "      <th>66162</th>\n",
       "      <td>-0.887429</td>\n",
       "      <td>49.396675</td>\n",
       "      <td>Tesouro Selic</td>\n",
       "    </tr>\n",
       "    <tr>\n",
       "      <th>66168</th>\n",
       "      <td>13.930717</td>\n",
       "      <td>-27.720858</td>\n",
       "      <td>Tesouro Selic</td>\n",
       "    </tr>\n",
       "  </tbody>\n",
       "</table>\n",
       "<p>7957 rows × 3 columns</p>\n",
       "</div>"
      ],
      "text/plain": [
       "              f1         f2    Tipo_Titulo\n",
       "6     -19.464632 -43.953983  Tesouro Selic\n",
       "9      30.376177  35.146317  Tesouro Selic\n",
       "27    -25.585278  40.681293  Tesouro Selic\n",
       "32    -45.420422  41.181538  Tesouro Selic\n",
       "47     55.260723 -12.181973  Tesouro Selic\n",
       "...          ...        ...            ...\n",
       "66128  42.413807 -31.696903  Tesouro Selic\n",
       "66138  19.978010 -44.126183  Tesouro Selic\n",
       "66144  20.041159 -46.291908  Tesouro Selic\n",
       "66162  -0.887429  49.396675  Tesouro Selic\n",
       "66168  13.930717 -27.720858  Tesouro Selic\n",
       "\n",
       "[7957 rows x 3 columns]"
      ]
     },
     "execution_count": 17,
     "metadata": {},
     "output_type": "execute_result"
    }
   ],
   "source": [
    "#definindo target\n",
    "Tipo_Titulo=df_data['Tipo_Titulo'].array\n",
    "#Tirando target e data sem valor numerico\n",
    "df_features=df_data.drop(columns=['Tipo_Titulo','Data_Venda','Vencimento_do_Titulo'])\n",
    "\n",
    "#Redimencionando com TSNE\n",
    "model=TSNE(n_components=2)\n",
    "\n",
    "array_red=model.fit_transform(df_features)\n",
    "\n",
    "df_tsne=pd.DataFrame(array_red,columns=['f1','f2'])\n",
    "\n",
    "#separando data pelo target\n",
    "df_tsne['Tipo_Titulo']=Tipo_Titulo\n",
    "#df_tsne_c0=df_tsne[df_tsne['Tipo_Titulo']=='Tesouro Prefixado com Juros Semestrais']\n",
    "df_tsne_c1=df_tsne[df_tsne['Tipo_Titulo']=='Tesouro Selic']\n",
    "#df_tsne_c2=df_tsne[df_tsne['Tipo_Titulo']=='Tesouro Prefixado']\n",
    "#df_tsne_c3=df_tsne[df_tsne['Tipo_Titulo']=='Tesouro Prefixado IPCA+']\n",
    "#df_tsne_c4=df_tsne[df_tsne['Tipo_Titulo']=='Tesouro IGPM+ com Juros Semestrais']\n",
    "#df_tsne_c5=df_tsne[df_tsne['Tipo_Titulo']=='Tesouro Prefixado IPCA+ com Juros Semestrais']\n",
    "#teste\n",
    "df_tsne_c1"
   ]
  },
  {
   "cell_type": "code",
   "execution_count": 18,
   "metadata": {},
   "outputs": [
    {
     "data": {
      "image/png": "[encoded data removed]",
      "text/plain": [
       "<Figure size 432x288 with 1 Axes>"
      ]
     },
     "metadata": {
      "needs_background": "light"
     },
     "output_type": "display_data"
    }
   ],
   "source": [
    "#Fazendo scatte com dado redimencionado\n",
    "\n",
    "#COMENTEI TUDO MENOS UM PRA VER SE DAVA BOM MAIS CONTINUA SAINDO DATA ILEGIVEL\n",
    "#plt.scatter(df_tsne_c0['f1'], df_tsne_c0['f2'],c='blue')\n",
    "plt.scatter(df_tsne_c1['f1'], df_tsne_c1['f2'],c='red')\n",
    "#plt.scatter(df_tsne_c2['f1'], df_tsne_c2['f2'],c='green')\n",
    "#plt.scatter(df_tsne_c3['f1'], df_tsne_c3['f2'],c='black')\n",
    "#plt.scatter(df_tsne_c4['f1'], df_tsne_c4['f2'],c='yellow')\n",
    "#plt.scatter(df_tsne_c5['f1'], df_tsne_c5['f2'],c='orange')\n",
    "\n",
    "\n",
    "plt.xlabel('f1')\n",
    "plt.ylabel('f2')\n",
    "# pode-se observar que quanto menor o preço unitário, maior é a quantidade vendida\n",
    "plt.show()\n",
    "\n"
   ]
  },
  {
   "cell_type": "markdown",
   "metadata": {},
   "source": [
    "#### Treinando e validando nosso modelo"
   ]
  },
  {
   "cell_type": "code",
   "execution_count": 19,
   "metadata": {},
   "outputs": [],
   "source": [
    "def getModel():\n",
    "    #return LinearRegression() # resultados menos efetivos, porém instantaneos e requer pouco processamento\n",
    "    return RandomForestRegressor() # resultados melhores mas requer muito processamento"
   ]
  },
  {
   "cell_type": "code",
   "execution_count": 20,
   "metadata": {},
   "outputs": [
    {
     "data": {
      "text/plain": [
       "0.9999018620778364"
      ]
     },
     "execution_count": 20,
     "metadata": {},
     "output_type": "execute_result"
    }
   ],
   "source": [
    "X_train, X_test, y_train, y_test = train_test_split(df_features.values, pu, test_size=0.2)\n",
    "# pq está tão baixo?\n",
    "\n",
    "model = getModel().fit(X_train, y_train)\n",
    "\n",
    "score = model.score(X_test,y_test)\n",
    "\n",
    "score"
   ]
  },
  {
   "cell_type": "code",
   "execution_count": 23,
   "metadata": {},
   "outputs": [
    {
     "data": {
      "text/html": [
       "<div>\n",
       "<style scoped>\n",
       "    .dataframe tbody tr th:only-of-type {\n",
       "        vertical-align: middle;\n",
       "    }\n",
       "\n",
       "    .dataframe tbody tr th {\n",
       "        vertical-align: top;\n",
       "    }\n",
       "\n",
       "    .dataframe thead th {\n",
       "        text-align: right;\n",
       "    }\n",
       "</style>\n",
       "<table border=\"1\" class=\"dataframe\">\n",
       "  <thead>\n",
       "    <tr style=\"text-align: right;\">\n",
       "      <th></th>\n",
       "      <th>PU</th>\n",
       "      <th>Quantidade</th>\n",
       "      <th>Valor</th>\n",
       "    </tr>\n",
       "  </thead>\n",
       "  <tbody>\n",
       "    <tr>\n",
       "      <th>0</th>\n",
       "      <td>1655.206735</td>\n",
       "      <td>38.6</td>\n",
       "      <td>63890.97</td>\n",
       "    </tr>\n",
       "    <tr>\n",
       "      <th>1</th>\n",
       "      <td>1480.154343</td>\n",
       "      <td>571.0</td>\n",
       "      <td>845168.12</td>\n",
       "    </tr>\n",
       "    <tr>\n",
       "      <th>2</th>\n",
       "      <td>870.303177</td>\n",
       "      <td>283.2</td>\n",
       "      <td>246469.85</td>\n",
       "    </tr>\n",
       "    <tr>\n",
       "      <th>3</th>\n",
       "      <td>936.285273</td>\n",
       "      <td>29.2</td>\n",
       "      <td>27339.52</td>\n",
       "    </tr>\n",
       "    <tr>\n",
       "      <th>4</th>\n",
       "      <td>808.587250</td>\n",
       "      <td>491.8</td>\n",
       "      <td>397663.20</td>\n",
       "    </tr>\n",
       "    <tr>\n",
       "      <th>...</th>\n",
       "      <td>...</td>\n",
       "      <td>...</td>\n",
       "      <td>...</td>\n",
       "    </tr>\n",
       "    <tr>\n",
       "      <th>66164</th>\n",
       "      <td>960.339019</td>\n",
       "      <td>110.2</td>\n",
       "      <td>105829.35</td>\n",
       "    </tr>\n",
       "    <tr>\n",
       "      <th>66165</th>\n",
       "      <td>1672.613421</td>\n",
       "      <td>271.2</td>\n",
       "      <td>453612.75</td>\n",
       "    </tr>\n",
       "    <tr>\n",
       "      <th>66166</th>\n",
       "      <td>1677.517573</td>\n",
       "      <td>88.2</td>\n",
       "      <td>147957.04</td>\n",
       "    </tr>\n",
       "    <tr>\n",
       "      <th>66167</th>\n",
       "      <td>946.566666</td>\n",
       "      <td>0.6</td>\n",
       "      <td>567.93</td>\n",
       "    </tr>\n",
       "    <tr>\n",
       "      <th>66168</th>\n",
       "      <td>3568.930215</td>\n",
       "      <td>93.0</td>\n",
       "      <td>331910.50</td>\n",
       "    </tr>\n",
       "  </tbody>\n",
       "</table>\n",
       "<p>66169 rows × 3 columns</p>\n",
       "</div>"
      ],
      "text/plain": [
       "                PU  Quantidade      Valor\n",
       "0      1655.206735        38.6   63890.97\n",
       "1      1480.154343       571.0  845168.12\n",
       "2       870.303177       283.2  246469.85\n",
       "3       936.285273        29.2   27339.52\n",
       "4       808.587250       491.8  397663.20\n",
       "...            ...         ...        ...\n",
       "66164   960.339019       110.2  105829.35\n",
       "66165  1672.613421       271.2  453612.75\n",
       "66166  1677.517573        88.2  147957.04\n",
       "66167   946.566666         0.6     567.93\n",
       "66168  3568.930215        93.0  331910.50\n",
       "\n",
       "[66169 rows x 3 columns]"
      ]
     },
     "execution_count": 23,
     "metadata": {},
     "output_type": "execute_result"
    }
   ],
   "source": [
    "df_features"
   ]
  },
  {
   "cell_type": "code",
   "execution_count": 24,
   "metadata": {},
   "outputs": [
    {
     "data": {
      "text/html": [
       "<div>\n",
       "<style scoped>\n",
       "    .dataframe tbody tr th:only-of-type {\n",
       "        vertical-align: middle;\n",
       "    }\n",
       "\n",
       "    .dataframe tbody tr th {\n",
       "        vertical-align: top;\n",
       "    }\n",
       "\n",
       "    .dataframe thead th {\n",
       "        text-align: right;\n",
       "    }\n",
       "</style>\n",
       "<table border=\"1\" class=\"dataframe\">\n",
       "  <thead>\n",
       "    <tr style=\"text-align: right;\">\n",
       "      <th></th>\n",
       "      <th>PU</th>\n",
       "      <th>Quantidade</th>\n",
       "      <th>Valor</th>\n",
       "    </tr>\n",
       "  </thead>\n",
       "  <tbody>\n",
       "    <tr>\n",
       "      <th>6</th>\n",
       "      <td>3694.700000</td>\n",
       "      <td>83.2</td>\n",
       "      <td>307399.04</td>\n",
       "    </tr>\n",
       "    <tr>\n",
       "      <th>9</th>\n",
       "      <td>3692.770059</td>\n",
       "      <td>133.6</td>\n",
       "      <td>493354.07</td>\n",
       "    </tr>\n",
       "    <tr>\n",
       "      <th>27</th>\n",
       "      <td>3728.658416</td>\n",
       "      <td>140.2</td>\n",
       "      <td>522757.90</td>\n",
       "    </tr>\n",
       "    <tr>\n",
       "      <th>32</th>\n",
       "      <td>3726.728894</td>\n",
       "      <td>39.8</td>\n",
       "      <td>148323.80</td>\n",
       "    </tr>\n",
       "    <tr>\n",
       "      <th>47</th>\n",
       "      <td>3730.540024</td>\n",
       "      <td>409.0</td>\n",
       "      <td>1525790.86</td>\n",
       "    </tr>\n",
       "    <tr>\n",
       "      <th>...</th>\n",
       "      <td>...</td>\n",
       "      <td>...</td>\n",
       "      <td>...</td>\n",
       "    </tr>\n",
       "    <tr>\n",
       "      <th>66128</th>\n",
       "      <td>3534.769820</td>\n",
       "      <td>100.4</td>\n",
       "      <td>354890.88</td>\n",
       "    </tr>\n",
       "    <tr>\n",
       "      <th>66138</th>\n",
       "      <td>3566.330371</td>\n",
       "      <td>75.4</td>\n",
       "      <td>268901.30</td>\n",
       "    </tr>\n",
       "    <tr>\n",
       "      <th>66144</th>\n",
       "      <td>3567.210000</td>\n",
       "      <td>76.0</td>\n",
       "      <td>271107.96</td>\n",
       "    </tr>\n",
       "    <tr>\n",
       "      <th>66162</th>\n",
       "      <td>3568.050000</td>\n",
       "      <td>175.4</td>\n",
       "      <td>625835.97</td>\n",
       "    </tr>\n",
       "    <tr>\n",
       "      <th>66168</th>\n",
       "      <td>3568.930215</td>\n",
       "      <td>93.0</td>\n",
       "      <td>331910.50</td>\n",
       "    </tr>\n",
       "  </tbody>\n",
       "</table>\n",
       "<p>7957 rows × 3 columns</p>\n",
       "</div>"
      ],
      "text/plain": [
       "                PU  Quantidade       Valor\n",
       "6      3694.700000        83.2   307399.04\n",
       "9      3692.770059       133.6   493354.07\n",
       "27     3728.658416       140.2   522757.90\n",
       "32     3726.728894        39.8   148323.80\n",
       "47     3730.540024       409.0  1525790.86\n",
       "...            ...         ...         ...\n",
       "66128  3534.769820       100.4   354890.88\n",
       "66138  3566.330371        75.4   268901.30\n",
       "66144  3567.210000        76.0   271107.96\n",
       "66162  3568.050000       175.4   625835.97\n",
       "66168  3568.930215        93.0   331910.50\n",
       "\n",
       "[7957 rows x 3 columns]"
      ]
     },
     "execution_count": 24,
     "metadata": {},
     "output_type": "execute_result"
    }
   ],
   "source": [
    "df_features_c1=df_dados_c1.drop(columns=['Tipo_Titulo','Data_Venda','Vencimento_do_Titulo'])\n",
    "df_features_c1"
   ]
  },
  {
   "cell_type": "code",
   "execution_count": 25,
   "metadata": {},
   "outputs": [
    {
     "data": {
      "text/plain": [
       "0.9999164538969575"
      ]
     },
     "execution_count": 25,
     "metadata": {},
     "output_type": "execute_result"
    }
   ],
   "source": [
    "#Tentando fazer o training com df_dados_c1(seriam os dados redimencionados para f1 e f2 dos tesouros de tipo Selic)\n",
    "pu_selic=df_dados_c1['PU']\n",
    "X_train, X_test, y_train, y_test = train_test_split(df_features_c1.values, pu_selic, test_size=0.2)\n",
    "model = getModel().fit(X_train, y_train)\n",
    "\n",
    "score = model.score(X_test,y_test)\n",
    "\n",
    "score"
   ]
  },
  {
   "cell_type": "markdown",
   "metadata": {},
   "source": [
    "#### Validando de maneira mais elaborada"
   ]
  },
  {
   "cell_type": "code",
   "execution_count": null,
   "metadata": {},
   "outputs": [],
   "source": [
    "scores = cross_val_score(getModel(), df_features.values, pu, cv = 10)\n",
    "# pq está tão baixo?\n",
    "print('R2=',np.mean(scores))"
   ]
  },
  {
   "cell_type": "markdown",
   "metadata": {},
   "source": [
    "#### Fazendo previsões"
   ]
  },
  {
   "cell_type": "code",
   "execution_count": null,
   "metadata": {},
   "outputs": [],
   "source": [
    "# cada array deve ter um número por coluna, como temos duas colunas então fica 0.9,0.9 por item por exemplo\n",
    "model.predict([[0.9, 0.9], [0.1, 0.1]])"
   ]
  },
  {
   "cell_type": "markdown",
   "metadata": {},
   "source": [
    "#### VERIFICANDO CORRELAÇÃO"
   ]
  },
  {
   "cell_type": "code",
   "execution_count": null,
   "metadata": {},
   "outputs": [],
   "source": [
    "pû = cross_val_predict(getModel(), df_features.values, pu, cv = 20)\n",
    "plt.scatter(pu, pû)\n",
    "\n",
    "plt.xlabel('Real')\n",
    "plt.ylabel('Predito')\n",
    "\n",
    "plt.show()"
   ]
  },
  {
   "cell_type": "code",
   "execution_count": null,
   "metadata": {},
   "outputs": [],
   "source": [
    "pû_selic = cross_val_predict(getModel(),df_features_c1.values,  pu_selic, cv = 20)\n",
    "plt.scatter(pu_selic, pû_selic)\n",
    "\n",
    "plt.xlabel('Real')\n",
    "plt.ylabel('Predito')\n",
    "\n",
    "plt.show()"
   ]
  },
  {
   "cell_type": "code",
   "execution_count": null,
   "metadata": {},
   "outputs": [],
   "source": [
    "fig=plt.figure(figsize=(10,3))\n",
    "isSelic = df_data['Tipo_Titulo'] == \"Tesouro Selic\"\n",
    "#if df_data.isSelic == true:\n",
    " #   plt.plot(df_data['PU'][isSelic],df_data['Quantidade'][isSelic])\n",
    "\n",
    "plt.title('Line Plot')\n",
    "plt.xlabel('Preço Unitário')\n",
    "plt.ylabel('Quantidade')\n",
    "#df_data['PU'][isSelic].value_counts()\n",
    "plt.show()\n",
    "\n",
    "isSelic"
   ]
  },
  {
   "cell_type": "code",
   "execution_count": null,
   "metadata": {},
   "outputs": [],
   "source": []
  }
 ],
 "metadata": {
  "kernelspec": {
   "display_name": "Python 3",
   "language": "python",
   "name": "python3"
  },
  "language_info": {
   "codemirror_mode": {
    "name": "ipython",
    "version": 3
   },
   "file_extension": ".py",
   "mimetype": "text/x-python",
   "name": "python",
   "nbconvert_exporter": "python",
   "pygments_lexer": "ipython3",
   "version": "3.8.5"
  }
 },
 "nbformat": 4,
 "nbformat_minor": 5
}
