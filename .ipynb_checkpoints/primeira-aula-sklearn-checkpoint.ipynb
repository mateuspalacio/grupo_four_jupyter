{
 "cells": [
  {
   "cell_type": "markdown",
   "id": "6774f84b",
   "metadata": {},
   "source": [
    "#### IMPORTANDO BIBLIOTECAS"
   ]
  },
  {
   "cell_type": "code",
   "execution_count": 1,
   "id": "ec5bf47e",
   "metadata": {},
   "outputs": [],
   "source": [
    "import pandas as pd\n",
    "import matplotlib.pyplot as plt\n",
    "import numpy as np\n",
    "\n",
    "from sklearn.manifold import TSNE\n",
    "from sklearn.metrics import confusion_matrix\n",
    "from sklearn.linear_model import LogisticRegression\n",
    "from sklearn.tree import DecisionTreeClassifier\n",
    "from sklearn.model_selection import train_test_split, cross_val_score, cross_val_predict"
   ]
  },
  {
   "cell_type": "markdown",
   "id": "00ddd349",
   "metadata": {},
   "source": [
    "#### CARREGANDO DADOS"
   ]
  },
  {
   "cell_type": "code",
   "execution_count": 2,
   "id": "6d77126c",
   "metadata": {
    "scrolled": true
   },
   "outputs": [
    {
     "data": {
      "text/html": [
       "<div>\n",
       "<style scoped>\n",
       "    .dataframe tbody tr th:only-of-type {\n",
       "        vertical-align: middle;\n",
       "    }\n",
       "\n",
       "    .dataframe tbody tr th {\n",
       "        vertical-align: top;\n",
       "    }\n",
       "\n",
       "    .dataframe thead th {\n",
       "        text-align: right;\n",
       "    }\n",
       "</style>\n",
       "<table border=\"1\" class=\"dataframe\">\n",
       "  <thead>\n",
       "    <tr style=\"text-align: right;\">\n",
       "      <th></th>\n",
       "      <th>x</th>\n",
       "      <th>y</th>\n",
       "      <th>target</th>\n",
       "      <th>x2</th>\n",
       "    </tr>\n",
       "  </thead>\n",
       "  <tbody>\n",
       "    <tr>\n",
       "      <th>0</th>\n",
       "      <td>0.425160</td>\n",
       "      <td>0.606419</td>\n",
       "      <td>C1</td>\n",
       "      <td>0.005601</td>\n",
       "    </tr>\n",
       "    <tr>\n",
       "      <th>1</th>\n",
       "      <td>0.436655</td>\n",
       "      <td>0.582819</td>\n",
       "      <td>C1</td>\n",
       "      <td>0.004013</td>\n",
       "    </tr>\n",
       "    <tr>\n",
       "      <th>2</th>\n",
       "      <td>0.463614</td>\n",
       "      <td>0.612960</td>\n",
       "      <td>C1</td>\n",
       "      <td>0.001324</td>\n",
       "    </tr>\n",
       "    <tr>\n",
       "      <th>3</th>\n",
       "      <td>0.417572</td>\n",
       "      <td>0.603047</td>\n",
       "      <td>C1</td>\n",
       "      <td>0.006794</td>\n",
       "    </tr>\n",
       "    <tr>\n",
       "      <th>4</th>\n",
       "      <td>0.443016</td>\n",
       "      <td>0.589381</td>\n",
       "      <td>C1</td>\n",
       "      <td>0.003247</td>\n",
       "    </tr>\n",
       "    <tr>\n",
       "      <th>...</th>\n",
       "      <td>...</td>\n",
       "      <td>...</td>\n",
       "      <td>...</td>\n",
       "      <td>...</td>\n",
       "    </tr>\n",
       "    <tr>\n",
       "      <th>823</th>\n",
       "      <td>0.373943</td>\n",
       "      <td>0.598340</td>\n",
       "      <td>C1</td>\n",
       "      <td>0.015890</td>\n",
       "    </tr>\n",
       "    <tr>\n",
       "      <th>824</th>\n",
       "      <td>0.338544</td>\n",
       "      <td>0.649235</td>\n",
       "      <td>C1</td>\n",
       "      <td>0.026068</td>\n",
       "    </tr>\n",
       "    <tr>\n",
       "      <th>825</th>\n",
       "      <td>0.364488</td>\n",
       "      <td>0.629409</td>\n",
       "      <td>C1</td>\n",
       "      <td>0.018364</td>\n",
       "    </tr>\n",
       "    <tr>\n",
       "      <th>826</th>\n",
       "      <td>0.352973</td>\n",
       "      <td>0.649214</td>\n",
       "      <td>C1</td>\n",
       "      <td>0.021617</td>\n",
       "    </tr>\n",
       "    <tr>\n",
       "      <th>827</th>\n",
       "      <td>0.360018</td>\n",
       "      <td>0.634379</td>\n",
       "      <td>C1</td>\n",
       "      <td>0.019595</td>\n",
       "    </tr>\n",
       "  </tbody>\n",
       "</table>\n",
       "<p>828 rows × 4 columns</p>\n",
       "</div>"
      ],
      "text/plain": [
       "            x         y target        x2\n",
       "0    0.425160  0.606419     C1  0.005601\n",
       "1    0.436655  0.582819     C1  0.004013\n",
       "2    0.463614  0.612960     C1  0.001324\n",
       "3    0.417572  0.603047     C1  0.006794\n",
       "4    0.443016  0.589381     C1  0.003247\n",
       "..        ...       ...    ...       ...\n",
       "823  0.373943  0.598340     C1  0.015890\n",
       "824  0.338544  0.649235     C1  0.026068\n",
       "825  0.364488  0.629409     C1  0.018364\n",
       "826  0.352973  0.649214     C1  0.021617\n",
       "827  0.360018  0.634379     C1  0.019595\n",
       "\n",
       "[828 rows x 4 columns]"
      ]
     },
     "execution_count": 2,
     "metadata": {},
     "output_type": "execute_result"
    }
   ],
   "source": [
    "df_dados = pd.read_csv('Painted data.csv')\n",
    "\n",
    "df_dados['x2'] = (df_dados['x']-0.5) ** 2 \n",
    "\n",
    "df_dados"
   ]
  },
  {
   "cell_type": "markdown",
   "id": "e0a1078c",
   "metadata": {},
   "source": [
    "#### VISUALIZANDO DADOS"
   ]
  },
  {
   "cell_type": "code",
   "execution_count": 3,
   "id": "5072957a",
   "metadata": {
    "scrolled": true
   },
   "outputs": [
    {
     "data": {
      "image/png": "[encoded data removed]",
      "text/plain": [
       "<Figure size 432x288 with 1 Axes>"
      ]
     },
     "metadata": {
      "needs_background": "light"
     },
     "output_type": "display_data"
    }
   ],
   "source": [
    "plt.scatter(df_dados['x'],df_dados['y'],c=df_dados['target'])\n",
    "\n",
    "plt.xlabel('x')\n",
    "plt.ylabel('y')\n",
    "\n",
    "plt.show()"
   ]
  },
  {
   "cell_type": "code",
   "execution_count": 4,
   "id": "6b45e8e5",
   "metadata": {},
   "outputs": [
    {
     "data": {
      "image/png": "[encoded data removed]",
      "text/plain": [
       "<Figure size 432x288 with 1 Axes>"
      ]
     },
     "metadata": {
      "needs_background": "light"
     },
     "output_type": "display_data"
    }
   ],
   "source": [
    "df_dados_c1 = df_dados[df_dados['target']=='C1']\n",
    "df_dados_c2 = df_dados[df_dados['target']=='C2']\n",
    "\n",
    "if 'x2' in df_dados.columns:\n",
    "    ax = plt.axes(projection='3d')\n",
    "    ax.scatter3D(df_dados_c1['x'].array,df_dados_c1['y'].array,df_dados_c1['x2'].array, color='blue');\n",
    "    ax.scatter3D(df_dados_c2['x'].array,df_dados_c2['y'].array,df_dados_c2['x2'].array, color='red');\n",
    "    plt.show()"
   ]
  },
  {
   "cell_type": "markdown",
   "id": "87380f9a",
   "metadata": {},
   "source": [
    "#### PREPARANDO DADOS"
   ]
  },
  {
   "cell_type": "code",
   "execution_count": 5,
   "id": "21f2a90b",
   "metadata": {
    "scrolled": true
   },
   "outputs": [
    {
     "data": {
      "text/html": [
       "<div>\n",
       "<style scoped>\n",
       "    .dataframe tbody tr th:only-of-type {\n",
       "        vertical-align: middle;\n",
       "    }\n",
       "\n",
       "    .dataframe tbody tr th {\n",
       "        vertical-align: top;\n",
       "    }\n",
       "\n",
       "    .dataframe thead th {\n",
       "        text-align: right;\n",
       "    }\n",
       "</style>\n",
       "<table border=\"1\" class=\"dataframe\">\n",
       "  <thead>\n",
       "    <tr style=\"text-align: right;\">\n",
       "      <th></th>\n",
       "      <th>x</th>\n",
       "      <th>y</th>\n",
       "      <th>x2</th>\n",
       "    </tr>\n",
       "  </thead>\n",
       "  <tbody>\n",
       "    <tr>\n",
       "      <th>0</th>\n",
       "      <td>0.425160</td>\n",
       "      <td>0.606419</td>\n",
       "      <td>0.005601</td>\n",
       "    </tr>\n",
       "    <tr>\n",
       "      <th>1</th>\n",
       "      <td>0.436655</td>\n",
       "      <td>0.582819</td>\n",
       "      <td>0.004013</td>\n",
       "    </tr>\n",
       "    <tr>\n",
       "      <th>2</th>\n",
       "      <td>0.463614</td>\n",
       "      <td>0.612960</td>\n",
       "      <td>0.001324</td>\n",
       "    </tr>\n",
       "    <tr>\n",
       "      <th>3</th>\n",
       "      <td>0.417572</td>\n",
       "      <td>0.603047</td>\n",
       "      <td>0.006794</td>\n",
       "    </tr>\n",
       "    <tr>\n",
       "      <th>4</th>\n",
       "      <td>0.443016</td>\n",
       "      <td>0.589381</td>\n",
       "      <td>0.003247</td>\n",
       "    </tr>\n",
       "    <tr>\n",
       "      <th>...</th>\n",
       "      <td>...</td>\n",
       "      <td>...</td>\n",
       "      <td>...</td>\n",
       "    </tr>\n",
       "    <tr>\n",
       "      <th>823</th>\n",
       "      <td>0.373943</td>\n",
       "      <td>0.598340</td>\n",
       "      <td>0.015890</td>\n",
       "    </tr>\n",
       "    <tr>\n",
       "      <th>824</th>\n",
       "      <td>0.338544</td>\n",
       "      <td>0.649235</td>\n",
       "      <td>0.026068</td>\n",
       "    </tr>\n",
       "    <tr>\n",
       "      <th>825</th>\n",
       "      <td>0.364488</td>\n",
       "      <td>0.629409</td>\n",
       "      <td>0.018364</td>\n",
       "    </tr>\n",
       "    <tr>\n",
       "      <th>826</th>\n",
       "      <td>0.352973</td>\n",
       "      <td>0.649214</td>\n",
       "      <td>0.021617</td>\n",
       "    </tr>\n",
       "    <tr>\n",
       "      <th>827</th>\n",
       "      <td>0.360018</td>\n",
       "      <td>0.634379</td>\n",
       "      <td>0.019595</td>\n",
       "    </tr>\n",
       "  </tbody>\n",
       "</table>\n",
       "<p>828 rows × 3 columns</p>\n",
       "</div>"
      ],
      "text/plain": [
       "            x         y        x2\n",
       "0    0.425160  0.606419  0.005601\n",
       "1    0.436655  0.582819  0.004013\n",
       "2    0.463614  0.612960  0.001324\n",
       "3    0.417572  0.603047  0.006794\n",
       "4    0.443016  0.589381  0.003247\n",
       "..        ...       ...       ...\n",
       "823  0.373943  0.598340  0.015890\n",
       "824  0.338544  0.649235  0.026068\n",
       "825  0.364488  0.629409  0.018364\n",
       "826  0.352973  0.649214  0.021617\n",
       "827  0.360018  0.634379  0.019595\n",
       "\n",
       "[828 rows x 3 columns]"
      ]
     },
     "execution_count": 5,
     "metadata": {},
     "output_type": "execute_result"
    }
   ],
   "source": [
    "df_features = df_dados.drop(columns=['target'])\n",
    "\n",
    "target = df_dados['target'].array\n",
    "\n",
    "df_features"
   ]
  },
  {
   "cell_type": "markdown",
   "id": "3306aae9",
   "metadata": {},
   "source": [
    "#### TREINANDO E VALIDANDO NOSSO MODELO"
   ]
  },
  {
   "cell_type": "code",
   "execution_count": 6,
   "id": "14a16a06",
   "metadata": {},
   "outputs": [],
   "source": [
    "def getModel():\n",
    "    return LogisticRegression()\n",
    "#     return DecisionTreeClassifier()"
   ]
  },
  {
   "cell_type": "code",
   "execution_count": 7,
   "id": "b5b432e2",
   "metadata": {},
   "outputs": [],
   "source": [
    "X_train, X_test, y_train, y_test = train_test_split(df_features.values, target, test_size=0.2)"
   ]
  },
  {
   "cell_type": "code",
   "execution_count": 8,
   "id": "9a807ec8",
   "metadata": {},
   "outputs": [
    {
     "name": "stdout",
     "output_type": "stream",
     "text": [
      "acurácia= 0.8795180722891566\n"
     ]
    }
   ],
   "source": [
    "model = getModel().fit(X_train,y_train)\n",
    "\n",
    "score = model.score(X_test,y_test)\n",
    "\n",
    "print('acurácia=',score)"
   ]
  },
  {
   "cell_type": "markdown",
   "id": "4ff2a723",
   "metadata": {},
   "source": [
    "#### VALIDANDO DE MANEIRA MAIS ELABORADA"
   ]
  },
  {
   "cell_type": "code",
   "execution_count": 9,
   "id": "65c702a7",
   "metadata": {},
   "outputs": [
    {
     "name": "stdout",
     "output_type": "stream",
     "text": [
      "acurácia= 0.822715251248898\n"
     ]
    }
   ],
   "source": [
    "scores = cross_val_score(getModel(), df_features.values, target, cv=10)\n",
    "\n",
    "print('acurácia=',np.mean(scores))"
   ]
  },
  {
   "cell_type": "markdown",
   "id": "532d7e45",
   "metadata": {},
   "source": [
    "#### VISUALIZANDO A MATRIZ DE CONFUSÃO"
   ]
  },
  {
   "cell_type": "code",
   "execution_count": 10,
   "id": "0e8f03dd",
   "metadata": {},
   "outputs": [
    {
     "data": {
      "text/html": [
       "<div>\n",
       "<style scoped>\n",
       "    .dataframe tbody tr th:only-of-type {\n",
       "        vertical-align: middle;\n",
       "    }\n",
       "\n",
       "    .dataframe tbody tr th {\n",
       "        vertical-align: top;\n",
       "    }\n",
       "\n",
       "    .dataframe thead th {\n",
       "        text-align: right;\n",
       "    }\n",
       "</style>\n",
       "<table border=\"1\" class=\"dataframe\">\n",
       "  <thead>\n",
       "    <tr style=\"text-align: right;\">\n",
       "      <th></th>\n",
       "      <th>C1</th>\n",
       "      <th>C2</th>\n",
       "    </tr>\n",
       "  </thead>\n",
       "  <tbody>\n",
       "    <tr>\n",
       "      <th>0</th>\n",
       "      <td>408</td>\n",
       "      <td>0</td>\n",
       "    </tr>\n",
       "    <tr>\n",
       "      <th>1</th>\n",
       "      <td>147</td>\n",
       "      <td>273</td>\n",
       "    </tr>\n",
       "  </tbody>\n",
       "</table>\n",
       "</div>"
      ],
      "text/plain": [
       "    C1   C2\n",
       "0  408    0\n",
       "1  147  273"
      ]
     },
     "execution_count": 10,
     "metadata": {},
     "output_type": "execute_result"
    }
   ],
   "source": [
    "predicoes = cross_val_predict(getModel(), df_features.values, target, cv=10)\n",
    "\n",
    "cm = confusion_matrix(target, predicoes, labels=[\"C1\", \"C2\"])\n",
    "\n",
    "df_cm = pd.DataFrame(cm,columns=['C1','C2'])\n",
    "\n",
    "df_cm"
   ]
  }
 ],
 "metadata": {
  "kernelspec": {
   "display_name": "Python 3",
   "language": "python",
   "name": "python3"
  },
  "language_info": {
   "codemirror_mode": {
    "name": "ipython",
    "version": 3
   },
   "file_extension": ".py",
   "mimetype": "text/x-python",
   "name": "python",
   "nbconvert_exporter": "python",
   "pygments_lexer": "ipython3",
   "version": "3.9.6"
  }
 },
 "nbformat": 4,
 "nbformat_minor": 5
}
