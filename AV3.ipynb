{
  "nbformat": 4,
  "nbformat_minor": 5,
  "metadata": {
    "kernelspec": {
      "display_name": "Python 3 (ipykernel)",
      "language": "python",
      "name": "python3"
    },
    "language_info": {
      "codemirror_mode": {
        "name": "ipython",
        "version": 3
      },
      "file_extension": ".py",
      "mimetype": "text/x-python",
      "name": "python",
      "nbconvert_exporter": "python",
      "pygments_lexer": "ipython3",
      "version": "3.8.12"
    },
    "colab": {
      "name": "AV3.ipynb",
      "provenance": [],
      "collapsed_sections": [],
      "include_colab_link": true
    },
    "accelerator": "GPU"
  },
  "cells": [
    {
      "cell_type": "markdown",
      "metadata": {
        "id": "view-in-github",
        "colab_type": "text"
      },
      "source": [
        "<a href=\"https://colab.research.google.com/github/mateuspalacio/grupo_four_jupyter/blob/main/AV3.ipynb\" target=\"_parent\"><img src=\"https://colab.research.google.com/assets/colab-badge.svg\" alt=\"Open In Colab\"/></a>"
      ]
    },
    {
      "cell_type": "code",
      "metadata": {
        "colab": {
          "base_uri": "https://localhost:8080/"
        },
        "id": "068f2700",
        "outputId": "bcbb18a2-7e78-4dd9-a32b-7cc8ae642091"
      },
      "source": [
        "from sklearn.model_selection import train_test_split, cross_val_score, cross_val_predict\n",
        "from sklearn.linear_model import LinearRegression, LogisticRegression\n",
        "from sklearn.ensemble import RandomForestRegressor\n",
        "from sklearn.tree import DecisionTreeRegressor\n",
        "from sklearn.manifold import TSNE\n",
        "from sklearn.metrics import confusion_matrix,r2_score,mean_absolute_error,mean_squared_error\n",
        "from sklearn.preprocessing import MinMaxScaler\n",
        "from collections import Counter\n",
        "from math import sqrt\n",
        "from datetime import date, timedelta\n",
        "import tensorflow as tf\n",
        "\n",
        "\n",
        "from math import sqrt\n",
        "\n",
        "transformar_features = True\n",
        "\n",
        "import itertools\n",
        "import os\n",
        "import pandas as pd\n",
        "import matplotlib.pyplot as plt\n",
        "import matplotlib.dates as mdates\n",
        "import matplotlib.cbook as cbook\n",
        "import datetime as dt\n",
        "import numpy as np\n",
        "from datetime import datetime\n",
        "import statsmodels.api as sm\n",
        "import multiprocessing as mp"
      ],
      "id": "068f2700",
      "execution_count": 1,
      "outputs": [
        {
          "output_type": "stream",
          "name": "stderr",
          "text": [
            "/usr/local/lib/python3.7/dist-packages/statsmodels/tools/_testing.py:19: FutureWarning: pandas.util.testing is deprecated. Use the functions in the public API at pandas.testing instead.\n",
            "  import pandas.util.testing as tm\n"
          ]
        }
      ]
    },
    {
      "cell_type": "code",
      "metadata": {
        "colab": {
          "base_uri": "https://localhost:8080/"
        },
        "id": "1fb6a093",
        "outputId": "55ff1930-5e7d-4cb9-ff24-667a336da2da"
      },
      "source": [
        "os.environ['CUDA_VISIBLE_DEVICES'] = '-1'\n",
        "\n",
        "if tf.test.gpu_device_name():\n",
        "    print('GPU found')\n",
        "else:\n",
        "    print(\"No GPU found\")"
      ],
      "id": "1fb6a093",
      "execution_count": 2,
      "outputs": [
        {
          "output_type": "stream",
          "name": "stdout",
          "text": [
            "No GPU found\n"
          ]
        }
      ]
    },
    {
      "cell_type": "code",
      "metadata": {
        "colab": {
          "base_uri": "https://localhost:8080/",
          "height": 35
        },
        "id": "abb0ea5f",
        "outputId": "2f7bfddc-c90b-431b-86a5-0763f52b268e"
      },
      "source": [
        "tf.test.gpu_device_name()"
      ],
      "id": "abb0ea5f",
      "execution_count": 3,
      "outputs": [
        {
          "output_type": "execute_result",
          "data": {
            "application/vnd.google.colaboratory.intrinsic+json": {
              "type": "string"
            },
            "text/plain": [
              "''"
            ]
          },
          "metadata": {},
          "execution_count": 3
        }
      ]
    },
    {
      "cell_type": "code",
      "metadata": {
        "colab": {
          "base_uri": "https://localhost:8080/"
        },
        "id": "ffe737f4",
        "outputId": "9cffa41f-c056-431b-e339-fe778df3d01a"
      },
      "source": [
        "print(\"Num GPUs Available: \", len(tf.config.experimental.list_physical_devices('GPU')))"
      ],
      "id": "ffe737f4",
      "execution_count": 4,
      "outputs": [
        {
          "output_type": "stream",
          "name": "stdout",
          "text": [
            "Num GPUs Available:  0\n"
          ]
        }
      ]
    },
    {
      "cell_type": "code",
      "metadata": {
        "colab": {
          "base_uri": "https://localhost:8080/",
          "height": 424
        },
        "id": "88cdff94",
        "outputId": "468be26c-5720-4c1a-89bc-131a4d919c6c"
      },
      "source": [
        "path = os.path.join('VendasTesouroDireto_1.json')\n",
        "values = pd.read_json(path)\n",
        "df_data = pd.DataFrame(values)\n",
        "df_data['Tipo_Titulo'] = df_data['Tipo_Titulo'].astype('str') \n",
        "df_data['PU'] = df_data['PU'].str.replace(',', '.')\n",
        "df_data['Quantidade'] = df_data['Quantidade'].str.replace(',', '.')\n",
        "df_data['Valor'] = df_data['Valor'].str.replace(',', '.')\n",
        "df_data['PU'] = pd.to_numeric(df_data['PU'],errors='coerce')\n",
        "df_data['Quantidade'] = pd.to_numeric(df_data['Quantidade'], errors='coerce')\n",
        "df_data['Valor'] = pd.to_numeric(df_data['Valor'], errors='coerce')\n",
        "\n",
        "df_data['Vencimento_do_Titulo'] = pd.to_datetime(df_data['Vencimento_do_Titulo'],errors='coerce',dayfirst=True)\n",
        " \n",
        "df_data['Data_Venda'] = pd.to_datetime(df_data['Data_Venda'],errors='coerce', dayfirst=True)\n",
        "\n",
        "df_data"
      ],
      "id": "88cdff94",
      "execution_count": 5,
      "outputs": [
        {
          "output_type": "execute_result",
          "data": {
            "text/html": [
              "<div>\n",
              "<style scoped>\n",
              "    .dataframe tbody tr th:only-of-type {\n",
              "        vertical-align: middle;\n",
              "    }\n",
              "\n",
              "    .dataframe tbody tr th {\n",
              "        vertical-align: top;\n",
              "    }\n",
              "\n",
              "    .dataframe thead th {\n",
              "        text-align: right;\n",
              "    }\n",
              "</style>\n",
              "<table border=\"1\" class=\"dataframe\">\n",
              "  <thead>\n",
              "    <tr style=\"text-align: right;\">\n",
              "      <th></th>\n",
              "      <th>Tipo_Titulo</th>\n",
              "      <th>Vencimento_do_Titulo</th>\n",
              "      <th>Data_Venda</th>\n",
              "      <th>PU</th>\n",
              "      <th>Quantidade</th>\n",
              "      <th>Valor</th>\n",
              "    </tr>\n",
              "  </thead>\n",
              "  <tbody>\n",
              "    <tr>\n",
              "      <th>0</th>\n",
              "      <td>Tesouro IPCA+ com Juros Semestrais</td>\n",
              "      <td>2012-08-15</td>\n",
              "      <td>2008-12-05</td>\n",
              "      <td>1655.206735</td>\n",
              "      <td>38.6</td>\n",
              "      <td>63890.97</td>\n",
              "    </tr>\n",
              "    <tr>\n",
              "      <th>1</th>\n",
              "      <td>Tesouro IPCA+ com Juros Semestrais</td>\n",
              "      <td>2017-05-15</td>\n",
              "      <td>2008-12-05</td>\n",
              "      <td>1480.154343</td>\n",
              "      <td>571.0</td>\n",
              "      <td>845168.12</td>\n",
              "    </tr>\n",
              "    <tr>\n",
              "      <th>2</th>\n",
              "      <td>Tesouro Prefixado com Juros Semestrais</td>\n",
              "      <td>2014-01-01</td>\n",
              "      <td>2008-12-05</td>\n",
              "      <td>870.303177</td>\n",
              "      <td>283.2</td>\n",
              "      <td>246469.85</td>\n",
              "    </tr>\n",
              "    <tr>\n",
              "      <th>3</th>\n",
              "      <td>Tesouro Prefixado com Juros Semestrais</td>\n",
              "      <td>2012-01-01</td>\n",
              "      <td>2008-12-05</td>\n",
              "      <td>936.285273</td>\n",
              "      <td>29.2</td>\n",
              "      <td>27339.52</td>\n",
              "    </tr>\n",
              "    <tr>\n",
              "      <th>4</th>\n",
              "      <td>Tesouro Prefixado com Juros Semestrais</td>\n",
              "      <td>2017-01-01</td>\n",
              "      <td>2008-12-05</td>\n",
              "      <td>808.587250</td>\n",
              "      <td>491.8</td>\n",
              "      <td>397663.20</td>\n",
              "    </tr>\n",
              "    <tr>\n",
              "      <th>...</th>\n",
              "      <td>...</td>\n",
              "      <td>...</td>\n",
              "      <td>...</td>\n",
              "      <td>...</td>\n",
              "      <td>...</td>\n",
              "      <td>...</td>\n",
              "    </tr>\n",
              "    <tr>\n",
              "      <th>66164</th>\n",
              "      <td>Tesouro Prefixado com Juros Semestrais</td>\n",
              "      <td>2010-01-01</td>\n",
              "      <td>2008-08-27</td>\n",
              "      <td>960.339019</td>\n",
              "      <td>110.2</td>\n",
              "      <td>105829.35</td>\n",
              "    </tr>\n",
              "    <tr>\n",
              "      <th>66165</th>\n",
              "      <td>Tesouro IPCA+ com Juros Semestrais</td>\n",
              "      <td>2010-08-15</td>\n",
              "      <td>2008-08-27</td>\n",
              "      <td>1672.613421</td>\n",
              "      <td>271.2</td>\n",
              "      <td>453612.75</td>\n",
              "    </tr>\n",
              "    <tr>\n",
              "      <th>66166</th>\n",
              "      <td>Tesouro IPCA+ com Juros Semestrais</td>\n",
              "      <td>2011-05-15</td>\n",
              "      <td>2008-08-27</td>\n",
              "      <td>1677.517573</td>\n",
              "      <td>88.2</td>\n",
              "      <td>147957.04</td>\n",
              "    </tr>\n",
              "    <tr>\n",
              "      <th>66167</th>\n",
              "      <td>Tesouro Prefixado com Juros Semestrais</td>\n",
              "      <td>2010-07-01</td>\n",
              "      <td>2008-08-27</td>\n",
              "      <td>946.566666</td>\n",
              "      <td>0.6</td>\n",
              "      <td>567.93</td>\n",
              "    </tr>\n",
              "    <tr>\n",
              "      <th>66168</th>\n",
              "      <td>Tesouro Selic</td>\n",
              "      <td>2014-03-07</td>\n",
              "      <td>2008-08-27</td>\n",
              "      <td>3568.930215</td>\n",
              "      <td>93.0</td>\n",
              "      <td>331910.50</td>\n",
              "    </tr>\n",
              "  </tbody>\n",
              "</table>\n",
              "<p>66169 rows × 6 columns</p>\n",
              "</div>"
            ],
            "text/plain": [
              "                                  Tipo_Titulo  ...      Valor\n",
              "0          Tesouro IPCA+ com Juros Semestrais  ...   63890.97\n",
              "1          Tesouro IPCA+ com Juros Semestrais  ...  845168.12\n",
              "2      Tesouro Prefixado com Juros Semestrais  ...  246469.85\n",
              "3      Tesouro Prefixado com Juros Semestrais  ...   27339.52\n",
              "4      Tesouro Prefixado com Juros Semestrais  ...  397663.20\n",
              "...                                       ...  ...        ...\n",
              "66164  Tesouro Prefixado com Juros Semestrais  ...  105829.35\n",
              "66165      Tesouro IPCA+ com Juros Semestrais  ...  453612.75\n",
              "66166      Tesouro IPCA+ com Juros Semestrais  ...  147957.04\n",
              "66167  Tesouro Prefixado com Juros Semestrais  ...     567.93\n",
              "66168                           Tesouro Selic  ...  331910.50\n",
              "\n",
              "[66169 rows x 6 columns]"
            ]
          },
          "metadata": {},
          "execution_count": 5
        }
      ]
    },
    {
      "cell_type": "code",
      "metadata": {
        "colab": {
          "base_uri": "https://localhost:8080/"
        },
        "id": "f7576dcc",
        "outputId": "738c74a9-5e8c-4ca2-8942-e4dc23190e07"
      },
      "source": [
        "df_data.info()"
      ],
      "id": "f7576dcc",
      "execution_count": 6,
      "outputs": [
        {
          "output_type": "stream",
          "name": "stdout",
          "text": [
            "<class 'pandas.core.frame.DataFrame'>\n",
            "RangeIndex: 66169 entries, 0 to 66168\n",
            "Data columns (total 6 columns):\n",
            " #   Column                Non-Null Count  Dtype         \n",
            "---  ------                --------------  -----         \n",
            " 0   Tipo_Titulo           66169 non-null  object        \n",
            " 1   Vencimento_do_Titulo  66169 non-null  datetime64[ns]\n",
            " 2   Data_Venda            66169 non-null  datetime64[ns]\n",
            " 3   PU                    66169 non-null  float64       \n",
            " 4   Quantidade            66169 non-null  float64       \n",
            " 5   Valor                 66169 non-null  float64       \n",
            "dtypes: datetime64[ns](2), float64(3), object(1)\n",
            "memory usage: 3.0+ MB\n"
          ]
        }
      ]
    },
    {
      "cell_type": "code",
      "metadata": {
        "colab": {
          "base_uri": "https://localhost:8080/",
          "height": 424
        },
        "id": "3a0dd0b0",
        "outputId": "811ca542-0f82-4749-bbf8-524f520abae1"
      },
      "source": [
        "pu = df_data['Quantidade']\n",
        "# será se deve ser essas colunas mesmo?\n",
        "df_features = df_data.drop(columns=['Tipo_Titulo', 'Vencimento_do_Titulo', 'Data_Venda', 'Quantidade'])\n",
        "\n",
        "df_features"
      ],
      "id": "3a0dd0b0",
      "execution_count": 7,
      "outputs": [
        {
          "output_type": "execute_result",
          "data": {
            "text/html": [
              "<div>\n",
              "<style scoped>\n",
              "    .dataframe tbody tr th:only-of-type {\n",
              "        vertical-align: middle;\n",
              "    }\n",
              "\n",
              "    .dataframe tbody tr th {\n",
              "        vertical-align: top;\n",
              "    }\n",
              "\n",
              "    .dataframe thead th {\n",
              "        text-align: right;\n",
              "    }\n",
              "</style>\n",
              "<table border=\"1\" class=\"dataframe\">\n",
              "  <thead>\n",
              "    <tr style=\"text-align: right;\">\n",
              "      <th></th>\n",
              "      <th>PU</th>\n",
              "      <th>Valor</th>\n",
              "    </tr>\n",
              "  </thead>\n",
              "  <tbody>\n",
              "    <tr>\n",
              "      <th>0</th>\n",
              "      <td>1655.206735</td>\n",
              "      <td>63890.97</td>\n",
              "    </tr>\n",
              "    <tr>\n",
              "      <th>1</th>\n",
              "      <td>1480.154343</td>\n",
              "      <td>845168.12</td>\n",
              "    </tr>\n",
              "    <tr>\n",
              "      <th>2</th>\n",
              "      <td>870.303177</td>\n",
              "      <td>246469.85</td>\n",
              "    </tr>\n",
              "    <tr>\n",
              "      <th>3</th>\n",
              "      <td>936.285273</td>\n",
              "      <td>27339.52</td>\n",
              "    </tr>\n",
              "    <tr>\n",
              "      <th>4</th>\n",
              "      <td>808.587250</td>\n",
              "      <td>397663.20</td>\n",
              "    </tr>\n",
              "    <tr>\n",
              "      <th>...</th>\n",
              "      <td>...</td>\n",
              "      <td>...</td>\n",
              "    </tr>\n",
              "    <tr>\n",
              "      <th>66164</th>\n",
              "      <td>960.339019</td>\n",
              "      <td>105829.35</td>\n",
              "    </tr>\n",
              "    <tr>\n",
              "      <th>66165</th>\n",
              "      <td>1672.613421</td>\n",
              "      <td>453612.75</td>\n",
              "    </tr>\n",
              "    <tr>\n",
              "      <th>66166</th>\n",
              "      <td>1677.517573</td>\n",
              "      <td>147957.04</td>\n",
              "    </tr>\n",
              "    <tr>\n",
              "      <th>66167</th>\n",
              "      <td>946.566666</td>\n",
              "      <td>567.93</td>\n",
              "    </tr>\n",
              "    <tr>\n",
              "      <th>66168</th>\n",
              "      <td>3568.930215</td>\n",
              "      <td>331910.50</td>\n",
              "    </tr>\n",
              "  </tbody>\n",
              "</table>\n",
              "<p>66169 rows × 2 columns</p>\n",
              "</div>"
            ],
            "text/plain": [
              "                PU      Valor\n",
              "0      1655.206735   63890.97\n",
              "1      1480.154343  845168.12\n",
              "2       870.303177  246469.85\n",
              "3       936.285273   27339.52\n",
              "4       808.587250  397663.20\n",
              "...            ...        ...\n",
              "66164   960.339019  105829.35\n",
              "66165  1672.613421  453612.75\n",
              "66166  1677.517573  147957.04\n",
              "66167   946.566666     567.93\n",
              "66168  3568.930215  331910.50\n",
              "\n",
              "[66169 rows x 2 columns]"
            ]
          },
          "metadata": {},
          "execution_count": 7
        }
      ]
    },
    {
      "cell_type": "code",
      "metadata": {
        "id": "e5b963c8"
      },
      "source": [
        "df_dados_c0=df_data[df_data['Tipo_Titulo']=='Tesouro Prefixado com Juros Semestrais']\n",
        "df_dados_c1=df_data[df_data['Tipo_Titulo']=='Tesouro Selic']\n",
        "df_dados_c2=df_data[df_data['Tipo_Titulo']=='Tesouro Prefixado']\n",
        "df_dados_c3=df_data[df_data['Tipo_Titulo']=='Tesouro Prefixado IPCA+']\n",
        "df_dados_c4=df_data[df_data['Tipo_Titulo']=='Tesouro IGPM+ com Juros Semestrais']\n",
        "df_dados_c5=df_data[df_data['Tipo_Titulo']=='Tesouro Prefixado IPCA+ com Juros Semestrais']"
      ],
      "id": "e5b963c8",
      "execution_count": 8,
      "outputs": []
    },
    {
      "cell_type": "code",
      "metadata": {
        "colab": {
          "base_uri": "https://localhost:8080/",
          "height": 1000
        },
        "id": "bcf1e968",
        "outputId": "8c85a1f5-7f08-446f-fd24-ea6f09a0013c"
      },
      "source": [
        "df_dados_c1['d_semana'] = df_dados_c1['Data_Venda'].dt.strftime(\"%u\")\n",
        "df_dados_c1['d_mes'] = df_dados_c1['Data_Venda'].dt.strftime(\"%d\")\n",
        "df_dados_c1['d_ano'] = df_dados_c1['Data_Venda'].dt.strftime(\"%j\")\n",
        "\n",
        "df_dados_c1['d_semana'] = df_dados_c1['d_semana'].astype(int)\n",
        "df_dados_c1['d_mes'] = df_dados_c1['d_mes'].astype(int)\n",
        "df_dados_c1['d_ano'] = df_dados_c1['d_ano'].astype(int)\n",
        "\n",
        "df_dados_c1"
      ],
      "id": "bcf1e968",
      "execution_count": 9,
      "outputs": [
        {
          "output_type": "stream",
          "name": "stderr",
          "text": [
            "/usr/local/lib/python3.7/dist-packages/ipykernel_launcher.py:1: SettingWithCopyWarning: \n",
            "A value is trying to be set on a copy of a slice from a DataFrame.\n",
            "Try using .loc[row_indexer,col_indexer] = value instead\n",
            "\n",
            "See the caveats in the documentation: https://pandas.pydata.org/pandas-docs/stable/user_guide/indexing.html#returning-a-view-versus-a-copy\n",
            "  \"\"\"Entry point for launching an IPython kernel.\n",
            "/usr/local/lib/python3.7/dist-packages/ipykernel_launcher.py:2: SettingWithCopyWarning: \n",
            "A value is trying to be set on a copy of a slice from a DataFrame.\n",
            "Try using .loc[row_indexer,col_indexer] = value instead\n",
            "\n",
            "See the caveats in the documentation: https://pandas.pydata.org/pandas-docs/stable/user_guide/indexing.html#returning-a-view-versus-a-copy\n",
            "  \n",
            "/usr/local/lib/python3.7/dist-packages/ipykernel_launcher.py:3: SettingWithCopyWarning: \n",
            "A value is trying to be set on a copy of a slice from a DataFrame.\n",
            "Try using .loc[row_indexer,col_indexer] = value instead\n",
            "\n",
            "See the caveats in the documentation: https://pandas.pydata.org/pandas-docs/stable/user_guide/indexing.html#returning-a-view-versus-a-copy\n",
            "  This is separate from the ipykernel package so we can avoid doing imports until\n",
            "/usr/local/lib/python3.7/dist-packages/ipykernel_launcher.py:5: SettingWithCopyWarning: \n",
            "A value is trying to be set on a copy of a slice from a DataFrame.\n",
            "Try using .loc[row_indexer,col_indexer] = value instead\n",
            "\n",
            "See the caveats in the documentation: https://pandas.pydata.org/pandas-docs/stable/user_guide/indexing.html#returning-a-view-versus-a-copy\n",
            "  \"\"\"\n",
            "/usr/local/lib/python3.7/dist-packages/ipykernel_launcher.py:6: SettingWithCopyWarning: \n",
            "A value is trying to be set on a copy of a slice from a DataFrame.\n",
            "Try using .loc[row_indexer,col_indexer] = value instead\n",
            "\n",
            "See the caveats in the documentation: https://pandas.pydata.org/pandas-docs/stable/user_guide/indexing.html#returning-a-view-versus-a-copy\n",
            "  \n",
            "/usr/local/lib/python3.7/dist-packages/ipykernel_launcher.py:7: SettingWithCopyWarning: \n",
            "A value is trying to be set on a copy of a slice from a DataFrame.\n",
            "Try using .loc[row_indexer,col_indexer] = value instead\n",
            "\n",
            "See the caveats in the documentation: https://pandas.pydata.org/pandas-docs/stable/user_guide/indexing.html#returning-a-view-versus-a-copy\n",
            "  import sys\n"
          ]
        },
        {
          "output_type": "execute_result",
          "data": {
            "text/html": [
              "<div>\n",
              "<style scoped>\n",
              "    .dataframe tbody tr th:only-of-type {\n",
              "        vertical-align: middle;\n",
              "    }\n",
              "\n",
              "    .dataframe tbody tr th {\n",
              "        vertical-align: top;\n",
              "    }\n",
              "\n",
              "    .dataframe thead th {\n",
              "        text-align: right;\n",
              "    }\n",
              "</style>\n",
              "<table border=\"1\" class=\"dataframe\">\n",
              "  <thead>\n",
              "    <tr style=\"text-align: right;\">\n",
              "      <th></th>\n",
              "      <th>Tipo_Titulo</th>\n",
              "      <th>Vencimento_do_Titulo</th>\n",
              "      <th>Data_Venda</th>\n",
              "      <th>PU</th>\n",
              "      <th>Quantidade</th>\n",
              "      <th>Valor</th>\n",
              "      <th>d_semana</th>\n",
              "      <th>d_mes</th>\n",
              "      <th>d_ano</th>\n",
              "    </tr>\n",
              "  </thead>\n",
              "  <tbody>\n",
              "    <tr>\n",
              "      <th>6</th>\n",
              "      <td>Tesouro Selic</td>\n",
              "      <td>2012-03-07</td>\n",
              "      <td>2008-12-05</td>\n",
              "      <td>3694.700000</td>\n",
              "      <td>83.2</td>\n",
              "      <td>307399.04</td>\n",
              "      <td>5</td>\n",
              "      <td>5</td>\n",
              "      <td>340</td>\n",
              "    </tr>\n",
              "    <tr>\n",
              "      <th>9</th>\n",
              "      <td>Tesouro Selic</td>\n",
              "      <td>2014-03-07</td>\n",
              "      <td>2008-12-05</td>\n",
              "      <td>3692.770059</td>\n",
              "      <td>133.6</td>\n",
              "      <td>493354.07</td>\n",
              "      <td>5</td>\n",
              "      <td>5</td>\n",
              "      <td>340</td>\n",
              "    </tr>\n",
              "    <tr>\n",
              "      <th>27</th>\n",
              "      <td>Tesouro Selic</td>\n",
              "      <td>2012-03-07</td>\n",
              "      <td>2009-01-02</td>\n",
              "      <td>3728.658416</td>\n",
              "      <td>140.2</td>\n",
              "      <td>522757.90</td>\n",
              "      <td>5</td>\n",
              "      <td>2</td>\n",
              "      <td>2</td>\n",
              "    </tr>\n",
              "    <tr>\n",
              "      <th>32</th>\n",
              "      <td>Tesouro Selic</td>\n",
              "      <td>2014-03-07</td>\n",
              "      <td>2009-01-02</td>\n",
              "      <td>3726.728894</td>\n",
              "      <td>39.8</td>\n",
              "      <td>148323.80</td>\n",
              "      <td>5</td>\n",
              "      <td>2</td>\n",
              "      <td>2</td>\n",
              "    </tr>\n",
              "    <tr>\n",
              "      <th>47</th>\n",
              "      <td>Tesouro Selic</td>\n",
              "      <td>2012-03-07</td>\n",
              "      <td>2009-01-05</td>\n",
              "      <td>3730.540024</td>\n",
              "      <td>409.0</td>\n",
              "      <td>1525790.86</td>\n",
              "      <td>1</td>\n",
              "      <td>5</td>\n",
              "      <td>5</td>\n",
              "    </tr>\n",
              "    <tr>\n",
              "      <th>...</th>\n",
              "      <td>...</td>\n",
              "      <td>...</td>\n",
              "      <td>...</td>\n",
              "      <td>...</td>\n",
              "      <td>...</td>\n",
              "      <td>...</td>\n",
              "      <td>...</td>\n",
              "      <td>...</td>\n",
              "      <td>...</td>\n",
              "    </tr>\n",
              "    <tr>\n",
              "      <th>66128</th>\n",
              "      <td>Tesouro Selic</td>\n",
              "      <td>2014-03-07</td>\n",
              "      <td>2008-07-30</td>\n",
              "      <td>3534.769820</td>\n",
              "      <td>100.4</td>\n",
              "      <td>354890.88</td>\n",
              "      <td>3</td>\n",
              "      <td>30</td>\n",
              "      <td>212</td>\n",
              "    </tr>\n",
              "    <tr>\n",
              "      <th>66138</th>\n",
              "      <td>Tesouro Selic</td>\n",
              "      <td>2012-03-07</td>\n",
              "      <td>2008-08-26</td>\n",
              "      <td>3566.330371</td>\n",
              "      <td>75.4</td>\n",
              "      <td>268901.30</td>\n",
              "      <td>2</td>\n",
              "      <td>26</td>\n",
              "      <td>239</td>\n",
              "    </tr>\n",
              "    <tr>\n",
              "      <th>66144</th>\n",
              "      <td>Tesouro Selic</td>\n",
              "      <td>2014-03-07</td>\n",
              "      <td>2008-08-26</td>\n",
              "      <td>3567.210000</td>\n",
              "      <td>76.0</td>\n",
              "      <td>271107.96</td>\n",
              "      <td>2</td>\n",
              "      <td>26</td>\n",
              "      <td>239</td>\n",
              "    </tr>\n",
              "    <tr>\n",
              "      <th>66162</th>\n",
              "      <td>Tesouro Selic</td>\n",
              "      <td>2012-03-07</td>\n",
              "      <td>2008-08-27</td>\n",
              "      <td>3568.050000</td>\n",
              "      <td>175.4</td>\n",
              "      <td>625835.97</td>\n",
              "      <td>3</td>\n",
              "      <td>27</td>\n",
              "      <td>240</td>\n",
              "    </tr>\n",
              "    <tr>\n",
              "      <th>66168</th>\n",
              "      <td>Tesouro Selic</td>\n",
              "      <td>2014-03-07</td>\n",
              "      <td>2008-08-27</td>\n",
              "      <td>3568.930215</td>\n",
              "      <td>93.0</td>\n",
              "      <td>331910.50</td>\n",
              "      <td>3</td>\n",
              "      <td>27</td>\n",
              "      <td>240</td>\n",
              "    </tr>\n",
              "  </tbody>\n",
              "</table>\n",
              "<p>7957 rows × 9 columns</p>\n",
              "</div>"
            ],
            "text/plain": [
              "         Tipo_Titulo Vencimento_do_Titulo Data_Venda  ...  d_semana  d_mes  d_ano\n",
              "6      Tesouro Selic           2012-03-07 2008-12-05  ...         5      5    340\n",
              "9      Tesouro Selic           2014-03-07 2008-12-05  ...         5      5    340\n",
              "27     Tesouro Selic           2012-03-07 2009-01-02  ...         5      2      2\n",
              "32     Tesouro Selic           2014-03-07 2009-01-02  ...         5      2      2\n",
              "47     Tesouro Selic           2012-03-07 2009-01-05  ...         1      5      5\n",
              "...              ...                  ...        ...  ...       ...    ...    ...\n",
              "66128  Tesouro Selic           2014-03-07 2008-07-30  ...         3     30    212\n",
              "66138  Tesouro Selic           2012-03-07 2008-08-26  ...         2     26    239\n",
              "66144  Tesouro Selic           2014-03-07 2008-08-26  ...         2     26    239\n",
              "66162  Tesouro Selic           2012-03-07 2008-08-27  ...         3     27    240\n",
              "66168  Tesouro Selic           2014-03-07 2008-08-27  ...         3     27    240\n",
              "\n",
              "[7957 rows x 9 columns]"
            ]
          },
          "metadata": {},
          "execution_count": 9
        }
      ]
    },
    {
      "cell_type": "code",
      "metadata": {
        "colab": {
          "base_uri": "https://localhost:8080/",
          "height": 424
        },
        "id": "dcba7a59",
        "outputId": "1dc312e0-fd4f-45f7-a39c-d8cc324c951c"
      },
      "source": [
        "feature_names = ['PU','Quantidade', 'Valor','d_semana','d_mes','d_ano']\n",
        "df_features_c1=df_dados_c1.drop(columns=['Tipo_Titulo','Data_Venda','Vencimento_do_Titulo'])\n",
        "df_features_c1_datas = df_dados_c1.drop(columns=['Tipo_Titulo','Vencimento_do_Titulo'])\n",
        "df_features_c1"
      ],
      "id": "dcba7a59",
      "execution_count": 10,
      "outputs": [
        {
          "output_type": "execute_result",
          "data": {
            "text/html": [
              "<div>\n",
              "<style scoped>\n",
              "    .dataframe tbody tr th:only-of-type {\n",
              "        vertical-align: middle;\n",
              "    }\n",
              "\n",
              "    .dataframe tbody tr th {\n",
              "        vertical-align: top;\n",
              "    }\n",
              "\n",
              "    .dataframe thead th {\n",
              "        text-align: right;\n",
              "    }\n",
              "</style>\n",
              "<table border=\"1\" class=\"dataframe\">\n",
              "  <thead>\n",
              "    <tr style=\"text-align: right;\">\n",
              "      <th></th>\n",
              "      <th>PU</th>\n",
              "      <th>Quantidade</th>\n",
              "      <th>Valor</th>\n",
              "      <th>d_semana</th>\n",
              "      <th>d_mes</th>\n",
              "      <th>d_ano</th>\n",
              "    </tr>\n",
              "  </thead>\n",
              "  <tbody>\n",
              "    <tr>\n",
              "      <th>6</th>\n",
              "      <td>3694.700000</td>\n",
              "      <td>83.2</td>\n",
              "      <td>307399.04</td>\n",
              "      <td>5</td>\n",
              "      <td>5</td>\n",
              "      <td>340</td>\n",
              "    </tr>\n",
              "    <tr>\n",
              "      <th>9</th>\n",
              "      <td>3692.770059</td>\n",
              "      <td>133.6</td>\n",
              "      <td>493354.07</td>\n",
              "      <td>5</td>\n",
              "      <td>5</td>\n",
              "      <td>340</td>\n",
              "    </tr>\n",
              "    <tr>\n",
              "      <th>27</th>\n",
              "      <td>3728.658416</td>\n",
              "      <td>140.2</td>\n",
              "      <td>522757.90</td>\n",
              "      <td>5</td>\n",
              "      <td>2</td>\n",
              "      <td>2</td>\n",
              "    </tr>\n",
              "    <tr>\n",
              "      <th>32</th>\n",
              "      <td>3726.728894</td>\n",
              "      <td>39.8</td>\n",
              "      <td>148323.80</td>\n",
              "      <td>5</td>\n",
              "      <td>2</td>\n",
              "      <td>2</td>\n",
              "    </tr>\n",
              "    <tr>\n",
              "      <th>47</th>\n",
              "      <td>3730.540024</td>\n",
              "      <td>409.0</td>\n",
              "      <td>1525790.86</td>\n",
              "      <td>1</td>\n",
              "      <td>5</td>\n",
              "      <td>5</td>\n",
              "    </tr>\n",
              "    <tr>\n",
              "      <th>...</th>\n",
              "      <td>...</td>\n",
              "      <td>...</td>\n",
              "      <td>...</td>\n",
              "      <td>...</td>\n",
              "      <td>...</td>\n",
              "      <td>...</td>\n",
              "    </tr>\n",
              "    <tr>\n",
              "      <th>66128</th>\n",
              "      <td>3534.769820</td>\n",
              "      <td>100.4</td>\n",
              "      <td>354890.88</td>\n",
              "      <td>3</td>\n",
              "      <td>30</td>\n",
              "      <td>212</td>\n",
              "    </tr>\n",
              "    <tr>\n",
              "      <th>66138</th>\n",
              "      <td>3566.330371</td>\n",
              "      <td>75.4</td>\n",
              "      <td>268901.30</td>\n",
              "      <td>2</td>\n",
              "      <td>26</td>\n",
              "      <td>239</td>\n",
              "    </tr>\n",
              "    <tr>\n",
              "      <th>66144</th>\n",
              "      <td>3567.210000</td>\n",
              "      <td>76.0</td>\n",
              "      <td>271107.96</td>\n",
              "      <td>2</td>\n",
              "      <td>26</td>\n",
              "      <td>239</td>\n",
              "    </tr>\n",
              "    <tr>\n",
              "      <th>66162</th>\n",
              "      <td>3568.050000</td>\n",
              "      <td>175.4</td>\n",
              "      <td>625835.97</td>\n",
              "      <td>3</td>\n",
              "      <td>27</td>\n",
              "      <td>240</td>\n",
              "    </tr>\n",
              "    <tr>\n",
              "      <th>66168</th>\n",
              "      <td>3568.930215</td>\n",
              "      <td>93.0</td>\n",
              "      <td>331910.50</td>\n",
              "      <td>3</td>\n",
              "      <td>27</td>\n",
              "      <td>240</td>\n",
              "    </tr>\n",
              "  </tbody>\n",
              "</table>\n",
              "<p>7957 rows × 6 columns</p>\n",
              "</div>"
            ],
            "text/plain": [
              "                PU  Quantidade       Valor  d_semana  d_mes  d_ano\n",
              "6      3694.700000        83.2   307399.04         5      5    340\n",
              "9      3692.770059       133.6   493354.07         5      5    340\n",
              "27     3728.658416       140.2   522757.90         5      2      2\n",
              "32     3726.728894        39.8   148323.80         5      2      2\n",
              "47     3730.540024       409.0  1525790.86         1      5      5\n",
              "...            ...         ...         ...       ...    ...    ...\n",
              "66128  3534.769820       100.4   354890.88         3     30    212\n",
              "66138  3566.330371        75.4   268901.30         2     26    239\n",
              "66144  3567.210000        76.0   271107.96         2     26    239\n",
              "66162  3568.050000       175.4   625835.97         3     27    240\n",
              "66168  3568.930215        93.0   331910.50         3     27    240\n",
              "\n",
              "[7957 rows x 6 columns]"
            ]
          },
          "metadata": {},
          "execution_count": 10
        }
      ]
    },
    {
      "cell_type": "code",
      "metadata": {
        "id": "637070a7"
      },
      "source": [
        "# aplicando escala pros valores ficarem entre 0 e 1\n",
        "if(transformar_features): \n",
        "    scaler = MinMaxScaler(feature_range=(0, 1))\n",
        "\n",
        "    df_features_c1[feature_names] = scaler.fit_transform(df_features_c1[feature_names])\n",
        "\n",
        "    df_features_c1"
      ],
      "id": "637070a7",
      "execution_count": 11,
      "outputs": []
    },
    {
      "cell_type": "code",
      "metadata": {
        "colab": {
          "base_uri": "https://localhost:8080/",
          "height": 424
        },
        "id": "b1ff7204",
        "outputId": "800bd463-5fb8-411b-ca17-9757d406e45e"
      },
      "source": [
        "df_features_c1"
      ],
      "id": "b1ff7204",
      "execution_count": 12,
      "outputs": [
        {
          "output_type": "execute_result",
          "data": {
            "text/html": [
              "<div>\n",
              "<style scoped>\n",
              "    .dataframe tbody tr th:only-of-type {\n",
              "        vertical-align: middle;\n",
              "    }\n",
              "\n",
              "    .dataframe tbody tr th {\n",
              "        vertical-align: top;\n",
              "    }\n",
              "\n",
              "    .dataframe thead th {\n",
              "        text-align: right;\n",
              "    }\n",
              "</style>\n",
              "<table border=\"1\" class=\"dataframe\">\n",
              "  <thead>\n",
              "    <tr style=\"text-align: right;\">\n",
              "      <th></th>\n",
              "      <th>PU</th>\n",
              "      <th>Quantidade</th>\n",
              "      <th>Valor</th>\n",
              "      <th>d_semana</th>\n",
              "      <th>d_mes</th>\n",
              "      <th>d_ano</th>\n",
              "    </tr>\n",
              "  </thead>\n",
              "  <tbody>\n",
              "    <tr>\n",
              "      <th>6</th>\n",
              "      <td>0.329015</td>\n",
              "      <td>0.002372</td>\n",
              "      <td>0.000869</td>\n",
              "      <td>1.00</td>\n",
              "      <td>0.133333</td>\n",
              "      <td>0.931129</td>\n",
              "    </tr>\n",
              "    <tr>\n",
              "      <th>9</th>\n",
              "      <td>0.328835</td>\n",
              "      <td>0.003813</td>\n",
              "      <td>0.001396</td>\n",
              "      <td>1.00</td>\n",
              "      <td>0.133333</td>\n",
              "      <td>0.931129</td>\n",
              "    </tr>\n",
              "    <tr>\n",
              "      <th>27</th>\n",
              "      <td>0.332183</td>\n",
              "      <td>0.004002</td>\n",
              "      <td>0.001479</td>\n",
              "      <td>1.00</td>\n",
              "      <td>0.033333</td>\n",
              "      <td>0.000000</td>\n",
              "    </tr>\n",
              "    <tr>\n",
              "      <th>32</th>\n",
              "      <td>0.332003</td>\n",
              "      <td>0.001132</td>\n",
              "      <td>0.000419</td>\n",
              "      <td>1.00</td>\n",
              "      <td>0.033333</td>\n",
              "      <td>0.000000</td>\n",
              "    </tr>\n",
              "    <tr>\n",
              "      <th>47</th>\n",
              "      <td>0.332359</td>\n",
              "      <td>0.011685</td>\n",
              "      <td>0.004318</td>\n",
              "      <td>0.00</td>\n",
              "      <td>0.133333</td>\n",
              "      <td>0.008264</td>\n",
              "    </tr>\n",
              "    <tr>\n",
              "      <th>...</th>\n",
              "      <td>...</td>\n",
              "      <td>...</td>\n",
              "      <td>...</td>\n",
              "      <td>...</td>\n",
              "      <td>...</td>\n",
              "      <td>...</td>\n",
              "    </tr>\n",
              "    <tr>\n",
              "      <th>66128</th>\n",
              "      <td>0.314096</td>\n",
              "      <td>0.002864</td>\n",
              "      <td>0.001004</td>\n",
              "      <td>0.50</td>\n",
              "      <td>0.966667</td>\n",
              "      <td>0.578512</td>\n",
              "    </tr>\n",
              "    <tr>\n",
              "      <th>66138</th>\n",
              "      <td>0.317040</td>\n",
              "      <td>0.002149</td>\n",
              "      <td>0.000760</td>\n",
              "      <td>0.25</td>\n",
              "      <td>0.833333</td>\n",
              "      <td>0.652893</td>\n",
              "    </tr>\n",
              "    <tr>\n",
              "      <th>66144</th>\n",
              "      <td>0.317122</td>\n",
              "      <td>0.002167</td>\n",
              "      <td>0.000767</td>\n",
              "      <td>0.25</td>\n",
              "      <td>0.833333</td>\n",
              "      <td>0.652893</td>\n",
              "    </tr>\n",
              "    <tr>\n",
              "      <th>66162</th>\n",
              "      <td>0.317201</td>\n",
              "      <td>0.005008</td>\n",
              "      <td>0.001771</td>\n",
              "      <td>0.50</td>\n",
              "      <td>0.866667</td>\n",
              "      <td>0.655647</td>\n",
              "    </tr>\n",
              "    <tr>\n",
              "      <th>66168</th>\n",
              "      <td>0.317283</td>\n",
              "      <td>0.002652</td>\n",
              "      <td>0.000939</td>\n",
              "      <td>0.50</td>\n",
              "      <td>0.866667</td>\n",
              "      <td>0.655647</td>\n",
              "    </tr>\n",
              "  </tbody>\n",
              "</table>\n",
              "<p>7957 rows × 6 columns</p>\n",
              "</div>"
            ],
            "text/plain": [
              "             PU  Quantidade     Valor  d_semana     d_mes     d_ano\n",
              "6      0.329015    0.002372  0.000869      1.00  0.133333  0.931129\n",
              "9      0.328835    0.003813  0.001396      1.00  0.133333  0.931129\n",
              "27     0.332183    0.004002  0.001479      1.00  0.033333  0.000000\n",
              "32     0.332003    0.001132  0.000419      1.00  0.033333  0.000000\n",
              "47     0.332359    0.011685  0.004318      0.00  0.133333  0.008264\n",
              "...         ...         ...       ...       ...       ...       ...\n",
              "66128  0.314096    0.002864  0.001004      0.50  0.966667  0.578512\n",
              "66138  0.317040    0.002149  0.000760      0.25  0.833333  0.652893\n",
              "66144  0.317122    0.002167  0.000767      0.25  0.833333  0.652893\n",
              "66162  0.317201    0.005008  0.001771      0.50  0.866667  0.655647\n",
              "66168  0.317283    0.002652  0.000939      0.50  0.866667  0.655647\n",
              "\n",
              "[7957 rows x 6 columns]"
            ]
          },
          "metadata": {},
          "execution_count": 12
        }
      ]
    },
    {
      "cell_type": "code",
      "metadata": {
        "colab": {
          "base_uri": "https://localhost:8080/",
          "height": 320
        },
        "id": "5925e6ce",
        "outputId": "e47fb215-b688-4097-e3e3-8deede9b9931"
      },
      "source": [
        "plt.figure(figsize=(15,5))\n",
        "plt.plot(range(len(df_data)),df_data['Quantidade'], 'b--')\n",
        "# plt.xlim(300,600)\n",
        "plt.show()"
      ],
      "id": "5925e6ce",
      "execution_count": 13,
      "outputs": [
        {
          "output_type": "display_data",
          "data": {
            "image/png": "[encoded data removed]",
            "text/plain": [
              "<Figure size 1080x360 with 1 Axes>"
            ]
          },
          "metadata": {
            "needs_background": "light"
          }
        }
      ]
    },
    {
      "cell_type": "code",
      "metadata": {
        "colab": {
          "base_uri": "https://localhost:8080/"
        },
        "id": "5f97715f",
        "outputId": "5e89a842-2be6-4945-9b5f-01d0111a4f26"
      },
      "source": [
        "time_steps = 365\n",
        "test_size = 120\n",
        "\n",
        "train_size = int(len(df_features_c1)-(test_size))\n",
        "train, test = df_features_c1.iloc[0:train_size], df_features_c1.iloc[(train_size-time_steps):len(df_features_c1)]\n",
        "\n",
        "print(len(train), len(test))"
      ],
      "id": "5f97715f",
      "execution_count": 14,
      "outputs": [
        {
          "output_type": "stream",
          "name": "stdout",
          "text": [
            "7837 485\n"
          ]
        }
      ]
    },
    {
      "cell_type": "code",
      "metadata": {
        "id": "65b40399"
      },
      "source": [
        "def create_dataset(X, y, time_steps=1):\n",
        "    Xs, ys = [], []\n",
        "    for i in range(len(X) - time_steps):\n",
        "        v = X.iloc[i:(i + time_steps),0].to_numpy()\n",
        "        v = np.append(v,X.iloc[i + time_steps,1])#price\n",
        "        v = np.append(v,X.iloc[i + time_steps,2])#d_semana\n",
        "        v = np.append(v,X.iloc[i + time_steps,3])#d_mes\n",
        "        v = np.append(v,X.iloc[i + time_steps,4])#d_ano\n",
        "        Xs.append([v])\n",
        "        ys.append(y.iloc[i + time_steps])\n",
        "    return np.array(Xs), np.array(ys)\n",
        "\n",
        "X_train, y_train = create_dataset(train, train['Quantidade'], time_steps)\n",
        "X_test, y_test = create_dataset(test, test['Quantidade'], time_steps)"
      ],
      "id": "65b40399",
      "execution_count": 15,
      "outputs": []
    },
    {
      "cell_type": "code",
      "metadata": {
        "colab": {
          "base_uri": "https://localhost:8080/"
        },
        "id": "5235545d",
        "outputId": "738e09ad-c099-4ca1-d44d-c7ad1e3b7aa4"
      },
      "source": [
        "print(len(y_train),len(y_test))"
      ],
      "id": "5235545d",
      "execution_count": 16,
      "outputs": [
        {
          "output_type": "stream",
          "name": "stdout",
          "text": [
            "7472 120\n"
          ]
        }
      ]
    },
    {
      "cell_type": "code",
      "metadata": {
        "id": "d8dc6ec6"
      },
      "source": [
        "def getModel():\n",
        "    model = tf.keras.Sequential()\n",
        "    \n",
        "    # MLP    \n",
        "    # model.add(tf.keras.layers.Dense(300, activation=\"relu\", input_shape=(X_train.shape[1], X_train.shape[2])))\n",
        "    model.add(tf.keras.layers.Dense(3000, activation=\"relu\"))\n",
        "    model.add(tf.keras.layers.Dense(1000, activation=\"relu\"))\n",
        "    model.add(tf.keras.layers.Dense(900, activation=\"relu\"))\n",
        "    model.add(tf.keras.layers.Dense(300, activation=\"relu\"))\n",
        "    model.add(tf.keras.layers.Dense(100, activation=\"relu\"))\n",
        "    model.add(tf.keras.layers.Dense(90, activation=\"relu\"))\n",
        "    model.add(tf.keras.layers.Dense(30, activation=\"relu\"))\n",
        "    model.add(tf.keras.layers.Dense(10, activation=\"relu\"))\n",
        "    \n",
        "    # Vanilla LSTM\n",
        "    # model.add(tf.keras.layers.LSTM(100, activation='relu', input_shape=(X_train.shape[1], X_train.shape[2])))\n",
        "        \n",
        "    # Stacked LSTM\n",
        "#     model.add(tf.keras.layers.LSTM(3000, activation='relu', return_sequences=True, input_shape=(X_train.shape[1], X_train.shape[2])))\n",
        "#     model.add(tf.keras.layers.LSTM(1000, activation='relu', return_sequences=True))\n",
        "#     model.add(tf.keras.layers.LSTM(300, activation='relu', return_sequences=True))\n",
        "#     model.add(tf.keras.layers.LSTM(100, activation='relu', return_sequences=True))\n",
        "#     model.add(tf.keras.layers.LSTM(30, activation='relu', return_sequences=True))\n",
        "#     model.add(tf.keras.layers.LSTM(10, activation='relu'))\n",
        "    \n",
        "    # Bidirectional LSTM\n",
        "#     model.add(tf.keras.layers.Bidirectional(tf.keras.layers.LSTM(50, activation='relu'), input_shape=(X_train.shape[1], X_train.shape[2])))\n",
        "    \n",
        "    model.add(tf.keras.layers.Dense(units=1,activation='softplus'))\n",
        "    \n",
        "    return model"
      ],
      "id": "d8dc6ec6",
      "execution_count": 17,
      "outputs": []
    },
    {
      "cell_type": "code",
      "metadata": {
        "id": "e46f43ed"
      },
      "source": [
        "model = getModel()\n",
        "\n",
        "model.compile(\n",
        "  loss='mean_squared_error',\n",
        "  optimizer=tf.keras.optimizers.Adam(0.001)\n",
        ")"
      ],
      "id": "e46f43ed",
      "execution_count": 18,
      "outputs": []
    },
    {
      "cell_type": "code",
      "metadata": {
        "colab": {
          "base_uri": "https://localhost:8080/"
        },
        "id": "128b1068",
        "outputId": "600969b8-c779-44dc-c3fd-2456c8d1d7f0"
      },
      "source": [
        "callbacks = [tf.keras.callbacks.ReduceLROnPlateau(monitor='val_loss', factor=0.1, patience=7, verbose=1, min_delta=1e-4, mode='min')]\n",
        "\n",
        "callbacks.append(tf.keras.callbacks.EarlyStopping(monitor='val_loss', patience=15, verbose=0, restore_best_weights=True))\n",
        "\n",
        "history = model.fit(\n",
        "    X_train, y_train,\n",
        "    epochs=50, #1000\n",
        "    batch_size=300, # 30\n",
        "    validation_split=0.4,\n",
        "    callbacks=callbacks,\n",
        "    shuffle=False\n",
        ")"
      ],
      "id": "128b1068",
      "execution_count": 21,
      "outputs": [
        {
          "output_type": "stream",
          "name": "stdout",
          "text": [
            "Epoch 1/50\n",
            "15/15 [==============================] - 4s 237ms/step - loss: 0.0050 - val_loss: 1.3459e-05 - lr: 1.0000e-04\n",
            "Epoch 2/50\n",
            "15/15 [==============================] - 4s 238ms/step - loss: 0.0050 - val_loss: 1.3459e-05 - lr: 1.0000e-04\n",
            "Epoch 3/50\n",
            "15/15 [==============================] - 4s 241ms/step - loss: 0.0050 - val_loss: 1.3459e-05 - lr: 1.0000e-04\n",
            "Epoch 4/50\n",
            "15/15 [==============================] - 4s 240ms/step - loss: 0.0050 - val_loss: 1.3459e-05 - lr: 1.0000e-04\n",
            "Epoch 5/50\n",
            "15/15 [==============================] - 4s 238ms/step - loss: 0.0050 - val_loss: 1.3459e-05 - lr: 1.0000e-04\n",
            "Epoch 6/50\n",
            "15/15 [==============================] - 4s 237ms/step - loss: 0.0050 - val_loss: 1.3459e-05 - lr: 1.0000e-04\n",
            "Epoch 7/50\n",
            "15/15 [==============================] - 4s 245ms/step - loss: 0.0050 - val_loss: 1.3459e-05 - lr: 1.0000e-04\n",
            "Epoch 8/50\n",
            "15/15 [==============================] - ETA: 0s - loss: 0.0050\n",
            "Epoch 00008: ReduceLROnPlateau reducing learning rate to 1.0000000474974514e-05.\n",
            "15/15 [==============================] - 4s 242ms/step - loss: 0.0050 - val_loss: 1.3459e-05 - lr: 1.0000e-04\n",
            "Epoch 9/50\n",
            "15/15 [==============================] - 3s 235ms/step - loss: 0.0050 - val_loss: 1.3459e-05 - lr: 1.0000e-05\n",
            "Epoch 10/50\n",
            "15/15 [==============================] - 4s 239ms/step - loss: 0.0050 - val_loss: 1.3459e-05 - lr: 1.0000e-05\n",
            "Epoch 11/50\n",
            "15/15 [==============================] - 4s 239ms/step - loss: 0.0050 - val_loss: 1.3459e-05 - lr: 1.0000e-05\n",
            "Epoch 12/50\n",
            "15/15 [==============================] - 4s 241ms/step - loss: 0.0050 - val_loss: 1.3459e-05 - lr: 1.0000e-05\n",
            "Epoch 13/50\n",
            "15/15 [==============================] - 3s 233ms/step - loss: 0.0050 - val_loss: 1.3459e-05 - lr: 1.0000e-05\n",
            "Epoch 14/50\n",
            "15/15 [==============================] - 4s 238ms/step - loss: 0.0050 - val_loss: 1.3459e-05 - lr: 1.0000e-05\n",
            "Epoch 15/50\n",
            "15/15 [==============================] - ETA: 0s - loss: 0.0050\n",
            "Epoch 00015: ReduceLROnPlateau reducing learning rate to 1.0000000656873453e-06.\n",
            "15/15 [==============================] - 4s 238ms/step - loss: 0.0050 - val_loss: 1.3459e-05 - lr: 1.0000e-05\n",
            "Epoch 16/50\n",
            "15/15 [==============================] - 4s 240ms/step - loss: 0.0050 - val_loss: 1.3459e-05 - lr: 1.0000e-06\n"
          ]
        }
      ]
    },
    {
      "cell_type": "code",
      "metadata": {
        "colab": {
          "base_uri": "https://localhost:8080/",
          "height": 320
        },
        "id": "cb3110fa",
        "outputId": "435326e2-3f0b-4ee4-dc02-037f98dcf341"
      },
      "source": [
        "pd.DataFrame(history.history).plot(figsize=(8, 5))\n",
        "plt.grid(True)\n",
        "# plt.gca().set_ylim(0, 1) # set the vertical range to [0-1]\n",
        "plt.show()"
      ],
      "id": "cb3110fa",
      "execution_count": 22,
      "outputs": [
        {
          "output_type": "display_data",
          "data": {
            "image/png": "[encoded data removed]",
            "text/plain": [
              "<Figure size 576x360 with 1 Axes>"
            ]
          },
          "metadata": {
            "needs_background": "light"
          }
        }
      ]
    },
    {
      "cell_type": "code",
      "metadata": {
        "id": "92e490a1"
      },
      "source": [
        ""
      ],
      "id": "92e490a1",
      "execution_count": null,
      "outputs": []
    }
  ]
}