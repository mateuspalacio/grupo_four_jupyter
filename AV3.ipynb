{
  "nbformat": 4,
  "nbformat_minor": 5,
  "metadata": {
    "kernelspec": {
      "display_name": "Python 3 (ipykernel)",
      "language": "python",
      "name": "python3"
    },
    "language_info": {
      "codemirror_mode": {
        "name": "ipython",
        "version": 3
      },
      "file_extension": ".py",
      "mimetype": "text/x-python",
      "name": "python",
      "nbconvert_exporter": "python",
      "pygments_lexer": "ipython3",
      "version": "3.8.12"
    },
    "colab": {
      "name": "AV3.ipynb",
      "provenance": [],
      "collapsed_sections": [],
      "include_colab_link": true
    },
    "accelerator": "GPU"
  },
  "cells": [
    {
      "cell_type": "markdown",
      "metadata": {
        "id": "view-in-github",
        "colab_type": "text"
      },
      "source": [
        "<a href=\"https://colab.research.google.com/github/mateuspalacio/grupo_four_jupyter/blob/main/AV3.ipynb\" target=\"_parent\"><img src=\"https://colab.research.google.com/assets/colab-badge.svg\" alt=\"Open In Colab\"/></a>"
      ]
    },
    {
      "cell_type": "code",
      "metadata": {
        "id": "068f2700",
        "colab": {
          "base_uri": "https://localhost:8080/"
        },
        "outputId": "2390d5a0-8274-42c2-8bc3-2a36c74ed367"
      },
      "source": [
        "from sklearn.model_selection import train_test_split, cross_val_score, cross_val_predict\n",
        "from sklearn.linear_model import LinearRegression, LogisticRegression\n",
        "from sklearn.ensemble import RandomForestRegressor\n",
        "from sklearn.tree import DecisionTreeRegressor\n",
        "from sklearn.manifold import TSNE\n",
        "from sklearn.metrics import confusion_matrix,r2_score,mean_absolute_error,mean_squared_error\n",
        "from sklearn.preprocessing import MinMaxScaler\n",
        "from collections import Counter\n",
        "from math import sqrt\n",
        "from datetime import date, timedelta\n",
        "%tensorflow_version 2.x\n",
        "import tensorflow as tf\n",
        "from sklearn.exceptions import ConvergenceWarning\n",
        "from tensorflow.keras.layers import LeakyReLU, Dense\n",
        "\n",
        "from google.colab import drive\n",
        "drive.mount('/content/drive/')\n",
        "\n",
        "from math import sqrt\n",
        "from sklearn.model_selection import GridSearchCV\n",
        "from sklearn.svm import SVR\n",
        "\n",
        "transformar_features = True\n",
        "\n",
        "import itertools\n",
        "import os\n",
        "import pandas as pd\n",
        "import matplotlib.pyplot as plt\n",
        "import matplotlib.dates as mdates\n",
        "import matplotlib.cbook as cbook\n",
        "import datetime as dt\n",
        "import numpy as np\n",
        "from datetime import datetime\n",
        "import statsmodels.api as sm\n",
        "import multiprocessing as mp"
      ],
      "id": "068f2700",
      "execution_count": 1,
      "outputs": [
        {
          "output_type": "stream",
          "name": "stdout",
          "text": [
            "Drive already mounted at /content/drive/; to attempt to forcibly remount, call drive.mount(\"/content/drive/\", force_remount=True).\n"
          ]
        },
        {
          "output_type": "stream",
          "name": "stderr",
          "text": [
            "/usr/local/lib/python3.7/dist-packages/statsmodels/tools/_testing.py:19: FutureWarning: pandas.util.testing is deprecated. Use the functions in the public API at pandas.testing instead.\n",
            "  import pandas.util.testing as tm\n"
          ]
        }
      ]
    },
    {
      "cell_type": "code",
      "metadata": {
        "colab": {
          "base_uri": "https://localhost:8080/"
        },
        "id": "1fb6a093",
        "outputId": "ef0977de-b8e5-44f1-df25-d10371846eeb"
      },
      "source": [
        "os.environ['CUDA_VISIBLE_DEVICES'] = '-1'\n",
        "\n",
        "if tf.test.gpu_device_name():\n",
        "    print('GPU found')\n",
        "else:\n",
        "    print(\"No GPU found\")"
      ],
      "id": "1fb6a093",
      "execution_count": 2,
      "outputs": [
        {
          "output_type": "stream",
          "name": "stdout",
          "text": [
            "No GPU found\n"
          ]
        }
      ]
    },
    {
      "cell_type": "code",
      "metadata": {
        "colab": {
          "base_uri": "https://localhost:8080/",
          "height": 35
        },
        "id": "abb0ea5f",
        "outputId": "e6748568-65ed-46e7-ed4e-d06bc0ca3903"
      },
      "source": [
        "tf.test.gpu_device_name()"
      ],
      "id": "abb0ea5f",
      "execution_count": 3,
      "outputs": [
        {
          "output_type": "execute_result",
          "data": {
            "application/vnd.google.colaboratory.intrinsic+json": {
              "type": "string"
            },
            "text/plain": [
              "''"
            ]
          },
          "metadata": {},
          "execution_count": 3
        }
      ]
    },
    {
      "cell_type": "code",
      "metadata": {
        "colab": {
          "base_uri": "https://localhost:8080/"
        },
        "id": "ffe737f4",
        "outputId": "0314ede0-3d42-4143-baa6-50b9f1f5eede"
      },
      "source": [
        "print(\"Num GPUs Available: \", len(tf.config.experimental.list_physical_devices('GPU')))"
      ],
      "id": "ffe737f4",
      "execution_count": 4,
      "outputs": [
        {
          "output_type": "stream",
          "name": "stdout",
          "text": [
            "Num GPUs Available:  0\n"
          ]
        }
      ]
    },
    {
      "cell_type": "code",
      "metadata": {
        "colab": {
          "base_uri": "https://localhost:8080/",
          "height": 424
        },
        "id": "88cdff94",
        "outputId": "5d8d3ca7-35cb-4b0f-ebc8-ef3068323117"
      },
      "source": [
        "path = os.path.join('VendasTesouroDireto_1.json')\n",
        "values = pd.read_json(path)\n",
        "df_data = pd.DataFrame(values)\n",
        "df_data['Tipo_Titulo'] = df_data['Tipo_Titulo'].astype('str') \n",
        "df_data['PU'] = df_data['PU'].str.replace(',', '.')\n",
        "df_data['Quantidade'] = df_data['Quantidade'].str.replace(',', '.')\n",
        "df_data['Valor'] = df_data['Valor'].str.replace(',', '.')\n",
        "df_data['PU'] = pd.to_numeric(df_data['PU'],errors='coerce')\n",
        "df_data['Quantidade'] = pd.to_numeric(df_data['Quantidade'], errors='coerce')\n",
        "df_data['Valor'] = pd.to_numeric(df_data['Valor'], errors='coerce')\n",
        "\n",
        "df_data['Vencimento_do_Titulo'] = pd.to_datetime(df_data['Vencimento_do_Titulo'],errors='coerce',dayfirst=True)\n",
        " \n",
        "df_data['Data_Venda'] = pd.to_datetime(df_data['Data_Venda'],errors='coerce', dayfirst=True)\n",
        "\n",
        "df_data"
      ],
      "id": "88cdff94",
      "execution_count": 5,
      "outputs": [
        {
          "output_type": "execute_result",
          "data": {
            "text/html": [
              "<div>\n",
              "<style scoped>\n",
              "    .dataframe tbody tr th:only-of-type {\n",
              "        vertical-align: middle;\n",
              "    }\n",
              "\n",
              "    .dataframe tbody tr th {\n",
              "        vertical-align: top;\n",
              "    }\n",
              "\n",
              "    .dataframe thead th {\n",
              "        text-align: right;\n",
              "    }\n",
              "</style>\n",
              "<table border=\"1\" class=\"dataframe\">\n",
              "  <thead>\n",
              "    <tr style=\"text-align: right;\">\n",
              "      <th></th>\n",
              "      <th>Tipo_Titulo</th>\n",
              "      <th>Vencimento_do_Titulo</th>\n",
              "      <th>Data_Venda</th>\n",
              "      <th>PU</th>\n",
              "      <th>Quantidade</th>\n",
              "      <th>Valor</th>\n",
              "    </tr>\n",
              "  </thead>\n",
              "  <tbody>\n",
              "    <tr>\n",
              "      <th>0</th>\n",
              "      <td>Tesouro IPCA+ com Juros Semestrais</td>\n",
              "      <td>2012-08-15</td>\n",
              "      <td>2008-12-05</td>\n",
              "      <td>1655.206735</td>\n",
              "      <td>38.6</td>\n",
              "      <td>63890.97</td>\n",
              "    </tr>\n",
              "    <tr>\n",
              "      <th>1</th>\n",
              "      <td>Tesouro IPCA+ com Juros Semestrais</td>\n",
              "      <td>2017-05-15</td>\n",
              "      <td>2008-12-05</td>\n",
              "      <td>1480.154343</td>\n",
              "      <td>571.0</td>\n",
              "      <td>845168.12</td>\n",
              "    </tr>\n",
              "    <tr>\n",
              "      <th>2</th>\n",
              "      <td>Tesouro Prefixado com Juros Semestrais</td>\n",
              "      <td>2014-01-01</td>\n",
              "      <td>2008-12-05</td>\n",
              "      <td>870.303177</td>\n",
              "      <td>283.2</td>\n",
              "      <td>246469.85</td>\n",
              "    </tr>\n",
              "    <tr>\n",
              "      <th>3</th>\n",
              "      <td>Tesouro Prefixado com Juros Semestrais</td>\n",
              "      <td>2012-01-01</td>\n",
              "      <td>2008-12-05</td>\n",
              "      <td>936.285273</td>\n",
              "      <td>29.2</td>\n",
              "      <td>27339.52</td>\n",
              "    </tr>\n",
              "    <tr>\n",
              "      <th>4</th>\n",
              "      <td>Tesouro Prefixado com Juros Semestrais</td>\n",
              "      <td>2017-01-01</td>\n",
              "      <td>2008-12-05</td>\n",
              "      <td>808.587250</td>\n",
              "      <td>491.8</td>\n",
              "      <td>397663.20</td>\n",
              "    </tr>\n",
              "    <tr>\n",
              "      <th>...</th>\n",
              "      <td>...</td>\n",
              "      <td>...</td>\n",
              "      <td>...</td>\n",
              "      <td>...</td>\n",
              "      <td>...</td>\n",
              "      <td>...</td>\n",
              "    </tr>\n",
              "    <tr>\n",
              "      <th>66164</th>\n",
              "      <td>Tesouro Prefixado com Juros Semestrais</td>\n",
              "      <td>2010-01-01</td>\n",
              "      <td>2008-08-27</td>\n",
              "      <td>960.339019</td>\n",
              "      <td>110.2</td>\n",
              "      <td>105829.35</td>\n",
              "    </tr>\n",
              "    <tr>\n",
              "      <th>66165</th>\n",
              "      <td>Tesouro IPCA+ com Juros Semestrais</td>\n",
              "      <td>2010-08-15</td>\n",
              "      <td>2008-08-27</td>\n",
              "      <td>1672.613421</td>\n",
              "      <td>271.2</td>\n",
              "      <td>453612.75</td>\n",
              "    </tr>\n",
              "    <tr>\n",
              "      <th>66166</th>\n",
              "      <td>Tesouro IPCA+ com Juros Semestrais</td>\n",
              "      <td>2011-05-15</td>\n",
              "      <td>2008-08-27</td>\n",
              "      <td>1677.517573</td>\n",
              "      <td>88.2</td>\n",
              "      <td>147957.04</td>\n",
              "    </tr>\n",
              "    <tr>\n",
              "      <th>66167</th>\n",
              "      <td>Tesouro Prefixado com Juros Semestrais</td>\n",
              "      <td>2010-07-01</td>\n",
              "      <td>2008-08-27</td>\n",
              "      <td>946.566666</td>\n",
              "      <td>0.6</td>\n",
              "      <td>567.93</td>\n",
              "    </tr>\n",
              "    <tr>\n",
              "      <th>66168</th>\n",
              "      <td>Tesouro Selic</td>\n",
              "      <td>2014-03-07</td>\n",
              "      <td>2008-08-27</td>\n",
              "      <td>3568.930215</td>\n",
              "      <td>93.0</td>\n",
              "      <td>331910.50</td>\n",
              "    </tr>\n",
              "  </tbody>\n",
              "</table>\n",
              "<p>66169 rows × 6 columns</p>\n",
              "</div>"
            ],
            "text/plain": [
              "                                  Tipo_Titulo  ...      Valor\n",
              "0          Tesouro IPCA+ com Juros Semestrais  ...   63890.97\n",
              "1          Tesouro IPCA+ com Juros Semestrais  ...  845168.12\n",
              "2      Tesouro Prefixado com Juros Semestrais  ...  246469.85\n",
              "3      Tesouro Prefixado com Juros Semestrais  ...   27339.52\n",
              "4      Tesouro Prefixado com Juros Semestrais  ...  397663.20\n",
              "...                                       ...  ...        ...\n",
              "66164  Tesouro Prefixado com Juros Semestrais  ...  105829.35\n",
              "66165      Tesouro IPCA+ com Juros Semestrais  ...  453612.75\n",
              "66166      Tesouro IPCA+ com Juros Semestrais  ...  147957.04\n",
              "66167  Tesouro Prefixado com Juros Semestrais  ...     567.93\n",
              "66168                           Tesouro Selic  ...  331910.50\n",
              "\n",
              "[66169 rows x 6 columns]"
            ]
          },
          "metadata": {},
          "execution_count": 5
        }
      ]
    },
    {
      "cell_type": "code",
      "metadata": {
        "colab": {
          "base_uri": "https://localhost:8080/"
        },
        "id": "f7576dcc",
        "outputId": "813faa0b-143d-4023-f2bb-5c488b883a39"
      },
      "source": [
        "df_data.info()"
      ],
      "id": "f7576dcc",
      "execution_count": 6,
      "outputs": [
        {
          "output_type": "stream",
          "name": "stdout",
          "text": [
            "<class 'pandas.core.frame.DataFrame'>\n",
            "RangeIndex: 66169 entries, 0 to 66168\n",
            "Data columns (total 6 columns):\n",
            " #   Column                Non-Null Count  Dtype         \n",
            "---  ------                --------------  -----         \n",
            " 0   Tipo_Titulo           66169 non-null  object        \n",
            " 1   Vencimento_do_Titulo  66169 non-null  datetime64[ns]\n",
            " 2   Data_Venda            66169 non-null  datetime64[ns]\n",
            " 3   PU                    66169 non-null  float64       \n",
            " 4   Quantidade            66169 non-null  float64       \n",
            " 5   Valor                 66169 non-null  float64       \n",
            "dtypes: datetime64[ns](2), float64(3), object(1)\n",
            "memory usage: 3.0+ MB\n"
          ]
        }
      ]
    },
    {
      "cell_type": "code",
      "metadata": {
        "colab": {
          "base_uri": "https://localhost:8080/",
          "height": 455
        },
        "id": "nj5lDtvf-CYN",
        "outputId": "24e5c8d0-04d5-4be7-ccf0-9eff26d8fdfa"
      },
      "source": [
        "aux=df_data.drop(columns=['Vencimento_do_Titulo','PU','Quantidade'])\n",
        "aux.set_index('Data_Venda')\n",
        "data_Value_Per_Day_Selic=pd.DataFrame(aux[aux['Tipo_Titulo']=='Tesouro Selic'].groupby(aux['Data_Venda'].dt.to_period('d'))['Valor'].sum())\n",
        "data_Value_Per_Day_Selic"
      ],
      "id": "nj5lDtvf-CYN",
      "execution_count": 7,
      "outputs": [
        {
          "output_type": "execute_result",
          "data": {
            "text/html": [
              "<div>\n",
              "<style scoped>\n",
              "    .dataframe tbody tr th:only-of-type {\n",
              "        vertical-align: middle;\n",
              "    }\n",
              "\n",
              "    .dataframe tbody tr th {\n",
              "        vertical-align: top;\n",
              "    }\n",
              "\n",
              "    .dataframe thead th {\n",
              "        text-align: right;\n",
              "    }\n",
              "</style>\n",
              "<table border=\"1\" class=\"dataframe\">\n",
              "  <thead>\n",
              "    <tr style=\"text-align: right;\">\n",
              "      <th></th>\n",
              "      <th>Valor</th>\n",
              "    </tr>\n",
              "    <tr>\n",
              "      <th>Data_Venda</th>\n",
              "      <th></th>\n",
              "    </tr>\n",
              "  </thead>\n",
              "  <tbody>\n",
              "    <tr>\n",
              "      <th>2002-01-07</th>\n",
              "      <td>15248.32</td>\n",
              "    </tr>\n",
              "    <tr>\n",
              "      <th>2002-01-08</th>\n",
              "      <td>42581.98</td>\n",
              "    </tr>\n",
              "    <tr>\n",
              "      <th>2002-01-09</th>\n",
              "      <td>7840.74</td>\n",
              "    </tr>\n",
              "    <tr>\n",
              "      <th>2002-01-10</th>\n",
              "      <td>252.18</td>\n",
              "    </tr>\n",
              "    <tr>\n",
              "      <th>2002-01-11</th>\n",
              "      <td>6315.69</td>\n",
              "    </tr>\n",
              "    <tr>\n",
              "      <th>...</th>\n",
              "      <td>...</td>\n",
              "    </tr>\n",
              "    <tr>\n",
              "      <th>2021-08-05</th>\n",
              "      <td>51618710.69</td>\n",
              "    </tr>\n",
              "    <tr>\n",
              "      <th>2021-08-06</th>\n",
              "      <td>64518858.59</td>\n",
              "    </tr>\n",
              "    <tr>\n",
              "      <th>2021-08-09</th>\n",
              "      <td>65513084.83</td>\n",
              "    </tr>\n",
              "    <tr>\n",
              "      <th>2021-08-10</th>\n",
              "      <td>61953661.14</td>\n",
              "    </tr>\n",
              "    <tr>\n",
              "      <th>2021-08-11</th>\n",
              "      <td>65264001.83</td>\n",
              "    </tr>\n",
              "  </tbody>\n",
              "</table>\n",
              "<p>4830 rows × 1 columns</p>\n",
              "</div>"
            ],
            "text/plain": [
              "                  Valor\n",
              "Data_Venda             \n",
              "2002-01-07     15248.32\n",
              "2002-01-08     42581.98\n",
              "2002-01-09      7840.74\n",
              "2002-01-10       252.18\n",
              "2002-01-11      6315.69\n",
              "...                 ...\n",
              "2021-08-05  51618710.69\n",
              "2021-08-06  64518858.59\n",
              "2021-08-09  65513084.83\n",
              "2021-08-10  61953661.14\n",
              "2021-08-11  65264001.83\n",
              "\n",
              "[4830 rows x 1 columns]"
            ]
          },
          "metadata": {},
          "execution_count": 7
        }
      ]
    },
    {
      "cell_type": "code",
      "metadata": {
        "colab": {
          "base_uri": "https://localhost:8080/",
          "height": 455
        },
        "id": "_JiyPOnm-K_G",
        "outputId": "0ec5e9ed-1f07-49d1-8cd3-cc107e4a13c4"
      },
      "source": [
        "aux=df_data.drop(columns=['Vencimento_do_Titulo','PU','Valor'])\n",
        "aux.set_index('Data_Venda')\n",
        "data_Amount_Per_Day_Selic=pd.DataFrame(aux[aux['Tipo_Titulo']=='Tesouro Selic'].groupby(aux['Data_Venda'].dt.to_period('d'))['Quantidade'].sum())\n",
        "data_Amount_Per_Day_Selic"
      ],
      "id": "_JiyPOnm-K_G",
      "execution_count": 8,
      "outputs": [
        {
          "output_type": "execute_result",
          "data": {
            "text/html": [
              "<div>\n",
              "<style scoped>\n",
              "    .dataframe tbody tr th:only-of-type {\n",
              "        vertical-align: middle;\n",
              "    }\n",
              "\n",
              "    .dataframe tbody tr th {\n",
              "        vertical-align: top;\n",
              "    }\n",
              "\n",
              "    .dataframe thead th {\n",
              "        text-align: right;\n",
              "    }\n",
              "</style>\n",
              "<table border=\"1\" class=\"dataframe\">\n",
              "  <thead>\n",
              "    <tr style=\"text-align: right;\">\n",
              "      <th></th>\n",
              "      <th>Quantidade</th>\n",
              "    </tr>\n",
              "    <tr>\n",
              "      <th>Data_Venda</th>\n",
              "      <th></th>\n",
              "    </tr>\n",
              "  </thead>\n",
              "  <tbody>\n",
              "    <tr>\n",
              "      <th>2002-01-07</th>\n",
              "      <td>12.20</td>\n",
              "    </tr>\n",
              "    <tr>\n",
              "      <th>2002-01-08</th>\n",
              "      <td>33.80</td>\n",
              "    </tr>\n",
              "    <tr>\n",
              "      <th>2002-01-09</th>\n",
              "      <td>6.20</td>\n",
              "    </tr>\n",
              "    <tr>\n",
              "      <th>2002-01-10</th>\n",
              "      <td>0.20</td>\n",
              "    </tr>\n",
              "    <tr>\n",
              "      <th>2002-01-11</th>\n",
              "      <td>5.00</td>\n",
              "    </tr>\n",
              "    <tr>\n",
              "      <th>...</th>\n",
              "      <td>...</td>\n",
              "    </tr>\n",
              "    <tr>\n",
              "      <th>2021-08-05</th>\n",
              "      <td>4765.41</td>\n",
              "    </tr>\n",
              "    <tr>\n",
              "      <th>2021-08-06</th>\n",
              "      <td>5953.69</td>\n",
              "    </tr>\n",
              "    <tr>\n",
              "      <th>2021-08-09</th>\n",
              "      <td>6044.49</td>\n",
              "    </tr>\n",
              "    <tr>\n",
              "      <th>2021-08-10</th>\n",
              "      <td>5716.93</td>\n",
              "    </tr>\n",
              "    <tr>\n",
              "      <th>2021-08-11</th>\n",
              "      <td>6021.46</td>\n",
              "    </tr>\n",
              "  </tbody>\n",
              "</table>\n",
              "<p>4830 rows × 1 columns</p>\n",
              "</div>"
            ],
            "text/plain": [
              "            Quantidade\n",
              "Data_Venda            \n",
              "2002-01-07       12.20\n",
              "2002-01-08       33.80\n",
              "2002-01-09        6.20\n",
              "2002-01-10        0.20\n",
              "2002-01-11        5.00\n",
              "...                ...\n",
              "2021-08-05     4765.41\n",
              "2021-08-06     5953.69\n",
              "2021-08-09     6044.49\n",
              "2021-08-10     5716.93\n",
              "2021-08-11     6021.46\n",
              "\n",
              "[4830 rows x 1 columns]"
            ]
          },
          "metadata": {},
          "execution_count": 8
        }
      ]
    },
    {
      "cell_type": "code",
      "metadata": {
        "colab": {
          "base_uri": "https://localhost:8080/",
          "height": 455
        },
        "id": "tljpUm8j-Znb",
        "outputId": "78de8126-6c37-4b17-8604-5a553ed17338"
      },
      "source": [
        "data_day = data_Amount_Per_Day_Selic.merge(data_Value_Per_Day_Selic,on='Data_Venda')\n",
        "data_day['Data_Venda'] = data_day.index\n",
        "data_day"
      ],
      "id": "tljpUm8j-Znb",
      "execution_count": 9,
      "outputs": [
        {
          "output_type": "execute_result",
          "data": {
            "text/html": [
              "<div>\n",
              "<style scoped>\n",
              "    .dataframe tbody tr th:only-of-type {\n",
              "        vertical-align: middle;\n",
              "    }\n",
              "\n",
              "    .dataframe tbody tr th {\n",
              "        vertical-align: top;\n",
              "    }\n",
              "\n",
              "    .dataframe thead th {\n",
              "        text-align: right;\n",
              "    }\n",
              "</style>\n",
              "<table border=\"1\" class=\"dataframe\">\n",
              "  <thead>\n",
              "    <tr style=\"text-align: right;\">\n",
              "      <th></th>\n",
              "      <th>Quantidade</th>\n",
              "      <th>Valor</th>\n",
              "      <th>Data_Venda</th>\n",
              "    </tr>\n",
              "    <tr>\n",
              "      <th>Data_Venda</th>\n",
              "      <th></th>\n",
              "      <th></th>\n",
              "      <th></th>\n",
              "    </tr>\n",
              "  </thead>\n",
              "  <tbody>\n",
              "    <tr>\n",
              "      <th>2002-01-07</th>\n",
              "      <td>12.20</td>\n",
              "      <td>15248.32</td>\n",
              "      <td>2002-01-07</td>\n",
              "    </tr>\n",
              "    <tr>\n",
              "      <th>2002-01-08</th>\n",
              "      <td>33.80</td>\n",
              "      <td>42581.98</td>\n",
              "      <td>2002-01-08</td>\n",
              "    </tr>\n",
              "    <tr>\n",
              "      <th>2002-01-09</th>\n",
              "      <td>6.20</td>\n",
              "      <td>7840.74</td>\n",
              "      <td>2002-01-09</td>\n",
              "    </tr>\n",
              "    <tr>\n",
              "      <th>2002-01-10</th>\n",
              "      <td>0.20</td>\n",
              "      <td>252.18</td>\n",
              "      <td>2002-01-10</td>\n",
              "    </tr>\n",
              "    <tr>\n",
              "      <th>2002-01-11</th>\n",
              "      <td>5.00</td>\n",
              "      <td>6315.69</td>\n",
              "      <td>2002-01-11</td>\n",
              "    </tr>\n",
              "    <tr>\n",
              "      <th>...</th>\n",
              "      <td>...</td>\n",
              "      <td>...</td>\n",
              "      <td>...</td>\n",
              "    </tr>\n",
              "    <tr>\n",
              "      <th>2021-08-05</th>\n",
              "      <td>4765.41</td>\n",
              "      <td>51618710.69</td>\n",
              "      <td>2021-08-05</td>\n",
              "    </tr>\n",
              "    <tr>\n",
              "      <th>2021-08-06</th>\n",
              "      <td>5953.69</td>\n",
              "      <td>64518858.59</td>\n",
              "      <td>2021-08-06</td>\n",
              "    </tr>\n",
              "    <tr>\n",
              "      <th>2021-08-09</th>\n",
              "      <td>6044.49</td>\n",
              "      <td>65513084.83</td>\n",
              "      <td>2021-08-09</td>\n",
              "    </tr>\n",
              "    <tr>\n",
              "      <th>2021-08-10</th>\n",
              "      <td>5716.93</td>\n",
              "      <td>61953661.14</td>\n",
              "      <td>2021-08-10</td>\n",
              "    </tr>\n",
              "    <tr>\n",
              "      <th>2021-08-11</th>\n",
              "      <td>6021.46</td>\n",
              "      <td>65264001.83</td>\n",
              "      <td>2021-08-11</td>\n",
              "    </tr>\n",
              "  </tbody>\n",
              "</table>\n",
              "<p>4830 rows × 3 columns</p>\n",
              "</div>"
            ],
            "text/plain": [
              "            Quantidade        Valor  Data_Venda\n",
              "Data_Venda                                     \n",
              "2002-01-07       12.20     15248.32  2002-01-07\n",
              "2002-01-08       33.80     42581.98  2002-01-08\n",
              "2002-01-09        6.20      7840.74  2002-01-09\n",
              "2002-01-10        0.20       252.18  2002-01-10\n",
              "2002-01-11        5.00      6315.69  2002-01-11\n",
              "...                ...          ...         ...\n",
              "2021-08-05     4765.41  51618710.69  2021-08-05\n",
              "2021-08-06     5953.69  64518858.59  2021-08-06\n",
              "2021-08-09     6044.49  65513084.83  2021-08-09\n",
              "2021-08-10     5716.93  61953661.14  2021-08-10\n",
              "2021-08-11     6021.46  65264001.83  2021-08-11\n",
              "\n",
              "[4830 rows x 3 columns]"
            ]
          },
          "metadata": {},
          "execution_count": 9
        }
      ]
    },
    {
      "cell_type": "code",
      "metadata": {
        "colab": {
          "base_uri": "https://localhost:8080/",
          "height": 424
        },
        "id": "3a0dd0b0",
        "outputId": "61b1a10b-7620-4cbc-9047-a4758ab20698"
      },
      "source": [
        "pu = df_data['Quantidade']\n",
        "# será se deve ser essas colunas mesmo?\n",
        "df_features = df_data.drop(columns=['Tipo_Titulo', 'Vencimento_do_Titulo', 'Data_Venda', 'Quantidade'])\n",
        "\n",
        "df_features"
      ],
      "id": "3a0dd0b0",
      "execution_count": 10,
      "outputs": [
        {
          "output_type": "execute_result",
          "data": {
            "text/html": [
              "<div>\n",
              "<style scoped>\n",
              "    .dataframe tbody tr th:only-of-type {\n",
              "        vertical-align: middle;\n",
              "    }\n",
              "\n",
              "    .dataframe tbody tr th {\n",
              "        vertical-align: top;\n",
              "    }\n",
              "\n",
              "    .dataframe thead th {\n",
              "        text-align: right;\n",
              "    }\n",
              "</style>\n",
              "<table border=\"1\" class=\"dataframe\">\n",
              "  <thead>\n",
              "    <tr style=\"text-align: right;\">\n",
              "      <th></th>\n",
              "      <th>PU</th>\n",
              "      <th>Valor</th>\n",
              "    </tr>\n",
              "  </thead>\n",
              "  <tbody>\n",
              "    <tr>\n",
              "      <th>0</th>\n",
              "      <td>1655.206735</td>\n",
              "      <td>63890.97</td>\n",
              "    </tr>\n",
              "    <tr>\n",
              "      <th>1</th>\n",
              "      <td>1480.154343</td>\n",
              "      <td>845168.12</td>\n",
              "    </tr>\n",
              "    <tr>\n",
              "      <th>2</th>\n",
              "      <td>870.303177</td>\n",
              "      <td>246469.85</td>\n",
              "    </tr>\n",
              "    <tr>\n",
              "      <th>3</th>\n",
              "      <td>936.285273</td>\n",
              "      <td>27339.52</td>\n",
              "    </tr>\n",
              "    <tr>\n",
              "      <th>4</th>\n",
              "      <td>808.587250</td>\n",
              "      <td>397663.20</td>\n",
              "    </tr>\n",
              "    <tr>\n",
              "      <th>...</th>\n",
              "      <td>...</td>\n",
              "      <td>...</td>\n",
              "    </tr>\n",
              "    <tr>\n",
              "      <th>66164</th>\n",
              "      <td>960.339019</td>\n",
              "      <td>105829.35</td>\n",
              "    </tr>\n",
              "    <tr>\n",
              "      <th>66165</th>\n",
              "      <td>1672.613421</td>\n",
              "      <td>453612.75</td>\n",
              "    </tr>\n",
              "    <tr>\n",
              "      <th>66166</th>\n",
              "      <td>1677.517573</td>\n",
              "      <td>147957.04</td>\n",
              "    </tr>\n",
              "    <tr>\n",
              "      <th>66167</th>\n",
              "      <td>946.566666</td>\n",
              "      <td>567.93</td>\n",
              "    </tr>\n",
              "    <tr>\n",
              "      <th>66168</th>\n",
              "      <td>3568.930215</td>\n",
              "      <td>331910.50</td>\n",
              "    </tr>\n",
              "  </tbody>\n",
              "</table>\n",
              "<p>66169 rows × 2 columns</p>\n",
              "</div>"
            ],
            "text/plain": [
              "                PU      Valor\n",
              "0      1655.206735   63890.97\n",
              "1      1480.154343  845168.12\n",
              "2       870.303177  246469.85\n",
              "3       936.285273   27339.52\n",
              "4       808.587250  397663.20\n",
              "...            ...        ...\n",
              "66164   960.339019  105829.35\n",
              "66165  1672.613421  453612.75\n",
              "66166  1677.517573  147957.04\n",
              "66167   946.566666     567.93\n",
              "66168  3568.930215  331910.50\n",
              "\n",
              "[66169 rows x 2 columns]"
            ]
          },
          "metadata": {},
          "execution_count": 10
        }
      ]
    },
    {
      "cell_type": "code",
      "metadata": {
        "id": "e5b963c8"
      },
      "source": [
        "df_dados_c0=df_data[df_data['Tipo_Titulo']=='Tesouro Prefixado com Juros Semestrais']\n",
        "df_dados_c1=df_data[df_data['Tipo_Titulo']=='Tesouro Selic']\n",
        "df_dados_c2=df_data[df_data['Tipo_Titulo']=='Tesouro Prefixado']\n",
        "df_dados_c3=df_data[df_data['Tipo_Titulo']=='Tesouro Prefixado IPCA+']\n",
        "df_dados_c4=df_data[df_data['Tipo_Titulo']=='Tesouro IGPM+ com Juros Semestrais']\n",
        "df_dados_c5=df_data[df_data['Tipo_Titulo']=='Tesouro Prefixado IPCA+ com Juros Semestrais']"
      ],
      "id": "e5b963c8",
      "execution_count": 11,
      "outputs": []
    },
    {
      "cell_type": "code",
      "metadata": {
        "colab": {
          "base_uri": "https://localhost:8080/",
          "height": 455
        },
        "id": "bcf1e968",
        "outputId": "a28f2800-546f-43d7-cfb8-5e69e6d06564"
      },
      "source": [
        "data_day['d_semana'] = data_day['Data_Venda'].dt.dayofweek\n",
        "data_day['d_mes'] = data_day['Data_Venda'].dt.strftime(\"%d\")\n",
        "data_day['d_ano'] = data_day['Data_Venda'].dt.strftime(\"%j\")\n",
        "\n",
        "data_day['d_semana'] = data_day['d_semana'].astype(int)\n",
        "data_day['d_mes'] = data_day['d_mes'].astype(int)\n",
        "data_day['d_ano'] = data_day['d_ano'].astype(int)\n",
        "\n",
        "data_day"
      ],
      "id": "bcf1e968",
      "execution_count": 12,
      "outputs": [
        {
          "output_type": "execute_result",
          "data": {
            "text/html": [
              "<div>\n",
              "<style scoped>\n",
              "    .dataframe tbody tr th:only-of-type {\n",
              "        vertical-align: middle;\n",
              "    }\n",
              "\n",
              "    .dataframe tbody tr th {\n",
              "        vertical-align: top;\n",
              "    }\n",
              "\n",
              "    .dataframe thead th {\n",
              "        text-align: right;\n",
              "    }\n",
              "</style>\n",
              "<table border=\"1\" class=\"dataframe\">\n",
              "  <thead>\n",
              "    <tr style=\"text-align: right;\">\n",
              "      <th></th>\n",
              "      <th>Quantidade</th>\n",
              "      <th>Valor</th>\n",
              "      <th>Data_Venda</th>\n",
              "      <th>d_semana</th>\n",
              "      <th>d_mes</th>\n",
              "      <th>d_ano</th>\n",
              "    </tr>\n",
              "    <tr>\n",
              "      <th>Data_Venda</th>\n",
              "      <th></th>\n",
              "      <th></th>\n",
              "      <th></th>\n",
              "      <th></th>\n",
              "      <th></th>\n",
              "      <th></th>\n",
              "    </tr>\n",
              "  </thead>\n",
              "  <tbody>\n",
              "    <tr>\n",
              "      <th>2002-01-07</th>\n",
              "      <td>12.20</td>\n",
              "      <td>15248.32</td>\n",
              "      <td>2002-01-07</td>\n",
              "      <td>0</td>\n",
              "      <td>7</td>\n",
              "      <td>7</td>\n",
              "    </tr>\n",
              "    <tr>\n",
              "      <th>2002-01-08</th>\n",
              "      <td>33.80</td>\n",
              "      <td>42581.98</td>\n",
              "      <td>2002-01-08</td>\n",
              "      <td>1</td>\n",
              "      <td>8</td>\n",
              "      <td>8</td>\n",
              "    </tr>\n",
              "    <tr>\n",
              "      <th>2002-01-09</th>\n",
              "      <td>6.20</td>\n",
              "      <td>7840.74</td>\n",
              "      <td>2002-01-09</td>\n",
              "      <td>2</td>\n",
              "      <td>9</td>\n",
              "      <td>9</td>\n",
              "    </tr>\n",
              "    <tr>\n",
              "      <th>2002-01-10</th>\n",
              "      <td>0.20</td>\n",
              "      <td>252.18</td>\n",
              "      <td>2002-01-10</td>\n",
              "      <td>3</td>\n",
              "      <td>10</td>\n",
              "      <td>10</td>\n",
              "    </tr>\n",
              "    <tr>\n",
              "      <th>2002-01-11</th>\n",
              "      <td>5.00</td>\n",
              "      <td>6315.69</td>\n",
              "      <td>2002-01-11</td>\n",
              "      <td>4</td>\n",
              "      <td>11</td>\n",
              "      <td>11</td>\n",
              "    </tr>\n",
              "    <tr>\n",
              "      <th>...</th>\n",
              "      <td>...</td>\n",
              "      <td>...</td>\n",
              "      <td>...</td>\n",
              "      <td>...</td>\n",
              "      <td>...</td>\n",
              "      <td>...</td>\n",
              "    </tr>\n",
              "    <tr>\n",
              "      <th>2021-08-05</th>\n",
              "      <td>4765.41</td>\n",
              "      <td>51618710.69</td>\n",
              "      <td>2021-08-05</td>\n",
              "      <td>3</td>\n",
              "      <td>5</td>\n",
              "      <td>217</td>\n",
              "    </tr>\n",
              "    <tr>\n",
              "      <th>2021-08-06</th>\n",
              "      <td>5953.69</td>\n",
              "      <td>64518858.59</td>\n",
              "      <td>2021-08-06</td>\n",
              "      <td>4</td>\n",
              "      <td>6</td>\n",
              "      <td>218</td>\n",
              "    </tr>\n",
              "    <tr>\n",
              "      <th>2021-08-09</th>\n",
              "      <td>6044.49</td>\n",
              "      <td>65513084.83</td>\n",
              "      <td>2021-08-09</td>\n",
              "      <td>0</td>\n",
              "      <td>9</td>\n",
              "      <td>221</td>\n",
              "    </tr>\n",
              "    <tr>\n",
              "      <th>2021-08-10</th>\n",
              "      <td>5716.93</td>\n",
              "      <td>61953661.14</td>\n",
              "      <td>2021-08-10</td>\n",
              "      <td>1</td>\n",
              "      <td>10</td>\n",
              "      <td>222</td>\n",
              "    </tr>\n",
              "    <tr>\n",
              "      <th>2021-08-11</th>\n",
              "      <td>6021.46</td>\n",
              "      <td>65264001.83</td>\n",
              "      <td>2021-08-11</td>\n",
              "      <td>2</td>\n",
              "      <td>11</td>\n",
              "      <td>223</td>\n",
              "    </tr>\n",
              "  </tbody>\n",
              "</table>\n",
              "<p>4830 rows × 6 columns</p>\n",
              "</div>"
            ],
            "text/plain": [
              "            Quantidade        Valor  Data_Venda  d_semana  d_mes  d_ano\n",
              "Data_Venda                                                             \n",
              "2002-01-07       12.20     15248.32  2002-01-07         0      7      7\n",
              "2002-01-08       33.80     42581.98  2002-01-08         1      8      8\n",
              "2002-01-09        6.20      7840.74  2002-01-09         2      9      9\n",
              "2002-01-10        0.20       252.18  2002-01-10         3     10     10\n",
              "2002-01-11        5.00      6315.69  2002-01-11         4     11     11\n",
              "...                ...          ...         ...       ...    ...    ...\n",
              "2021-08-05     4765.41  51618710.69  2021-08-05         3      5    217\n",
              "2021-08-06     5953.69  64518858.59  2021-08-06         4      6    218\n",
              "2021-08-09     6044.49  65513084.83  2021-08-09         0      9    221\n",
              "2021-08-10     5716.93  61953661.14  2021-08-10         1     10    222\n",
              "2021-08-11     6021.46  65264001.83  2021-08-11         2     11    223\n",
              "\n",
              "[4830 rows x 6 columns]"
            ]
          },
          "metadata": {},
          "execution_count": 12
        }
      ]
    },
    {
      "cell_type": "code",
      "source": [
        "\n",
        "\n",
        "# data_day = data_day[data_day['Data_Venda'] >= '2017-08-01']\n",
        "# data_day = data_day[data_day['Data_Venda'] <= '2020-08-30']\n",
        "data_day = data_day[data_day['Data_Venda'] >= '2015-01-01']\n",
        "\n",
        "data_day"
      ],
      "metadata": {
        "colab": {
          "base_uri": "https://localhost:8080/",
          "height": 455
        },
        "id": "wpLQs7i9UNoX",
        "outputId": "62b13845-3a6a-4eeb-8a9d-5c2f76f9a9ef"
      },
      "id": "wpLQs7i9UNoX",
      "execution_count": 13,
      "outputs": [
        {
          "output_type": "execute_result",
          "data": {
            "text/html": [
              "<div>\n",
              "<style scoped>\n",
              "    .dataframe tbody tr th:only-of-type {\n",
              "        vertical-align: middle;\n",
              "    }\n",
              "\n",
              "    .dataframe tbody tr th {\n",
              "        vertical-align: top;\n",
              "    }\n",
              "\n",
              "    .dataframe thead th {\n",
              "        text-align: right;\n",
              "    }\n",
              "</style>\n",
              "<table border=\"1\" class=\"dataframe\">\n",
              "  <thead>\n",
              "    <tr style=\"text-align: right;\">\n",
              "      <th></th>\n",
              "      <th>Quantidade</th>\n",
              "      <th>Valor</th>\n",
              "      <th>Data_Venda</th>\n",
              "      <th>d_semana</th>\n",
              "      <th>d_mes</th>\n",
              "      <th>d_ano</th>\n",
              "    </tr>\n",
              "    <tr>\n",
              "      <th>Data_Venda</th>\n",
              "      <th></th>\n",
              "      <th></th>\n",
              "      <th></th>\n",
              "      <th></th>\n",
              "      <th></th>\n",
              "      <th></th>\n",
              "    </tr>\n",
              "  </thead>\n",
              "  <tbody>\n",
              "    <tr>\n",
              "      <th>2015-01-05</th>\n",
              "      <td>942.07</td>\n",
              "      <td>6155917.13</td>\n",
              "      <td>2015-01-05</td>\n",
              "      <td>0</td>\n",
              "      <td>5</td>\n",
              "      <td>5</td>\n",
              "    </tr>\n",
              "    <tr>\n",
              "      <th>2015-01-06</th>\n",
              "      <td>4093.30</td>\n",
              "      <td>26782657.93</td>\n",
              "      <td>2015-01-06</td>\n",
              "      <td>1</td>\n",
              "      <td>6</td>\n",
              "      <td>6</td>\n",
              "    </tr>\n",
              "    <tr>\n",
              "      <th>2015-01-07</th>\n",
              "      <td>3806.25</td>\n",
              "      <td>24915331.31</td>\n",
              "      <td>2015-01-07</td>\n",
              "      <td>2</td>\n",
              "      <td>7</td>\n",
              "      <td>7</td>\n",
              "    </tr>\n",
              "    <tr>\n",
              "      <th>2015-01-08</th>\n",
              "      <td>1464.76</td>\n",
              "      <td>9592359.52</td>\n",
              "      <td>2015-01-08</td>\n",
              "      <td>3</td>\n",
              "      <td>8</td>\n",
              "      <td>8</td>\n",
              "    </tr>\n",
              "    <tr>\n",
              "      <th>2015-01-09</th>\n",
              "      <td>1354.27</td>\n",
              "      <td>8872660.72</td>\n",
              "      <td>2015-01-09</td>\n",
              "      <td>4</td>\n",
              "      <td>9</td>\n",
              "      <td>9</td>\n",
              "    </tr>\n",
              "    <tr>\n",
              "      <th>...</th>\n",
              "      <td>...</td>\n",
              "      <td>...</td>\n",
              "      <td>...</td>\n",
              "      <td>...</td>\n",
              "      <td>...</td>\n",
              "      <td>...</td>\n",
              "    </tr>\n",
              "    <tr>\n",
              "      <th>2021-08-05</th>\n",
              "      <td>4765.41</td>\n",
              "      <td>51618710.69</td>\n",
              "      <td>2021-08-05</td>\n",
              "      <td>3</td>\n",
              "      <td>5</td>\n",
              "      <td>217</td>\n",
              "    </tr>\n",
              "    <tr>\n",
              "      <th>2021-08-06</th>\n",
              "      <td>5953.69</td>\n",
              "      <td>64518858.59</td>\n",
              "      <td>2021-08-06</td>\n",
              "      <td>4</td>\n",
              "      <td>6</td>\n",
              "      <td>218</td>\n",
              "    </tr>\n",
              "    <tr>\n",
              "      <th>2021-08-09</th>\n",
              "      <td>6044.49</td>\n",
              "      <td>65513084.83</td>\n",
              "      <td>2021-08-09</td>\n",
              "      <td>0</td>\n",
              "      <td>9</td>\n",
              "      <td>221</td>\n",
              "    </tr>\n",
              "    <tr>\n",
              "      <th>2021-08-10</th>\n",
              "      <td>5716.93</td>\n",
              "      <td>61953661.14</td>\n",
              "      <td>2021-08-10</td>\n",
              "      <td>1</td>\n",
              "      <td>10</td>\n",
              "      <td>222</td>\n",
              "    </tr>\n",
              "    <tr>\n",
              "      <th>2021-08-11</th>\n",
              "      <td>6021.46</td>\n",
              "      <td>65264001.83</td>\n",
              "      <td>2021-08-11</td>\n",
              "      <td>2</td>\n",
              "      <td>11</td>\n",
              "      <td>223</td>\n",
              "    </tr>\n",
              "  </tbody>\n",
              "</table>\n",
              "<p>1631 rows × 6 columns</p>\n",
              "</div>"
            ],
            "text/plain": [
              "            Quantidade        Valor  Data_Venda  d_semana  d_mes  d_ano\n",
              "Data_Venda                                                             \n",
              "2015-01-05      942.07   6155917.13  2015-01-05         0      5      5\n",
              "2015-01-06     4093.30  26782657.93  2015-01-06         1      6      6\n",
              "2015-01-07     3806.25  24915331.31  2015-01-07         2      7      7\n",
              "2015-01-08     1464.76   9592359.52  2015-01-08         3      8      8\n",
              "2015-01-09     1354.27   8872660.72  2015-01-09         4      9      9\n",
              "...                ...          ...         ...       ...    ...    ...\n",
              "2021-08-05     4765.41  51618710.69  2021-08-05         3      5    217\n",
              "2021-08-06     5953.69  64518858.59  2021-08-06         4      6    218\n",
              "2021-08-09     6044.49  65513084.83  2021-08-09         0      9    221\n",
              "2021-08-10     5716.93  61953661.14  2021-08-10         1     10    222\n",
              "2021-08-11     6021.46  65264001.83  2021-08-11         2     11    223\n",
              "\n",
              "[1631 rows x 6 columns]"
            ]
          },
          "metadata": {},
          "execution_count": 13
        }
      ]
    },
    {
      "cell_type": "code",
      "metadata": {
        "colab": {
          "base_uri": "https://localhost:8080/",
          "height": 455
        },
        "id": "dcba7a59",
        "outputId": "7986b9e2-c12d-4b6e-85bb-071b9cc2c7d2"
      },
      "source": [
        "feature_names = ['Quantidade', 'Valor','d_semana','d_mes','d_ano']\n",
        "data_day_features=data_day.drop(columns=['Data_Venda'])\n",
        "#data_day = data_day.drop(columns=['Tipo_Titulo','Vencimento_do_Titulo'])\n",
        "data_day_features"
      ],
      "id": "dcba7a59",
      "execution_count": 14,
      "outputs": [
        {
          "output_type": "execute_result",
          "data": {
            "text/html": [
              "<div>\n",
              "<style scoped>\n",
              "    .dataframe tbody tr th:only-of-type {\n",
              "        vertical-align: middle;\n",
              "    }\n",
              "\n",
              "    .dataframe tbody tr th {\n",
              "        vertical-align: top;\n",
              "    }\n",
              "\n",
              "    .dataframe thead th {\n",
              "        text-align: right;\n",
              "    }\n",
              "</style>\n",
              "<table border=\"1\" class=\"dataframe\">\n",
              "  <thead>\n",
              "    <tr style=\"text-align: right;\">\n",
              "      <th></th>\n",
              "      <th>Quantidade</th>\n",
              "      <th>Valor</th>\n",
              "      <th>d_semana</th>\n",
              "      <th>d_mes</th>\n",
              "      <th>d_ano</th>\n",
              "    </tr>\n",
              "    <tr>\n",
              "      <th>Data_Venda</th>\n",
              "      <th></th>\n",
              "      <th></th>\n",
              "      <th></th>\n",
              "      <th></th>\n",
              "      <th></th>\n",
              "    </tr>\n",
              "  </thead>\n",
              "  <tbody>\n",
              "    <tr>\n",
              "      <th>2015-01-05</th>\n",
              "      <td>942.07</td>\n",
              "      <td>6155917.13</td>\n",
              "      <td>0</td>\n",
              "      <td>5</td>\n",
              "      <td>5</td>\n",
              "    </tr>\n",
              "    <tr>\n",
              "      <th>2015-01-06</th>\n",
              "      <td>4093.30</td>\n",
              "      <td>26782657.93</td>\n",
              "      <td>1</td>\n",
              "      <td>6</td>\n",
              "      <td>6</td>\n",
              "    </tr>\n",
              "    <tr>\n",
              "      <th>2015-01-07</th>\n",
              "      <td>3806.25</td>\n",
              "      <td>24915331.31</td>\n",
              "      <td>2</td>\n",
              "      <td>7</td>\n",
              "      <td>7</td>\n",
              "    </tr>\n",
              "    <tr>\n",
              "      <th>2015-01-08</th>\n",
              "      <td>1464.76</td>\n",
              "      <td>9592359.52</td>\n",
              "      <td>3</td>\n",
              "      <td>8</td>\n",
              "      <td>8</td>\n",
              "    </tr>\n",
              "    <tr>\n",
              "      <th>2015-01-09</th>\n",
              "      <td>1354.27</td>\n",
              "      <td>8872660.72</td>\n",
              "      <td>4</td>\n",
              "      <td>9</td>\n",
              "      <td>9</td>\n",
              "    </tr>\n",
              "    <tr>\n",
              "      <th>...</th>\n",
              "      <td>...</td>\n",
              "      <td>...</td>\n",
              "      <td>...</td>\n",
              "      <td>...</td>\n",
              "      <td>...</td>\n",
              "    </tr>\n",
              "    <tr>\n",
              "      <th>2021-08-05</th>\n",
              "      <td>4765.41</td>\n",
              "      <td>51618710.69</td>\n",
              "      <td>3</td>\n",
              "      <td>5</td>\n",
              "      <td>217</td>\n",
              "    </tr>\n",
              "    <tr>\n",
              "      <th>2021-08-06</th>\n",
              "      <td>5953.69</td>\n",
              "      <td>64518858.59</td>\n",
              "      <td>4</td>\n",
              "      <td>6</td>\n",
              "      <td>218</td>\n",
              "    </tr>\n",
              "    <tr>\n",
              "      <th>2021-08-09</th>\n",
              "      <td>6044.49</td>\n",
              "      <td>65513084.83</td>\n",
              "      <td>0</td>\n",
              "      <td>9</td>\n",
              "      <td>221</td>\n",
              "    </tr>\n",
              "    <tr>\n",
              "      <th>2021-08-10</th>\n",
              "      <td>5716.93</td>\n",
              "      <td>61953661.14</td>\n",
              "      <td>1</td>\n",
              "      <td>10</td>\n",
              "      <td>222</td>\n",
              "    </tr>\n",
              "    <tr>\n",
              "      <th>2021-08-11</th>\n",
              "      <td>6021.46</td>\n",
              "      <td>65264001.83</td>\n",
              "      <td>2</td>\n",
              "      <td>11</td>\n",
              "      <td>223</td>\n",
              "    </tr>\n",
              "  </tbody>\n",
              "</table>\n",
              "<p>1631 rows × 5 columns</p>\n",
              "</div>"
            ],
            "text/plain": [
              "            Quantidade        Valor  d_semana  d_mes  d_ano\n",
              "Data_Venda                                                 \n",
              "2015-01-05      942.07   6155917.13         0      5      5\n",
              "2015-01-06     4093.30  26782657.93         1      6      6\n",
              "2015-01-07     3806.25  24915331.31         2      7      7\n",
              "2015-01-08     1464.76   9592359.52         3      8      8\n",
              "2015-01-09     1354.27   8872660.72         4      9      9\n",
              "...                ...          ...       ...    ...    ...\n",
              "2021-08-05     4765.41  51618710.69         3      5    217\n",
              "2021-08-06     5953.69  64518858.59         4      6    218\n",
              "2021-08-09     6044.49  65513084.83         0      9    221\n",
              "2021-08-10     5716.93  61953661.14         1     10    222\n",
              "2021-08-11     6021.46  65264001.83         2     11    223\n",
              "\n",
              "[1631 rows x 5 columns]"
            ]
          },
          "metadata": {},
          "execution_count": 14
        }
      ]
    },
    {
      "cell_type": "code",
      "metadata": {
        "id": "637070a7"
      },
      "source": [
        "# aplicando escala pros valores ficarem entre 0 e 1\n",
        "if(transformar_features): \n",
        "    scaler = MinMaxScaler(feature_range=(0, 1))\n",
        "\n",
        "    data_day_features[feature_names] = scaler.fit_transform(data_day_features[feature_names])\n",
        "\n",
        "    data_day_features"
      ],
      "id": "637070a7",
      "execution_count": 15,
      "outputs": []
    },
    {
      "cell_type": "code",
      "metadata": {
        "colab": {
          "base_uri": "https://localhost:8080/",
          "height": 455
        },
        "id": "b1ff7204",
        "outputId": "569e7703-e837-4ff8-f333-42dc0646ee2a"
      },
      "source": [
        "data_day_features"
      ],
      "id": "b1ff7204",
      "execution_count": 16,
      "outputs": [
        {
          "output_type": "execute_result",
          "data": {
            "text/html": [
              "<div>\n",
              "<style scoped>\n",
              "    .dataframe tbody tr th:only-of-type {\n",
              "        vertical-align: middle;\n",
              "    }\n",
              "\n",
              "    .dataframe tbody tr th {\n",
              "        vertical-align: top;\n",
              "    }\n",
              "\n",
              "    .dataframe thead th {\n",
              "        text-align: right;\n",
              "    }\n",
              "</style>\n",
              "<table border=\"1\" class=\"dataframe\">\n",
              "  <thead>\n",
              "    <tr style=\"text-align: right;\">\n",
              "      <th></th>\n",
              "      <th>Quantidade</th>\n",
              "      <th>Valor</th>\n",
              "      <th>d_semana</th>\n",
              "      <th>d_mes</th>\n",
              "      <th>d_ano</th>\n",
              "    </tr>\n",
              "    <tr>\n",
              "      <th>Data_Venda</th>\n",
              "      <th></th>\n",
              "      <th></th>\n",
              "      <th></th>\n",
              "      <th></th>\n",
              "      <th></th>\n",
              "    </tr>\n",
              "  </thead>\n",
              "  <tbody>\n",
              "    <tr>\n",
              "      <th>2015-01-05</th>\n",
              "      <td>0.018456</td>\n",
              "      <td>0.008492</td>\n",
              "      <td>0.00</td>\n",
              "      <td>0.133333</td>\n",
              "      <td>0.008264</td>\n",
              "    </tr>\n",
              "    <tr>\n",
              "      <th>2015-01-06</th>\n",
              "      <td>0.109310</td>\n",
              "      <td>0.067409</td>\n",
              "      <td>0.25</td>\n",
              "      <td>0.166667</td>\n",
              "      <td>0.011019</td>\n",
              "    </tr>\n",
              "    <tr>\n",
              "      <th>2015-01-07</th>\n",
              "      <td>0.101034</td>\n",
              "      <td>0.062076</td>\n",
              "      <td>0.50</td>\n",
              "      <td>0.200000</td>\n",
              "      <td>0.013774</td>\n",
              "    </tr>\n",
              "    <tr>\n",
              "      <th>2015-01-08</th>\n",
              "      <td>0.033526</td>\n",
              "      <td>0.018308</td>\n",
              "      <td>0.75</td>\n",
              "      <td>0.233333</td>\n",
              "      <td>0.016529</td>\n",
              "    </tr>\n",
              "    <tr>\n",
              "      <th>2015-01-09</th>\n",
              "      <td>0.030340</td>\n",
              "      <td>0.016252</td>\n",
              "      <td>1.00</td>\n",
              "      <td>0.266667</td>\n",
              "      <td>0.019284</td>\n",
              "    </tr>\n",
              "    <tr>\n",
              "      <th>...</th>\n",
              "      <td>...</td>\n",
              "      <td>...</td>\n",
              "      <td>...</td>\n",
              "      <td>...</td>\n",
              "      <td>...</td>\n",
              "    </tr>\n",
              "    <tr>\n",
              "      <th>2021-08-05</th>\n",
              "      <td>0.128688</td>\n",
              "      <td>0.138350</td>\n",
              "      <td>0.75</td>\n",
              "      <td>0.133333</td>\n",
              "      <td>0.592287</td>\n",
              "    </tr>\n",
              "    <tr>\n",
              "      <th>2021-08-06</th>\n",
              "      <td>0.162948</td>\n",
              "      <td>0.175198</td>\n",
              "      <td>1.00</td>\n",
              "      <td>0.166667</td>\n",
              "      <td>0.595041</td>\n",
              "    </tr>\n",
              "    <tr>\n",
              "      <th>2021-08-09</th>\n",
              "      <td>0.165566</td>\n",
              "      <td>0.178038</td>\n",
              "      <td>0.00</td>\n",
              "      <td>0.266667</td>\n",
              "      <td>0.603306</td>\n",
              "    </tr>\n",
              "    <tr>\n",
              "      <th>2021-08-10</th>\n",
              "      <td>0.156122</td>\n",
              "      <td>0.167871</td>\n",
              "      <td>0.25</td>\n",
              "      <td>0.300000</td>\n",
              "      <td>0.606061</td>\n",
              "    </tr>\n",
              "    <tr>\n",
              "      <th>2021-08-11</th>\n",
              "      <td>0.164902</td>\n",
              "      <td>0.177326</td>\n",
              "      <td>0.50</td>\n",
              "      <td>0.333333</td>\n",
              "      <td>0.608815</td>\n",
              "    </tr>\n",
              "  </tbody>\n",
              "</table>\n",
              "<p>1631 rows × 5 columns</p>\n",
              "</div>"
            ],
            "text/plain": [
              "            Quantidade     Valor  d_semana     d_mes     d_ano\n",
              "Data_Venda                                                    \n",
              "2015-01-05    0.018456  0.008492      0.00  0.133333  0.008264\n",
              "2015-01-06    0.109310  0.067409      0.25  0.166667  0.011019\n",
              "2015-01-07    0.101034  0.062076      0.50  0.200000  0.013774\n",
              "2015-01-08    0.033526  0.018308      0.75  0.233333  0.016529\n",
              "2015-01-09    0.030340  0.016252      1.00  0.266667  0.019284\n",
              "...                ...       ...       ...       ...       ...\n",
              "2021-08-05    0.128688  0.138350      0.75  0.133333  0.592287\n",
              "2021-08-06    0.162948  0.175198      1.00  0.166667  0.595041\n",
              "2021-08-09    0.165566  0.178038      0.00  0.266667  0.603306\n",
              "2021-08-10    0.156122  0.167871      0.25  0.300000  0.606061\n",
              "2021-08-11    0.164902  0.177326      0.50  0.333333  0.608815\n",
              "\n",
              "[1631 rows x 5 columns]"
            ]
          },
          "metadata": {},
          "execution_count": 16
        }
      ]
    },
    {
      "cell_type": "code",
      "metadata": {
        "colab": {
          "base_uri": "https://localhost:8080/",
          "height": 320
        },
        "id": "5925e6ce",
        "outputId": "41103b40-586d-4d40-a069-eb5d8532e859"
      },
      "source": [
        "plt.figure(figsize=(15,5))\n",
        "plt.plot(range(len(data_day)),data_day['Quantidade'], 'b--')\n",
        "#plt.xlim(4000,4300)\n",
        "plt.show()"
      ],
      "id": "5925e6ce",
      "execution_count": 17,
      "outputs": [
        {
          "output_type": "display_data",
          "data": {
            "image/png": "[encoded data removed]",
            "text/plain": [
              "<Figure size 1080x360 with 1 Axes>"
            ]
          },
          "metadata": {
            "needs_background": "light"
          }
        }
      ]
    },
    {
      "cell_type": "code",
      "metadata": {
        "colab": {
          "base_uri": "https://localhost:8080/"
        },
        "id": "5f97715f",
        "outputId": "93d2a2be-bd8e-4944-dc49-fd11ea72147d"
      },
      "source": [
        "time_steps = 365\n",
        "test_size = 200\n",
        "\n",
        "train_size = int(len(data_day_features)-(test_size))\n",
        "\n",
        "#train, test = data_day_features.iloc[(train_size-time_steps):len(data_day_features)],data_day_features.iloc[0:train_size]\n",
        "\n",
        "train, test = data_day_features.iloc[0:train_size], data_day_features.iloc[(train_size-time_steps):len(data_day_features)]\n",
        "\n",
        "print(len(train), len(test))"
      ],
      "id": "5f97715f",
      "execution_count": 18,
      "outputs": [
        {
          "output_type": "stream",
          "name": "stdout",
          "text": [
            "1431 565\n"
          ]
        }
      ]
    },
    {
      "cell_type": "code",
      "metadata": {
        "id": "65b40399"
      },
      "source": [
        "def create_dataset(X, y, time_steps=1):\n",
        "    Xs, ys = [], []\n",
        "    for i in range(len(X) - time_steps):\n",
        "        v = X.iloc[i:(i + time_steps),0].to_numpy()\n",
        "        v = np.append(v,X.iloc[i + time_steps,1])#price\n",
        "        v = np.append(v,X.iloc[i + time_steps,2])#d_semana\n",
        "        v = np.append(v,X.iloc[i + time_steps,3])#d_mes\n",
        "        v = np.append(v,X.iloc[i + time_steps,4])#d_ano\n",
        "        Xs.append([v])\n",
        "        ys.append(y.iloc[i + time_steps])\n",
        "    return np.array(Xs), np.array(ys)\n",
        "\n",
        "X_train, y_train = create_dataset(train, train['Quantidade'], time_steps)\n",
        "X_test, y_test = create_dataset(test, test['Quantidade'], time_steps)\n",
        "\n"
      ],
      "id": "65b40399",
      "execution_count": 19,
      "outputs": []
    },
    {
      "cell_type": "code",
      "metadata": {
        "colab": {
          "base_uri": "https://localhost:8080/"
        },
        "id": "5235545d",
        "outputId": "96d9ef93-b55e-4cb8-e6ca-dc30f6434e15"
      },
      "source": [
        "print(len(y_train),len(y_test))"
      ],
      "id": "5235545d",
      "execution_count": 20,
      "outputs": [
        {
          "output_type": "stream",
          "name": "stdout",
          "text": [
            "1066 200\n"
          ]
        }
      ]
    },
    {
      "cell_type": "code",
      "source": [
        "plt.figure(figsize=(15,5))\n",
        "plt.plot(range(len(train)),train['Quantidade'], 'b--')\n",
        "#plt.xlim(4000,4300)\n",
        "plt.show()"
      ],
      "metadata": {
        "colab": {
          "base_uri": "https://localhost:8080/",
          "height": 320
        },
        "id": "-K1UFyR0MSW1",
        "outputId": "db79f56d-bbb0-4628-9853-36a3d0fa1d25"
      },
      "id": "-K1UFyR0MSW1",
      "execution_count": 21,
      "outputs": [
        {
          "output_type": "display_data",
          "data": {
            "image/png": "[encoded data removed]",
            "text/plain": [
              "<Figure size 1080x360 with 1 Axes>"
            ]
          },
          "metadata": {
            "needs_background": "light"
          }
        }
      ]
    },
    {
      "cell_type": "code",
      "source": [
        "plt.figure(figsize=(15,5))\n",
        "plt.plot(range(len(test)),test['Quantidade'], 'b--')\n",
        "#plt.xlim(4000,4300)\n",
        "plt.show()"
      ],
      "metadata": {
        "colab": {
          "base_uri": "https://localhost:8080/",
          "height": 320
        },
        "id": "LxIyBkyhNMTg",
        "outputId": "36e5088e-9d7e-479b-b54f-b547a33b67ac"
      },
      "id": "LxIyBkyhNMTg",
      "execution_count": 22,
      "outputs": [
        {
          "output_type": "display_data",
          "data": {
            "image/png": "[encoded data removed]",
            "text/plain": [
              "<Figure size 1080x360 with 1 Axes>"
            ]
          },
          "metadata": {
            "needs_background": "light"
          }
        }
      ]
    },
    {
      "cell_type": "code",
      "metadata": {
        "colab": {
          "base_uri": "https://localhost:8080/"
        },
        "id": "3EswPohLFqHk",
        "outputId": "d9e836ff-a60a-4f9a-d0fd-8b2d4caeda1e"
      },
      "source": [
        "nsamples, nx, ny = X_train.shape\n",
        "d2_xtrain_dataset = X_train.reshape((nsamples,nx*ny))\n",
        "d2_xtrain_dataset\n"
      ],
      "id": "3EswPohLFqHk",
      "execution_count": 23,
      "outputs": [
        {
          "output_type": "execute_result",
          "data": {
            "text/plain": [
              "array([[0.01845608, 0.10931018, 0.10103415, ..., 0.5       , 0.93333333,\n",
              "        0.49311295],\n",
              "       [0.10931018, 0.10103415, 0.03352592, ..., 0.75      , 0.96666667,\n",
              "        0.49586777],\n",
              "       [0.10103415, 0.03352592, 0.03034035, ..., 1.        , 0.        ,\n",
              "        0.49862259],\n",
              "       ...,\n",
              "       [0.13886891, 0.16357244, 0.22330228, ..., 0.75      , 0.46666667,\n",
              "        0.79063361],\n",
              "       [0.16357244, 0.22330228, 0.19438389, ..., 1.        , 0.5       ,\n",
              "        0.79338843],\n",
              "       [0.22330228, 0.19438389, 0.20002099, ..., 0.        , 0.6       ,\n",
              "        0.80165289]])"
            ]
          },
          "metadata": {},
          "execution_count": 23
        }
      ]
    },
    {
      "cell_type": "code",
      "metadata": {
        "id": "tJIr-gPTDYgM"
      },
      "source": [
        "parameters = [{\n",
        "'kernel': ['linear', 'poly', 'rbf', 'sigmoid'], \n",
        "'C': [1,2,3,300,500],\n",
        "'max_iter': [1000,100000]}]"
      ],
      "id": "tJIr-gPTDYgM",
      "execution_count": 24,
      "outputs": []
    },
    {
      "cell_type": "code",
      "metadata": {
        "id": "h1FdD9uVDaJR"
      },
      "source": [
        "#clf = GridSearchCV(\n",
        "#        SVR(), parameters, scoring='r2'\n",
        "#    )\n",
        "#x_fit = clf.fit(d2_xtrain_dataset, y_train)"
      ],
      "id": "h1FdD9uVDaJR",
      "execution_count": 25,
      "outputs": []
    },
    {
      "cell_type": "code",
      "metadata": {
        "id": "xPdCDCqXIqBU",
        "colab": {
          "base_uri": "https://localhost:8080/"
        },
        "outputId": "2ce1bece-9474-469f-cb7f-be2f2ecd5b59"
      },
      "source": [
        "d2_xtrain_dataset"
      ],
      "id": "xPdCDCqXIqBU",
      "execution_count": 26,
      "outputs": [
        {
          "output_type": "execute_result",
          "data": {
            "text/plain": [
              "array([[0.01845608, 0.10931018, 0.10103415, ..., 0.5       , 0.93333333,\n",
              "        0.49311295],\n",
              "       [0.10931018, 0.10103415, 0.03352592, ..., 0.75      , 0.96666667,\n",
              "        0.49586777],\n",
              "       [0.10103415, 0.03352592, 0.03034035, ..., 1.        , 0.        ,\n",
              "        0.49862259],\n",
              "       ...,\n",
              "       [0.13886891, 0.16357244, 0.22330228, ..., 0.75      , 0.46666667,\n",
              "        0.79063361],\n",
              "       [0.16357244, 0.22330228, 0.19438389, ..., 1.        , 0.5       ,\n",
              "        0.79338843],\n",
              "       [0.22330228, 0.19438389, 0.20002099, ..., 0.        , 0.6       ,\n",
              "        0.80165289]])"
            ]
          },
          "metadata": {},
          "execution_count": 26
        }
      ]
    },
    {
      "cell_type": "code",
      "metadata": {
        "id": "d8dc6ec6"
      },
      "source": [
        "def getModel():\n",
        "    model = tf.keras.Sequential()\n",
        "    #leaky_relu = LeakyReLU(alpha=0.01)\n",
        "    \n",
        "    # MLP    \n",
        "    model.add(tf.keras.layers.Dense(300, activation=\"relu\", input_shape=(X_train.shape[1], X_train.shape[2])))\n",
        "    #model.add(tf.keras.layers.Dense(3000, activation=\"selu\", input_shape=(X_train.shape[1], X_train.shape[2])))\n",
        "    #model.add(tf.keras.layers.Dense(1000, activation=\"selu\")) \n",
        "    #model.add(tf.keras.layers.Dense(900, activation=\"selu\",input_shape=(X_train.shape[1], X_train.shape[2])))\n",
        "    #model.add(tf.keras.layers.Dense(300, activation=\"selu\"))\n",
        "    model.add(tf.keras.layers.Dense(100, activation=\"relu\"))\n",
        "    #model.add(tf.keras.layers.Dense(90, activation=\"relu\"))\n",
        "    model.add(tf.keras.layers.Dense(30, activation=\"relu\"))\n",
        "    model.add(tf.keras.layers.Dense(10, activation=\"relu\"))\n",
        "    \n",
        "    # Vanilla LSTM\n",
        "    # model.add(tf.keras.layers.LSTM(100, activation='relu', input_shape=(X_train.shape[1], X_train.shape[2])))\n",
        "        \n",
        "    # Stacked LSTM\n",
        "#     model.add(tf.keras.layers.LSTM(3000, activation='relu', return_sequences=True, input_shape=(X_train.shape[1], X_train.shape[2])))\n",
        "#     model.add(tf.keras.layers.LSTM(1000, activation='relu', return_sequences=True))\n",
        "#     model.add(tf.keras.layers.LSTM(300, activation='relu', return_sequences=True))\n",
        "#     model.add(tf.keras.layers.LSTM(100, activation='relu', return_sequences=True))\n",
        "#     model.add(tf.keras.layers.LSTM(30, activation='relu', return_sequences=True))\n",
        "#     model.add(tf.keras.layers.LSTM(10, activation='relu'))\n",
        "    \n",
        "    # Bidirectional LSTM\n",
        "#     model.add(tf.keras.layers.Bidirectional(tf.keras.layers.LSTM(50, activation='relu'), input_shape=(X_train.shape[1], X_train.shape[2])))\n",
        "    \n",
        "    model.add(tf.keras.layers.Dense(units=1))\n",
        "    \n",
        "    return model"
      ],
      "id": "d8dc6ec6",
      "execution_count": 27,
      "outputs": []
    },
    {
      "cell_type": "code",
      "metadata": {
        "id": "e46f43ed"
      },
      "source": [
        "model = getModel()\n",
        "\n",
        "model.compile(\n",
        "  loss='mean_squared_error',\n",
        "  optimizer=tf.keras.optimizers.Adam(0.001)\n",
        ")"
      ],
      "id": "e46f43ed",
      "execution_count": 28,
      "outputs": []
    },
    {
      "cell_type": "code",
      "metadata": {
        "id": "128b1068",
        "colab": {
          "base_uri": "https://localhost:8080/"
        },
        "outputId": "d4335d79-26ea-475b-87dc-12b8d4ea540e"
      },
      "source": [
        "callbacks = [tf.keras.callbacks.ReduceLROnPlateau(monitor='val_loss', factor=0.1, patience=7, verbose=1, min_delta=1e-4, mode='min')]\n",
        "\n",
        "callbacks.append(tf.keras.callbacks.EarlyStopping(monitor='val_loss', patience=15, verbose=0, restore_best_weights=True))\n",
        "\n",
        "history = model.fit(\n",
        "    X_train, y_train,\n",
        "    epochs=100, #1000\n",
        "    batch_size=40, # 30\n",
        "    validation_split=0.4,\n",
        "    callbacks=callbacks,\n",
        "    shuffle=False\n",
        ")"
      ],
      "id": "128b1068",
      "execution_count": 29,
      "outputs": [
        {
          "output_type": "stream",
          "name": "stdout",
          "text": [
            "Epoch 1/100\n",
            "16/16 [==============================] - 1s 25ms/step - loss: 0.0055 - val_loss: 0.0075 - lr: 0.0010\n",
            "Epoch 2/100\n",
            "16/16 [==============================] - 0s 8ms/step - loss: 0.0029 - val_loss: 0.0062 - lr: 0.0010\n",
            "Epoch 3/100\n",
            "16/16 [==============================] - 0s 6ms/step - loss: 0.0025 - val_loss: 0.0053 - lr: 0.0010\n",
            "Epoch 4/100\n",
            "16/16 [==============================] - 0s 7ms/step - loss: 0.0024 - val_loss: 0.0053 - lr: 0.0010\n",
            "Epoch 5/100\n",
            "16/16 [==============================] - 0s 7ms/step - loss: 0.0023 - val_loss: 0.0053 - lr: 0.0010\n",
            "Epoch 6/100\n",
            "16/16 [==============================] - 0s 7ms/step - loss: 0.0022 - val_loss: 0.0052 - lr: 0.0010\n",
            "Epoch 7/100\n",
            "16/16 [==============================] - 0s 7ms/step - loss: 0.0021 - val_loss: 0.0052 - lr: 0.0010\n",
            "Epoch 8/100\n",
            "16/16 [==============================] - 0s 7ms/step - loss: 0.0020 - val_loss: 0.0052 - lr: 0.0010\n",
            "Epoch 9/100\n",
            "16/16 [==============================] - 0s 7ms/step - loss: 0.0020 - val_loss: 0.0049 - lr: 0.0010\n",
            "Epoch 10/100\n",
            "16/16 [==============================] - 0s 7ms/step - loss: 0.0019 - val_loss: 0.0047 - lr: 0.0010\n",
            "Epoch 11/100\n",
            "16/16 [==============================] - 0s 7ms/step - loss: 0.0019 - val_loss: 0.0045 - lr: 0.0010\n",
            "Epoch 12/100\n",
            "16/16 [==============================] - 0s 7ms/step - loss: 0.0019 - val_loss: 0.0042 - lr: 0.0010\n",
            "Epoch 13/100\n",
            "16/16 [==============================] - 0s 7ms/step - loss: 0.0019 - val_loss: 0.0040 - lr: 0.0010\n",
            "Epoch 14/100\n",
            "16/16 [==============================] - 0s 6ms/step - loss: 0.0019 - val_loss: 0.0040 - lr: 0.0010\n",
            "Epoch 15/100\n",
            "16/16 [==============================] - 0s 6ms/step - loss: 0.0019 - val_loss: 0.0041 - lr: 0.0010\n",
            "Epoch 16/100\n",
            "16/16 [==============================] - 0s 7ms/step - loss: 0.0019 - val_loss: 0.0045 - lr: 0.0010\n",
            "Epoch 17/100\n",
            "16/16 [==============================] - 0s 7ms/step - loss: 0.0020 - val_loss: 0.0041 - lr: 0.0010\n",
            "Epoch 18/100\n",
            "16/16 [==============================] - 0s 7ms/step - loss: 0.0022 - val_loss: 0.0040 - lr: 0.0010\n",
            "Epoch 19/100\n",
            "16/16 [==============================] - 0s 6ms/step - loss: 0.0023 - val_loss: 0.0046 - lr: 0.0010\n",
            "Epoch 20/100\n",
            "13/16 [=======================>......] - ETA: 0s - loss: 0.0022    \n",
            "Epoch 00020: ReduceLROnPlateau reducing learning rate to 0.00010000000474974513.\n",
            "16/16 [==============================] - 0s 10ms/step - loss: 0.0022 - val_loss: 0.0047 - lr: 0.0010\n",
            "Epoch 21/100\n",
            "16/16 [==============================] - 0s 6ms/step - loss: 0.0019 - val_loss: 0.0041 - lr: 1.0000e-04\n",
            "Epoch 22/100\n",
            "16/16 [==============================] - 0s 7ms/step - loss: 0.0019 - val_loss: 0.0041 - lr: 1.0000e-04\n",
            "Epoch 23/100\n",
            "16/16 [==============================] - 0s 7ms/step - loss: 0.0019 - val_loss: 0.0041 - lr: 1.0000e-04\n",
            "Epoch 24/100\n",
            "16/16 [==============================] - 0s 7ms/step - loss: 0.0019 - val_loss: 0.0041 - lr: 1.0000e-04\n",
            "Epoch 25/100\n",
            "16/16 [==============================] - 0s 7ms/step - loss: 0.0019 - val_loss: 0.0041 - lr: 1.0000e-04\n",
            "Epoch 26/100\n",
            "16/16 [==============================] - 0s 7ms/step - loss: 0.0019 - val_loss: 0.0041 - lr: 1.0000e-04\n",
            "Epoch 27/100\n",
            "15/16 [===========================>..] - ETA: 0s - loss: 0.0019    \n",
            "Epoch 00027: ReduceLROnPlateau reducing learning rate to 1.0000000474974514e-05.\n",
            "16/16 [==============================] - 0s 6ms/step - loss: 0.0018 - val_loss: 0.0041 - lr: 1.0000e-04\n",
            "Epoch 28/100\n",
            "16/16 [==============================] - 0s 9ms/step - loss: 0.0018 - val_loss: 0.0041 - lr: 1.0000e-05\n",
            "Epoch 29/100\n",
            "16/16 [==============================] - 0s 7ms/step - loss: 0.0018 - val_loss: 0.0041 - lr: 1.0000e-05\n"
          ]
        }
      ]
    },
    {
      "cell_type": "code",
      "metadata": {
        "id": "cb3110fa",
        "colab": {
          "base_uri": "https://localhost:8080/",
          "height": 320
        },
        "outputId": "1367b370-bc9a-49a5-bdab-a002f523e375"
      },
      "source": [
        "pd.DataFrame(history.history).plot(figsize=(8, 5))\n",
        "plt.grid(True)\n",
        "# plt.gca().set_ylim(0, 1) # set the vertical range to [0-1]\n",
        "plt.show()"
      ],
      "id": "cb3110fa",
      "execution_count": 30,
      "outputs": [
        {
          "output_type": "display_data",
          "data": {
            "image/png": "[encoded data removed]",
            "text/plain": [
              "<Figure size 576x360 with 1 Axes>"
            ]
          },
          "metadata": {
            "needs_background": "light"
          }
        }
      ]
    },
    {
      "cell_type": "markdown",
      "metadata": {
        "id": "LkfoRgJ0ofTn"
      },
      "source": [
        "Avaliando o modelo"
      ],
      "id": "LkfoRgJ0ofTn"
    },
    {
      "cell_type": "code",
      "metadata": {
        "id": "92e490a1"
      },
      "source": [
        "# PREVENDO test_size DIAS\n",
        "\n",
        "preds = []\n",
        "\n",
        "base_teste = np.copy(X_test)\n",
        "\n",
        "for i in range(len(base_teste)):\n",
        "    \n",
        "    y_pred = model.predict(np.array([base_teste[i]]))[0][0]\n",
        "\n",
        "    preds.append(y_pred)\n",
        "\n",
        "    for k in range(len(preds)):\n",
        "        \n",
        "        if k < time_steps:\n",
        "            if(i<len(base_teste)-1):\n",
        "                base_teste[i+1][0][(time_steps-1)-k] = preds[(len(preds)-1)-k]\n",
        "\n",
        "# preds"
      ],
      "id": "92e490a1",
      "execution_count": 31,
      "outputs": []
    },
    {
      "cell_type": "code",
      "metadata": {
        "id": "QguHan-fok5i",
        "colab": {
          "base_uri": "https://localhost:8080/"
        },
        "outputId": "a8d92082-855c-42c0-8b91-19e119fdf508"
      },
      "source": [
        "base_teste[0].shape"
      ],
      "id": "QguHan-fok5i",
      "execution_count": 32,
      "outputs": [
        {
          "output_type": "execute_result",
          "data": {
            "text/plain": [
              "(1, 369)"
            ]
          },
          "metadata": {},
          "execution_count": 32
        }
      ]
    },
    {
      "cell_type": "code",
      "metadata": {
        "id": "W6O5HjemomRD"
      },
      "source": [
        "# APLICANDO O INVERSE SCALING NOS DADOS\n",
        "\n",
        "dados_pred = {'Quantidade': preds,'d_semana': [0] * test_size,'d_mes': [0] * test_size,'d_ano': [0] * test_size}\n",
        "\n",
        "data_day = data_day.append(pd.DataFrame(data=dados_pred))\n",
        "\n",
        "if(transformar_features):\n",
        "    data_day[feature_names] = scaler.inverse_transform(data_day[feature_names])\n",
        "# feature_names = ['PU','Quantidade', 'Valor','d_semana','d_mes','d_ano']\n",
        "df_dados_real_predito = data_day.head(test_size*2)\n",
        "\n",
        "\n",
        "dados_real = df_dados_real_predito [0:test_size]['Quantidade'].to_numpy()\n",
        "\n",
        "dados_predito = df_dados_real_predito [test_size:test_size*2]['Quantidade'].to_numpy()\n",
        "\n",
        "\n",
        "# dados_predito"
      ],
      "id": "W6O5HjemomRD",
      "execution_count": 33,
      "outputs": []
    },
    {
      "cell_type": "code",
      "metadata": {
        "id": "AZTh47OWopL7",
        "colab": {
          "base_uri": "https://localhost:8080/",
          "height": 424
        },
        "outputId": "5be100c6-7b01-4830-c4b1-4f424c65c072"
      },
      "source": [
        "df_real_predito = pd.DataFrame({'real':dados_real,'predito':dados_predito})\n",
        "\n",
        "df_real_predito"
      ],
      "id": "AZTh47OWopL7",
      "execution_count": 34,
      "outputs": [
        {
          "output_type": "execute_result",
          "data": {
            "text/html": [
              "<div>\n",
              "<style scoped>\n",
              "    .dataframe tbody tr th:only-of-type {\n",
              "        vertical-align: middle;\n",
              "    }\n",
              "\n",
              "    .dataframe tbody tr th {\n",
              "        vertical-align: top;\n",
              "    }\n",
              "\n",
              "    .dataframe thead th {\n",
              "        text-align: right;\n",
              "    }\n",
              "</style>\n",
              "<table border=\"1\" class=\"dataframe\">\n",
              "  <thead>\n",
              "    <tr style=\"text-align: right;\">\n",
              "      <th></th>\n",
              "      <th>real</th>\n",
              "      <th>predito</th>\n",
              "    </tr>\n",
              "  </thead>\n",
              "  <tbody>\n",
              "    <tr>\n",
              "      <th>0</th>\n",
              "      <td>3.267554e+07</td>\n",
              "      <td>5.526487e+07</td>\n",
              "    </tr>\n",
              "    <tr>\n",
              "      <th>1</th>\n",
              "      <td>1.419744e+08</td>\n",
              "      <td>4.731587e+07</td>\n",
              "    </tr>\n",
              "    <tr>\n",
              "      <th>2</th>\n",
              "      <td>1.320182e+08</td>\n",
              "      <td>6.354059e+07</td>\n",
              "    </tr>\n",
              "    <tr>\n",
              "      <th>3</th>\n",
              "      <td>5.080478e+07</td>\n",
              "      <td>5.929867e+07</td>\n",
              "    </tr>\n",
              "    <tr>\n",
              "      <th>4</th>\n",
              "      <td>4.697249e+07</td>\n",
              "      <td>7.473571e+07</td>\n",
              "    </tr>\n",
              "    <tr>\n",
              "      <th>...</th>\n",
              "      <td>...</td>\n",
              "      <td>...</td>\n",
              "    </tr>\n",
              "    <tr>\n",
              "      <th>195</th>\n",
              "      <td>6.553634e+07</td>\n",
              "      <td>8.614310e+07</td>\n",
              "    </tr>\n",
              "    <tr>\n",
              "      <th>196</th>\n",
              "      <td>6.054593e+07</td>\n",
              "      <td>7.958148e+07</td>\n",
              "    </tr>\n",
              "    <tr>\n",
              "      <th>197</th>\n",
              "      <td>7.846603e+07</td>\n",
              "      <td>7.258804e+07</td>\n",
              "    </tr>\n",
              "    <tr>\n",
              "      <th>198</th>\n",
              "      <td>6.835688e+07</td>\n",
              "      <td>6.739439e+07</td>\n",
              "    </tr>\n",
              "    <tr>\n",
              "      <th>199</th>\n",
              "      <td>5.896536e+07</td>\n",
              "      <td>9.185113e+07</td>\n",
              "    </tr>\n",
              "  </tbody>\n",
              "</table>\n",
              "<p>200 rows × 2 columns</p>\n",
              "</div>"
            ],
            "text/plain": [
              "             real       predito\n",
              "0    3.267554e+07  5.526487e+07\n",
              "1    1.419744e+08  4.731587e+07\n",
              "2    1.320182e+08  6.354059e+07\n",
              "3    5.080478e+07  5.929867e+07\n",
              "4    4.697249e+07  7.473571e+07\n",
              "..            ...           ...\n",
              "195  6.553634e+07  8.614310e+07\n",
              "196  6.054593e+07  7.958148e+07\n",
              "197  7.846603e+07  7.258804e+07\n",
              "198  6.835688e+07  6.739439e+07\n",
              "199  5.896536e+07  9.185113e+07\n",
              "\n",
              "[200 rows x 2 columns]"
            ]
          },
          "metadata": {},
          "execution_count": 34
        }
      ]
    },
    {
      "cell_type": "code",
      "metadata": {
        "id": "6ZbQrolyopyN",
        "colab": {
          "base_uri": "https://localhost:8080/",
          "height": 331
        },
        "outputId": "0368e27b-61e0-4313-826a-2a94c1375b99"
      },
      "source": [
        "plt.figure(figsize=(15,5))\n",
        "# plt.plot(range(len(y_train)),y_train, 'g--')\n",
        "plt.plot(range(len(df_real_predito['predito'])),df_real_predito['predito'], 'g--')\n",
        "plt.plot(range(len(df_real_predito['real'])),df_real_predito['real'], 'b')\n",
        "# plt.xlim(0,200)\n",
        "# plt.ylim(40,200)\n",
        "plt.show()"
      ],
      "id": "6ZbQrolyopyN",
      "execution_count": 35,
      "outputs": [
        {
          "output_type": "display_data",
          "data": {
            "image/png": "[encoded data removed]",
            "text/plain": [
              "<Figure size 1080x360 with 1 Axes>"
            ]
          },
          "metadata": {
            "needs_background": "light"
          }
        }
      ]
    },
    {
      "cell_type": "code",
      "metadata": {
        "id": "J3RkYbfSoq1k",
        "colab": {
          "base_uri": "https://localhost:8080/",
          "height": 342
        },
        "outputId": "db58dece-182f-4dce-9c97-3b8ae20b4621"
      },
      "source": [
        "plt.scatter(df_real_predito['real'],df_real_predito['predito'])\n",
        "\n",
        "plt.xlabel('Real')\n",
        "plt.ylabel('Predito')\n",
        "\n",
        "plt.show()\n",
        "print('rmse=',sqrt(mean_squared_error(df_real_predito['real'].array,df_real_predito['predito'].array)))\n",
        "print('mae=',mean_absolute_error(df_real_predito['real'].array,df_real_predito['predito'].array))\n",
        "print('r2=',r2_score(df_real_predito['real'].array,df_real_predito['predito'].array))"
      ],
      "id": "J3RkYbfSoq1k",
      "execution_count": 36,
      "outputs": [
        {
          "output_type": "display_data",
          "data": {
            "image/png": "[encoded data removed]",
            "text/plain": [
              "<Figure size 432x288 with 1 Axes>"
            ]
          },
          "metadata": {
            "needs_background": "light"
          }
        },
        {
          "output_type": "stream",
          "name": "stdout",
          "text": [
            "rmse= 54911895.716059715\n",
            "mae= 34334619.600022\n",
            "r2= -0.3388542252163982\n"
          ]
        }
      ]
    }
  ]
}